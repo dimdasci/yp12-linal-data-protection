{
 "cells": [
  {
   "cell_type": "markdown",
   "metadata": {
    "toc": true
   },
   "source": [
    "<h1>Содержание<span class=\"tocSkip\"></span></h1>\n",
    "<div class=\"toc\"><ul class=\"toc-item\"><li><span><a href=\"#Подготовка-кода\" data-toc-modified-id=\"Подготовка-кода-1\"><span class=\"toc-item-num\">1&nbsp;&nbsp;</span>Подготовка кода</a></span><ul class=\"toc-item\"><li><span><a href=\"#Загрузка-библиотек\" data-toc-modified-id=\"Загрузка-библиотек-1.1\"><span class=\"toc-item-num\">1.1&nbsp;&nbsp;</span>Загрузка библиотек</a></span></li></ul></li><li><span><a href=\"#Загрузка-данных\" data-toc-modified-id=\"Загрузка-данных-2\"><span class=\"toc-item-num\">2&nbsp;&nbsp;</span>Загрузка данных</a></span></li><li><span><a href=\"#Умножение-матриц\" data-toc-modified-id=\"Умножение-матриц-3\"><span class=\"toc-item-num\">3&nbsp;&nbsp;</span>Умножение матриц</a></span><ul class=\"toc-item\"><li><span><a href=\"#Теоретическое-обоснование\" data-toc-modified-id=\"Теоретическое-обоснование-3.1\"><span class=\"toc-item-num\">3.1&nbsp;&nbsp;</span>Теоретическое обоснование</a></span><ul class=\"toc-item\"><li><span><a href=\"#Решение-задачи-для-матрицы-признков\" data-toc-modified-id=\"Решение-задачи-для-матрицы-признков-3.1.1\"><span class=\"toc-item-num\">3.1.1&nbsp;&nbsp;</span>Решение задачи для матрицы признков</a></span></li><li><span><a href=\"#Решение-задачи-для-произведения-матриц\" data-toc-modified-id=\"Решение-задачи-для-произведения-матриц-3.1.2\"><span class=\"toc-item-num\">3.1.2&nbsp;&nbsp;</span>Решение задачи для произведения матриц</a></span></li><li><span><a href=\"#Сравнение-вариантов-умножения-матриц\" data-toc-modified-id=\"Сравнение-вариантов-умножения-матриц-3.1.3\"><span class=\"toc-item-num\">3.1.3&nbsp;&nbsp;</span>Сравнение вариантов умножения матриц</a></span></li><li><span><a href=\"#Вывод\" data-toc-modified-id=\"Вывод-3.1.4\"><span class=\"toc-item-num\">3.1.4&nbsp;&nbsp;</span>Вывод</a></span></li></ul></li><li><span><a href=\"#Вспомогательные-материалы\" data-toc-modified-id=\"Вспомогательные-материалы-3.2\"><span class=\"toc-item-num\">3.2&nbsp;&nbsp;</span>Вспомогательные материалы</a></span></li><li><span><a href=\"#Преобразование\" data-toc-modified-id=\"Преобразование-3.3\"><span class=\"toc-item-num\">3.3&nbsp;&nbsp;</span>Преобразование</a></span></li></ul></li><li><span><a href=\"#Алгоритм-преобразования\" data-toc-modified-id=\"Алгоритм-преобразования-4\"><span class=\"toc-item-num\">4&nbsp;&nbsp;</span>Алгоритм преобразования</a></span></li><li><span><a href=\"#Проверка-алгоритма\" data-toc-modified-id=\"Проверка-алгоритма-5\"><span class=\"toc-item-num\">5&nbsp;&nbsp;</span>Проверка алгоритма</a></span></li><li><span><a href=\"#Чек-лист-проверки\" data-toc-modified-id=\"Чек-лист-проверки-6\"><span class=\"toc-item-num\">6&nbsp;&nbsp;</span>Чек-лист проверки</a></span></li></ul></div>"
   ]
  },
  {
   "cell_type": "markdown",
   "metadata": {},
   "source": [
    "# Защита персональных данных клиентов"
   ]
  },
  {
   "cell_type": "markdown",
   "metadata": {},
   "source": [
    "Наша задача разработать метод защиты данных клиентов, такой, чтобы:\n",
    "- по преобразованным данным было сложно восстановить персональную информацию. \n",
    "- при преобразовании качесво моделей машинного обучения не ухудшилось.\n",
    "\n",
    "Требуется обосновать корректность работы метода преобразования. Проверку работы медота сделаем для алгоритма линейной регресии. \n",
    "\n",
    "Подбор наилучшей модели в границы проекта не входит. "
   ]
  },
  {
   "cell_type": "markdown",
   "metadata": {},
   "source": [
    "## Подготовка кода"
   ]
  },
  {
   "cell_type": "markdown",
   "metadata": {},
   "source": [
    "### Загрузка библиотек"
   ]
  },
  {
   "cell_type": "code",
   "execution_count": 1,
   "metadata": {},
   "outputs": [],
   "source": [
    "from os import path\n",
    "\n",
    "import pandas as pd\n",
    "import numpy as np"
   ]
  },
  {
   "cell_type": "markdown",
   "metadata": {},
   "source": [
    "## Загрузка данных"
   ]
  },
  {
   "cell_type": "code",
   "execution_count": 8,
   "metadata": {},
   "outputs": [
    {
     "data": {
      "text/plain": [
       "(5000, 5)"
      ]
     },
     "execution_count": 8,
     "metadata": {},
     "output_type": "execute_result"
    }
   ],
   "source": [
    "data_remote_url = 'https://code.s3.yandex.net/datasets/insurance.csv'\n",
    "data_local_path = path.join('.', 'data', 'insurance.csv')\n",
    "\n",
    "if path.isfile(data_local_path):\n",
    "    data = pd.read_csv(data_local_path)\n",
    "else:\n",
    "    data = pd.read_csv(data_remote_url)\n",
    "    if path.exists(path.dirname(data_local_path)):\n",
    "        data.to_csv(data_local_path)\n",
    "        \n",
    "data.shape"
   ]
  },
  {
   "cell_type": "markdown",
   "metadata": {},
   "source": [
    "## Умножение матриц"
   ]
  },
  {
   "cell_type": "code",
   "execution_count": 3,
   "metadata": {},
   "outputs": [
    {
     "data": {
      "text/plain": [
       "(5, 5)"
      ]
     },
     "execution_count": 3,
     "metadata": {},
     "output_type": "execute_result"
    }
   ],
   "source": [
    "X = np.arange(25).reshape(5,5)\n",
    "X.shape"
   ]
  },
  {
   "cell_type": "code",
   "execution_count": 6,
   "metadata": {},
   "outputs": [
    {
     "data": {
      "text/plain": [
       "array([[False, False, False, False, False],\n",
       "       [False, False, False, False, False],\n",
       "       [False, False, False,  True, False],\n",
       "       [False, False,  True, False, False],\n",
       "       [False, False, False, False, False]])"
      ]
     },
     "execution_count": 6,
     "metadata": {},
     "output_type": "execute_result"
    }
   ],
   "source": [
    "X.T @ X == X @ X.T"
   ]
  },
  {
   "cell_type": "code",
   "execution_count": 7,
   "metadata": {},
   "outputs": [
    {
     "data": {
      "text/plain": [
       "array([[ 0,  1,  2,  3,  4],\n",
       "       [ 5,  6,  7,  8,  9],\n",
       "       [10, 11, 12, 13, 14],\n",
       "       [15, 16, 17, 18, 19],\n",
       "       [20, 21, 22, 23, 24]])"
      ]
     },
     "execution_count": 7,
     "metadata": {},
     "output_type": "execute_result"
    }
   ],
   "source": [
    "X"
   ]
  },
  {
   "cell_type": "code",
   "execution_count": 8,
   "metadata": {},
   "outputs": [
    {
     "data": {
      "text/plain": [
       "array([[ 0,  5, 10, 15, 20],\n",
       "       [ 1,  6, 11, 16, 21],\n",
       "       [ 2,  7, 12, 17, 22],\n",
       "       [ 3,  8, 13, 18, 23],\n",
       "       [ 4,  9, 14, 19, 24]])"
      ]
     },
     "execution_count": 8,
     "metadata": {},
     "output_type": "execute_result"
    }
   ],
   "source": [
    "X.T"
   ]
  },
  {
   "cell_type": "code",
   "execution_count": 9,
   "metadata": {},
   "outputs": [
    {
     "data": {
      "text/plain": [
       "array([[  30,   80,  130,  180,  230],\n",
       "       [  80,  255,  430,  605,  780],\n",
       "       [ 130,  430,  730, 1030, 1330],\n",
       "       [ 180,  605, 1030, 1455, 1880],\n",
       "       [ 230,  780, 1330, 1880, 2430]])"
      ]
     },
     "execution_count": 9,
     "metadata": {},
     "output_type": "execute_result"
    }
   ],
   "source": [
    "X @ X.T"
   ]
  },
  {
   "cell_type": "code",
   "execution_count": 10,
   "metadata": {},
   "outputs": [
    {
     "data": {
      "text/plain": [
       "array([[ 750,  800,  850,  900,  950],\n",
       "       [ 800,  855,  910,  965, 1020],\n",
       "       [ 850,  910,  970, 1030, 1090],\n",
       "       [ 900,  965, 1030, 1095, 1160],\n",
       "       [ 950, 1020, 1090, 1160, 1230]])"
      ]
     },
     "execution_count": 10,
     "metadata": {},
     "output_type": "execute_result"
    }
   ],
   "source": [
    "X.T @ X"
   ]
  },
  {
   "cell_type": "markdown",
   "metadata": {},
   "source": [
    "В этом задании вы можете записывать формулы в *Jupyter Notebook.*\n",
    "\n",
    "Чтобы записать формулу внутри текста, окружите её символами доллара \\\\$; если снаружи —  двойными символами \\\\$\\\\$. Эти формулы записываются на языке вёрстки *LaTeX.* \n",
    "\n",
    "Для примера мы записали формулы линейной регрессии. Можете их скопировать и отредактировать, чтобы решить задачу.\n",
    "\n",
    "Работать в *LaTeX* необязательно."
   ]
  },
  {
   "cell_type": "markdown",
   "metadata": {},
   "source": [
    "Обозначения:\n",
    "\n",
    "- $X$ — матрица признаков (нулевой столбец состоит из единиц)\n",
    "\n",
    "- $y$ — вектор целевого признака\n",
    "\n",
    "- $P$ — матрица, на которую умножаются признаки\n",
    "\n",
    "- $w$ — вектор весов линейной регрессии (нулевой элемент равен сдвигу)"
   ]
  },
  {
   "cell_type": "markdown",
   "metadata": {},
   "source": [
    "Предсказания:\n",
    "\n",
    "$$\n",
    "a = Xw\n",
    "$$\n",
    "\n",
    "Задача обучения:\n",
    "\n",
    "$$\n",
    "w = \\arg\\min_w \\mathit{MSE}(Xw, y)\n",
    "$$\n",
    "\n",
    "Формула обучения:\n",
    "\n",
    "$$\n",
    "w = (X^T X)^{-1} X^T y\n",
    "$$"
   ]
  },
  {
   "cell_type": "markdown",
   "metadata": {},
   "source": [
    "**Ответ:** ...\n",
    "\n",
    "**Обоснование:** ..."
   ]
  },
  {
   "cell_type": "markdown",
   "metadata": {},
   "source": [
    "### Теоретическое обоснование"
   ]
  },
  {
   "cell_type": "markdown",
   "metadata": {},
   "source": [
    "В данной задаче мы рассматриваем алгоритм линейной регресии, который предполагает, что между независимыми переменными и зависимой переменной существует линейная зависимость. \n",
    "\n",
    "Введем обозначения:\n",
    "- $k, k \\in \\mathbb{N}, k > 0$ — количество независимых переменных,\n",
    "- $m, m \\in \\mathbb{N}, m > k$ — количество наблюдений,\n",
    "- $n = k + 1$,\n",
    "- $X, X \\in \\mathbb{R}^{m \\times n}$ — матрица независимых переменных, у которой первый столбец содержит 1 для всех наблюдений,\n",
    "- $y, y \\in \\mathbb{R}^m$ — вектор значений зависимой переменной,\n",
    "- $w, w \\in \\mathbb{R}^n$ — вектор весов линейной регресии, нулевой элемент равен сдвигу.\n",
    "\n",
    "Тогда, принимая, что между $X$ и $y$ есть линейная зависимость, определяемая вектором $w$, верно равенство:\n",
    "\n",
    "$y = Xw$ "
   ]
  },
  {
   "cell_type": "markdown",
   "metadata": {},
   "source": [
    "#### Решение задачи для матрицы признков"
   ]
  },
  {
   "cell_type": "markdown",
   "metadata": {},
   "source": [
    "Из этого равенства мы можем расчитать значения вектора $w$:\n",
    "1. умножим слева обе части уравнения на $X^T$, чтобы получить квадратную матрицу $X^T X$ размером $m \\times n$\n",
    "    - $X^T y = X^T X w$ \n",
    "2. если $(X^T X)$ обратима, то есть существует такая матрица $(X^T X)^{-1}$, что $(X^T X)^{-1} (X^T X) = E$, то умножим слева обе части уравнения на $(X^T X)^{-1}$ и получим\n",
    "    - $(X^T X)^{-1} X^T y = (X^T X)^{-1} (X^T X) w = w$.\n",
    "    \n",
    "Мы получили формулу обучения $w = (X^T X)^{-1} X^T y$"
   ]
  },
  {
   "cell_type": "markdown",
   "metadata": {},
   "source": [
    "#### Решение задачи для произведения матриц"
   ]
  },
  {
   "cell_type": "markdown",
   "metadata": {},
   "source": [
    "У нас стоит задача защитить значения $X$ от передачи сервису обучения и прогнозирования. \n",
    "\n",
    "Рассмотрим подход, когда мы умножаем значения $X$ на матрицу $P, P \\in \\mathbb{R}^{k \\times l}$ перед отравкой в сервис обучения и прогнозирования. Поскольку умножение матриц не коммутативно, у нас может быть два варианта:\n",
    "\n",
    "$y = (P X) w$\n",
    "\n",
    "$y = (X P) w$\n",
    "\n",
    "Мы знаем, что размер $X$ — $m \\times n$, размер $w$ — $1 \\times n$, размер $y$ — $1 \\times m$, тогда размер $(P X)$ и $(X P)$ должен быть $m \\times n$ и \n",
    "- в первом случае размер $P$ — $m \\times m$\n",
    "- во втором случае размер $P$ — $n \\times n$\n",
    "\n",
    "Обозначим произведение матриц $X$ и $P$ как $Q$.\n",
    "\n",
    "Тогда имеем уравнение\n",
    "\n",
    "$y = Qw$,\n",
    "\n",
    "которое решаем аналогичным для $y = Xw$ и получаем \n",
    "\n",
    "$w = (Q^T Q)^{-1} Q^T y$, \n",
    "\n",
    "где $Q = PX, P \\in \\mathbb{R}^{m \\times m}$ или $Q = XP, P \\in \\mathbb{R}^{n \\times n}$"
   ]
  },
  {
   "cell_type": "markdown",
   "metadata": {},
   "source": [
    "#### Сравнение вариантов умножения матриц"
   ]
  },
  {
   "cell_type": "markdown",
   "metadata": {},
   "source": [
    "Таким образом мы показали, что если мы умножим матрицу $X$ на матрицу $P$, и если произведение матриц будет обратимым, то мы можем решить уравнение для произведения матриц тем же способом, что и для матрицы признаков. \n",
    "\n",
    "Так мы доказали, что можем использовать произведение матриц для обучения и предсказаний с тем же результатом, что и для матрицы признаков.  \n",
    "\n",
    "Мы можем умножить матрицу признаков $X$ как слева, так и справа. Оценим ресурсы.\n",
    "\n",
    "Умножение матриц рамеров $m \\times k$ на $k \\times m$ стоит $ 2mnk $ flops. Тогда\n",
    "- умножение слева $P X$ будет стоить $2 m m n = 2m^2n $\n",
    "- умножение справа $X P$ будет стоить $2 m n n = 2mn^2 $\n",
    "\n",
    "По условию $m \\ge n$, тогда $2m^2n \\ge 2mn^2$ и второй вариант — умножение справа — предпочтительный."
   ]
  },
  {
   "cell_type": "markdown",
   "metadata": {},
   "source": [
    "#### Вывод"
   ]
  },
  {
   "cell_type": "markdown",
   "metadata": {},
   "source": [
    "Мы показали, что если между признаками и целевым признаком есть линейная зависимость, и обратимы матрицы $(X^T X)$ и матрицы $(Q^T Q)$, где $Q = X P$, и $X, Q \\in \\mathbb{R}^{m \\times n}, P \\in \\mathbb{R}^{n \\times n}$, то решение для вычисления коэффициентов линейной регрессии идентично для $X$ и $Q$, а значит мы можем использовать произведение матриц для обучения и прогнозирования, не раскрывая данных клиентов. "
   ]
  },
  {
   "cell_type": "markdown",
   "metadata": {},
   "source": [
    "### Вспомогательные материалы"
   ]
  },
  {
   "cell_type": "markdown",
   "metadata": {},
   "source": [
    "Подставим значение $w$ в формулу линейной регресси:\n",
    "\n",
    "$ a = X (X^T X)^{-1} X^T y $\n",
    "\n",
    "При условии, что $X^T$ — обратимая матрица, из определения обратимой матрицы следует:\n",
    "\n",
    "$ (X^T)^{-1} X^T = I $\n",
    "\n",
    "Из определения идентичной матрицы, следует, что умножение матрицы на идентичную дает матрицу:\n",
    "\n",
    "$ A I = I A = A $\n",
    "\n",
    "Тогда мы можем записать \n",
    "\n",
    "$ a = X (X^T X)^{-1} X^T y = I X (X^T X)^{-1} X^T y = (X^T)^{-1} X^T X (X^T X)^{-1} X^T y $\n",
    "\n",
    "Из свойств произведения матриц мы знаем, что произведение ассоциативно, то есть \n",
    "\n",
    "$ (AB)C = A(BC) = ABC $\n",
    "\n",
    "Тогда \n",
    "\n",
    "$ a = (X^T)^{-1} (X^T X) (X^T X)^{-1} X^T y = (X^T)^{-1} ((X^T X) (X^T X)^{-1}) X^T y $\n",
    "\n",
    "По определению обратной матрицы \n",
    "\n",
    "$ ((X^T X) (X^T X)^{-1}) = I $\n",
    "\n",
    "Тогда \n",
    "\n",
    "$ a = (X^T)^{-1} (I) X^T y = ((X^T)^{-1} X^T) y $\n",
    "\n",
    "$ (X^T)^{-1} X^T) = I $\n",
    "\n",
    "Тогда \n",
    "\n",
    "$ a = I y = y $"
   ]
  },
  {
   "cell_type": "markdown",
   "metadata": {},
   "source": [
    "### Преобразование"
   ]
  },
  {
   "cell_type": "markdown",
   "metadata": {},
   "source": [
    "Покажем, что для $ X \\in \\mathbb{R}^{m \\times n}, Z \\in \\mathbb{R}^{m \\times m}$ и $Z^{-1}Z = E$, $a, y \\in \\mathbb{R}^m$ и $w \\in \\mathbb{R}^n$, таком, что \n",
    "\n",
    "$ w(X) = (X^T X)^{-1} X^T y $\n",
    "\n",
    "$ a = X w(X) = Z X w(Z X) = y $"
   ]
  },
  {
   "cell_type": "markdown",
   "metadata": {},
   "source": [
    "Нам понадобятся следующие свойства матриц:\n",
    "- $ A A^{-1} = A^{-1} A = E $\n",
    "- $ (A B)^{-1} = B^{-1} A^{-1} $\n",
    "- $(A B)^T = B^T A^T$"
   ]
  },
  {
   "cell_type": "code",
   "execution_count": null,
   "metadata": {},
   "outputs": [],
   "source": []
  },
  {
   "cell_type": "markdown",
   "metadata": {},
   "source": [
    "## Алгоритм преобразования"
   ]
  },
  {
   "cell_type": "markdown",
   "metadata": {},
   "source": [
    "**Алгоритм**\n",
    "\n",
    "..."
   ]
  },
  {
   "cell_type": "markdown",
   "metadata": {},
   "source": [
    "**Обоснование**\n",
    "\n",
    "..."
   ]
  },
  {
   "cell_type": "markdown",
   "metadata": {},
   "source": [
    "## Проверка алгоритма"
   ]
  },
  {
   "cell_type": "code",
   "execution_count": null,
   "metadata": {},
   "outputs": [],
   "source": []
  },
  {
   "cell_type": "markdown",
   "metadata": {},
   "source": [
    "## Чек-лист проверки"
   ]
  },
  {
   "cell_type": "markdown",
   "metadata": {},
   "source": [
    "Поставьте 'x' в выполненных пунктах. Далее нажмите Shift+Enter."
   ]
  },
  {
   "cell_type": "markdown",
   "metadata": {},
   "source": [
    "- [x]  Jupyter Notebook открыт\n",
    "- [ ]  Весь код выполняется без ошибок\n",
    "- [ ]  Ячейки с кодом расположены в порядке исполнения\n",
    "- [ ]  Выполнен шаг 1: данные загружены\n",
    "- [ ]  Выполнен шаг 2: получен ответ на вопрос об умножении матриц\n",
    "    - [ ]  Указан правильный вариант ответа\n",
    "    - [ ]  Вариант обоснован\n",
    "- [ ]  Выполнен шаг 3: предложен алгоритм преобразования\n",
    "    - [ ]  Алгоритм описан\n",
    "    - [ ]  Алгоритм обоснован\n",
    "- [ ]  Выполнен шаг 4: алгоритм проверен\n",
    "    - [ ]  Алгоритм реализован\n",
    "    - [ ]  Проведено сравнение качества моделей до и после преобразования"
   ]
  },
  {
   "cell_type": "code",
   "execution_count": null,
   "metadata": {},
   "outputs": [],
   "source": []
  }
 ],
 "metadata": {
  "kernelspec": {
   "display_name": "Python 3 (ipykernel)",
   "language": "python",
   "name": "python3"
  },
  "language_info": {
   "codemirror_mode": {
    "name": "ipython",
    "version": 3
   },
   "file_extension": ".py",
   "mimetype": "text/x-python",
   "name": "python",
   "nbconvert_exporter": "python",
   "pygments_lexer": "ipython3",
   "version": "3.9.13"
  },
  "toc": {
   "base_numbering": 1,
   "nav_menu": {},
   "number_sections": true,
   "sideBar": true,
   "skip_h1_title": true,
   "title_cell": "Содержание",
   "title_sidebar": "Contents",
   "toc_cell": true,
   "toc_position": {},
   "toc_section_display": true,
   "toc_window_display": true
  }
 },
 "nbformat": 4,
 "nbformat_minor": 2
}
