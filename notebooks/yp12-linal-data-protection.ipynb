{
 "cells": [
  {
   "cell_type": "markdown",
   "metadata": {
    "toc": true
   },
   "source": [
    "<h1>Содержание<span class=\"tocSkip\"></span></h1>\n",
    "<div class=\"toc\"><ul class=\"toc-item\"><li><span><a href=\"#Загрузка-библиотек\" data-toc-modified-id=\"Загрузка-библиотек-1\"><span class=\"toc-item-num\">1&nbsp;&nbsp;</span>Загрузка библиотек</a></span></li><li><span><a href=\"#Загрузка-данных\" data-toc-modified-id=\"Загрузка-данных-2\"><span class=\"toc-item-num\">2&nbsp;&nbsp;</span>Загрузка данных</a></span><ul class=\"toc-item\"><li><span><a href=\"#Обзор-данных\" data-toc-modified-id=\"Обзор-данных-2.1\"><span class=\"toc-item-num\">2.1&nbsp;&nbsp;</span>Обзор данных</a></span></li><li><span><a href=\"#Подготовка-признаков\" data-toc-modified-id=\"Подготовка-признаков-2.2\"><span class=\"toc-item-num\">2.2&nbsp;&nbsp;</span>Подготовка признаков</a></span></li><li><span><a href=\"#Вывод\" data-toc-modified-id=\"Вывод-2.3\"><span class=\"toc-item-num\">2.3&nbsp;&nbsp;</span>Вывод</a></span></li></ul></li><li><span><a href=\"#Умножение-матриц\" data-toc-modified-id=\"Умножение-матриц-3\"><span class=\"toc-item-num\">3&nbsp;&nbsp;</span>Умножение матриц</a></span><ul class=\"toc-item\"><li><span><a href=\"#Теоретическое-обоснование\" data-toc-modified-id=\"Теоретическое-обоснование-3.1\"><span class=\"toc-item-num\">3.1&nbsp;&nbsp;</span>Теоретическое обоснование</a></span><ul class=\"toc-item\"><li><span><a href=\"#Формулировка-задачи-обучения\" data-toc-modified-id=\"Формулировка-задачи-обучения-3.1.1\"><span class=\"toc-item-num\">3.1.1&nbsp;&nbsp;</span>Формулировка задачи обучения</a></span></li><li><span><a href=\"#Решение-задачи-для-матрицы-признаков\" data-toc-modified-id=\"Решение-задачи-для-матрицы-признаков-3.1.2\"><span class=\"toc-item-num\">3.1.2&nbsp;&nbsp;</span>Решение задачи для матрицы признаков</a></span></li><li><span><a href=\"#Решение-задачи-для-произведения-матриц\" data-toc-modified-id=\"Решение-задачи-для-произведения-матриц-3.1.3\"><span class=\"toc-item-num\">3.1.3&nbsp;&nbsp;</span>Решение задачи для произведения матриц</a></span></li><li><span><a href=\"#Сравнение-вариантов-умножения-матриц\" data-toc-modified-id=\"Сравнение-вариантов-умножения-матриц-3.1.4\"><span class=\"toc-item-num\">3.1.4&nbsp;&nbsp;</span><del>Сравнение вариантов умножения матриц</del></a></span></li><li><span><a href=\"#Вывод\" data-toc-modified-id=\"Вывод-3.1.5\"><span class=\"toc-item-num\">3.1.5&nbsp;&nbsp;</span>Вывод</a></span></li></ul></li><li><span><a href=\"#Проверка-на-практике\" data-toc-modified-id=\"Проверка-на-практике-3.2\"><span class=\"toc-item-num\">3.2&nbsp;&nbsp;</span>Проверка на практике</a></span><ul class=\"toc-item\"><li><span><a href=\"#Качество-предсказания-на-оригинальных-признаках\" data-toc-modified-id=\"Качество-предсказания-на-оригинальных-признаках-3.2.1\"><span class=\"toc-item-num\">3.2.1&nbsp;&nbsp;</span>Качество предсказания на оригинальных признаках</a></span></li><li><span><a href=\"#Качество-предсказания-на-защищенных-призканах\" data-toc-modified-id=\"Качество-предсказания-на-защищенных-призканах-3.2.2\"><span class=\"toc-item-num\">3.2.2&nbsp;&nbsp;</span>Качество предсказания на защищенных призканах</a></span></li></ul></li><li><span><a href=\"#Вывод\" data-toc-modified-id=\"Вывод-3.3\"><span class=\"toc-item-num\">3.3&nbsp;&nbsp;</span>Вывод</a></span></li></ul></li><li><span><a href=\"#Алгоритм-преобразования\" data-toc-modified-id=\"Алгоритм-преобразования-4\"><span class=\"toc-item-num\">4&nbsp;&nbsp;</span>Алгоритм преобразования</a></span></li><li><span><a href=\"#Проверка-алгоритма\" data-toc-modified-id=\"Проверка-алгоритма-5\"><span class=\"toc-item-num\">5&nbsp;&nbsp;</span>Проверка алгоритма</a></span><ul class=\"toc-item\"><li><span><a href=\"#Обучение\" data-toc-modified-id=\"Обучение-5.1\"><span class=\"toc-item-num\">5.1&nbsp;&nbsp;</span>Обучение</a></span></li><li><span><a href=\"#Тестирование-и-сравнение\" data-toc-modified-id=\"Тестирование-и-сравнение-5.2\"><span class=\"toc-item-num\">5.2&nbsp;&nbsp;</span>Тестирование и сравнение</a></span></li><li><span><a href=\"#Сравнение-результатов\" data-toc-modified-id=\"Сравнение-результатов-5.3\"><span class=\"toc-item-num\">5.3&nbsp;&nbsp;</span>Сравнение результатов</a></span></li></ul></li><li><span><a href=\"#Вывод\" data-toc-modified-id=\"Вывод-6\"><span class=\"toc-item-num\">6&nbsp;&nbsp;</span>Вывод</a></span></li><li><span><a href=\"#Чек-лист-проверки\" data-toc-modified-id=\"Чек-лист-проверки-7\"><span class=\"toc-item-num\">7&nbsp;&nbsp;</span>Чек-лист проверки</a></span></li><li><span><a href=\"#Финальные-комментарии-ревьюера\" data-toc-modified-id=\"Финальные-комментарии-ревьюера-8\"><span class=\"toc-item-num\">8&nbsp;&nbsp;</span>Финальные комментарии ревьюера</a></span></li></ul></div>"
   ]
  },
  {
   "cell_type": "markdown",
   "metadata": {},
   "source": [
    "# Защита персональных данных клиентов"
   ]
  },
  {
   "cell_type": "markdown",
   "metadata": {},
   "source": [
    "Наша задача разработать метод защиты данных клиентов, такой, чтобы:\n",
    "- по преобразованным данным было сложно восстановить персональную информацию. \n",
    "- при преобразовании качесво моделей машинного обучения не ухудшилось.\n",
    "\n",
    "Требуется обосновать корректность работы метода преобразования. Проверку работы медота сделаем для алгоритма линейной регресии. \n",
    "\n",
    "Подбор наилучшей модели в границы проекта не входит. "
   ]
  },
  {
   "cell_type": "markdown",
   "metadata": {},
   "source": [
    "## Загрузка библиотек"
   ]
  },
  {
   "cell_type": "code",
   "execution_count": 1,
   "metadata": {},
   "outputs": [],
   "source": [
    "from os import path\n",
    "\n",
    "import pandas as pd\n",
    "import numpy as np"
   ]
  },
  {
   "cell_type": "code",
   "execution_count": 2,
   "metadata": {},
   "outputs": [],
   "source": [
    "import matplotlib.pyplot as plt\n",
    "%matplotlib inline\n",
    "%config InlineBackend.figure_format='retina'\n",
    "import seaborn as sns"
   ]
  },
  {
   "cell_type": "code",
   "execution_count": 3,
   "metadata": {},
   "outputs": [],
   "source": [
    "from sklearn.model_selection import train_test_split\n",
    "from sklearn.linear_model import LinearRegression\n",
    "from sklearn.metrics import mean_squared_error, r2_score"
   ]
  },
  {
   "cell_type": "code",
   "execution_count": 4,
   "metadata": {},
   "outputs": [],
   "source": [
    "RANDOM_STATE = np.random.RandomState(2575215) "
   ]
  },
  {
   "cell_type": "markdown",
   "metadata": {},
   "source": [
    "## Загрузка данных"
   ]
  },
  {
   "cell_type": "code",
   "execution_count": 5,
   "metadata": {},
   "outputs": [
    {
     "data": {
      "text/plain": [
       "(5000, 5)"
      ]
     },
     "execution_count": 5,
     "metadata": {},
     "output_type": "execute_result"
    }
   ],
   "source": [
    "data_remote_url = 'https://code.s3.yandex.net/datasets/insurance.csv'\n",
    "data_local_path = path.join('.', 'data', 'insurance.csv')\n",
    "\n",
    "if path.isfile(data_local_path):\n",
    "    data = pd.read_csv(data_local_path, index_col=0)\n",
    "else:\n",
    "    data = pd.read_csv(data_remote_url)\n",
    "    if path.exists(path.dirname(data_local_path)):\n",
    "        data.to_csv(data_local_path)\n",
    "        \n",
    "data.shape"
   ]
  },
  {
   "cell_type": "markdown",
   "metadata": {},
   "source": [
    "Мы загрузили датасет, содержащий 5000 строк и 5 столбцов."
   ]
  },
  {
   "cell_type": "markdown",
   "metadata": {},
   "source": [
    "### Обзор данных"
   ]
  },
  {
   "cell_type": "code",
   "execution_count": 6,
   "metadata": {},
   "outputs": [
    {
     "name": "stdout",
     "output_type": "stream",
     "text": [
      "<class 'pandas.core.frame.DataFrame'>\n",
      "RangeIndex: 5000 entries, 0 to 4999\n",
      "Data columns (total 5 columns):\n",
      " #   Column             Non-Null Count  Dtype  \n",
      "---  ------             --------------  -----  \n",
      " 0   Пол                5000 non-null   int64  \n",
      " 1   Возраст            5000 non-null   float64\n",
      " 2   Зарплата           5000 non-null   float64\n",
      " 3   Члены семьи        5000 non-null   int64  \n",
      " 4   Страховые выплаты  5000 non-null   int64  \n",
      "dtypes: float64(2), int64(3)\n",
      "memory usage: 195.4 KB\n"
     ]
    }
   ],
   "source": [
    "data.info()"
   ]
  },
  {
   "cell_type": "markdown",
   "metadata": {},
   "source": [
    "От закзачика мы значем, что в датасете должны быть:\n",
    "- признаки — это пол, возраст и зарплата застрахованного, количество членов его семьи.\n",
    "- целевой признак — количество страховых выплат клиенту за последние 5 лет.\n",
    "\n",
    "Мы видим, что загржуенный датасет содержит признаки и целевой признак, данные не содержат пропусков, типы данных соответствуют смыслу признаков."
   ]
  },
  {
   "cell_type": "markdown",
   "metadata": {},
   "source": [
    "Проверим дубликаты."
   ]
  },
  {
   "cell_type": "code",
   "execution_count": 7,
   "metadata": {},
   "outputs": [
    {
     "data": {
      "text/plain": [
       "153"
      ]
     },
     "execution_count": 7,
     "metadata": {},
     "output_type": "execute_result"
    }
   ],
   "source": [
    "data.duplicated().sum()"
   ]
  },
  {
   "cell_type": "code",
   "execution_count": 8,
   "metadata": {},
   "outputs": [
    {
     "data": {
      "text/plain": [
       "(4847, 5)"
      ]
     },
     "execution_count": 8,
     "metadata": {},
     "output_type": "execute_result"
    }
   ],
   "source": [
    "data.drop_duplicates(inplace=True)\n",
    "data.shape"
   ]
  },
  {
   "cell_type": "code",
   "execution_count": 9,
   "metadata": {},
   "outputs": [
    {
     "data": {
      "text/html": [
       "<div>\n",
       "<style scoped>\n",
       "    .dataframe tbody tr th:only-of-type {\n",
       "        vertical-align: middle;\n",
       "    }\n",
       "\n",
       "    .dataframe tbody tr th {\n",
       "        vertical-align: top;\n",
       "    }\n",
       "\n",
       "    .dataframe thead th {\n",
       "        text-align: right;\n",
       "    }\n",
       "</style>\n",
       "<table border=\"1\" class=\"dataframe\">\n",
       "  <thead>\n",
       "    <tr style=\"text-align: right;\">\n",
       "      <th></th>\n",
       "      <th>Пол</th>\n",
       "      <th>Возраст</th>\n",
       "      <th>Зарплата</th>\n",
       "      <th>Члены семьи</th>\n",
       "      <th>Страховые выплаты</th>\n",
       "    </tr>\n",
       "  </thead>\n",
       "  <tbody>\n",
       "    <tr>\n",
       "      <th>0</th>\n",
       "      <td>1</td>\n",
       "      <td>41.0</td>\n",
       "      <td>49600.0</td>\n",
       "      <td>1</td>\n",
       "      <td>0</td>\n",
       "    </tr>\n",
       "    <tr>\n",
       "      <th>1</th>\n",
       "      <td>0</td>\n",
       "      <td>46.0</td>\n",
       "      <td>38000.0</td>\n",
       "      <td>1</td>\n",
       "      <td>1</td>\n",
       "    </tr>\n",
       "    <tr>\n",
       "      <th>2</th>\n",
       "      <td>0</td>\n",
       "      <td>29.0</td>\n",
       "      <td>21000.0</td>\n",
       "      <td>0</td>\n",
       "      <td>0</td>\n",
       "    </tr>\n",
       "    <tr>\n",
       "      <th>3</th>\n",
       "      <td>0</td>\n",
       "      <td>21.0</td>\n",
       "      <td>41700.0</td>\n",
       "      <td>2</td>\n",
       "      <td>0</td>\n",
       "    </tr>\n",
       "    <tr>\n",
       "      <th>4</th>\n",
       "      <td>1</td>\n",
       "      <td>28.0</td>\n",
       "      <td>26100.0</td>\n",
       "      <td>0</td>\n",
       "      <td>0</td>\n",
       "    </tr>\n",
       "  </tbody>\n",
       "</table>\n",
       "</div>"
      ],
      "text/plain": [
       "   Пол  Возраст  Зарплата  Члены семьи  Страховые выплаты\n",
       "0    1     41.0   49600.0            1                  0\n",
       "1    0     46.0   38000.0            1                  1\n",
       "2    0     29.0   21000.0            0                  0\n",
       "3    0     21.0   41700.0            2                  0\n",
       "4    1     28.0   26100.0            0                  0"
      ]
     },
     "execution_count": 9,
     "metadata": {},
     "output_type": "execute_result"
    }
   ],
   "source": [
    "data.head()"
   ]
  },
  {
   "cell_type": "code",
   "execution_count": 10,
   "metadata": {},
   "outputs": [
    {
     "data": {
      "text/html": [
       "<div>\n",
       "<style scoped>\n",
       "    .dataframe tbody tr th:only-of-type {\n",
       "        vertical-align: middle;\n",
       "    }\n",
       "\n",
       "    .dataframe tbody tr th {\n",
       "        vertical-align: top;\n",
       "    }\n",
       "\n",
       "    .dataframe thead th {\n",
       "        text-align: right;\n",
       "    }\n",
       "</style>\n",
       "<table border=\"1\" class=\"dataframe\">\n",
       "  <thead>\n",
       "    <tr style=\"text-align: right;\">\n",
       "      <th></th>\n",
       "      <th>Пол</th>\n",
       "      <th>Возраст</th>\n",
       "      <th>Зарплата</th>\n",
       "      <th>Члены семьи</th>\n",
       "      <th>Страховые выплаты</th>\n",
       "    </tr>\n",
       "  </thead>\n",
       "  <tbody>\n",
       "    <tr>\n",
       "      <th>count</th>\n",
       "      <td>4847.000000</td>\n",
       "      <td>4847.000000</td>\n",
       "      <td>4847.000000</td>\n",
       "      <td>4847.000000</td>\n",
       "      <td>4847.000000</td>\n",
       "    </tr>\n",
       "    <tr>\n",
       "      <th>mean</th>\n",
       "      <td>0.498453</td>\n",
       "      <td>31.023932</td>\n",
       "      <td>39895.811842</td>\n",
       "      <td>1.203425</td>\n",
       "      <td>0.152259</td>\n",
       "    </tr>\n",
       "    <tr>\n",
       "      <th>std</th>\n",
       "      <td>0.500049</td>\n",
       "      <td>8.487995</td>\n",
       "      <td>9972.953985</td>\n",
       "      <td>1.098664</td>\n",
       "      <td>0.468934</td>\n",
       "    </tr>\n",
       "    <tr>\n",
       "      <th>min</th>\n",
       "      <td>0.000000</td>\n",
       "      <td>18.000000</td>\n",
       "      <td>5300.000000</td>\n",
       "      <td>0.000000</td>\n",
       "      <td>0.000000</td>\n",
       "    </tr>\n",
       "    <tr>\n",
       "      <th>25%</th>\n",
       "      <td>0.000000</td>\n",
       "      <td>24.000000</td>\n",
       "      <td>33200.000000</td>\n",
       "      <td>0.000000</td>\n",
       "      <td>0.000000</td>\n",
       "    </tr>\n",
       "    <tr>\n",
       "      <th>50%</th>\n",
       "      <td>0.000000</td>\n",
       "      <td>30.000000</td>\n",
       "      <td>40200.000000</td>\n",
       "      <td>1.000000</td>\n",
       "      <td>0.000000</td>\n",
       "    </tr>\n",
       "    <tr>\n",
       "      <th>75%</th>\n",
       "      <td>1.000000</td>\n",
       "      <td>37.000000</td>\n",
       "      <td>46600.000000</td>\n",
       "      <td>2.000000</td>\n",
       "      <td>0.000000</td>\n",
       "    </tr>\n",
       "    <tr>\n",
       "      <th>max</th>\n",
       "      <td>1.000000</td>\n",
       "      <td>65.000000</td>\n",
       "      <td>79000.000000</td>\n",
       "      <td>6.000000</td>\n",
       "      <td>5.000000</td>\n",
       "    </tr>\n",
       "  </tbody>\n",
       "</table>\n",
       "</div>"
      ],
      "text/plain": [
       "               Пол      Возраст      Зарплата  Члены семьи  Страховые выплаты\n",
       "count  4847.000000  4847.000000   4847.000000  4847.000000        4847.000000\n",
       "mean      0.498453    31.023932  39895.811842     1.203425           0.152259\n",
       "std       0.500049     8.487995   9972.953985     1.098664           0.468934\n",
       "min       0.000000    18.000000   5300.000000     0.000000           0.000000\n",
       "25%       0.000000    24.000000  33200.000000     0.000000           0.000000\n",
       "50%       0.000000    30.000000  40200.000000     1.000000           0.000000\n",
       "75%       1.000000    37.000000  46600.000000     2.000000           0.000000\n",
       "max       1.000000    65.000000  79000.000000     6.000000           5.000000"
      ]
     },
     "execution_count": 10,
     "metadata": {},
     "output_type": "execute_result"
    }
   ],
   "source": [
    "data.describe()"
   ]
  },
  {
   "cell_type": "markdown",
   "metadata": {},
   "source": [
    "Видим, что пол представлен двумя значениями 0 и 1, соотношение почти 50%. Возраст лежит в диапазоне от 18 до 65 лет, клиентская база банка явно имеет возрастные ограничения. Диапазон зарплат от 5300 до 79 тыс. 75% клиентов имеют не более 2 членов семьи. Также мы видим, что страховые выплаты просиходят редко: 75% клиентской базы не получали страховые выплаты."
   ]
  },
  {
   "cell_type": "markdown",
   "metadata": {},
   "source": [
    "Посмотрим на распределение значений."
   ]
  },
  {
   "cell_type": "code",
   "execution_count": 11,
   "metadata": {
    "scrolled": false
   },
   "outputs": [
    {
     "data": {
      "image/png": "[encoded data removed]",
      "text/plain": [
       "<Figure size 576x576 with 6 Axes>"
      ]
     },
     "metadata": {
      "image/png": {
       "height": 481,
       "width": 493
      },
      "needs_background": "light"
     },
     "output_type": "display_data"
    }
   ],
   "source": [
    "data.hist(bins=12, figsize=(8,8))\n",
    "plt.show()"
   ]
  },
  {
   "cell_type": "markdown",
   "metadata": {},
   "source": [
    "Мы видим, что у целевого признка значения больше 3 встречаются редко."
   ]
  },
  {
   "cell_type": "code",
   "execution_count": 12,
   "metadata": {},
   "outputs": [
    {
     "data": {
      "text/plain": [
       "0    4284\n",
       "1     423\n",
       "2     114\n",
       "3      18\n",
       "4       7\n",
       "5       1\n",
       "Name: Страховые выплаты, dtype: int64"
      ]
     },
     "execution_count": 12,
     "metadata": {},
     "output_type": "execute_result"
    }
   ],
   "source": [
    "data['Страховые выплаты'].value_counts()"
   ]
  },
  {
   "cell_type": "markdown",
   "metadata": {},
   "source": [
    "Значение 5 встречается всего 1 раз. Этого недостаточно, чтобы обучить и проверить модель. \n",
    "\n",
    "Учтем, что мы будем строить прогноз методом линейной регрессии, которая может экстраполировать прогноз. Тогда мы можем удалить объект с этим значением как несущественный для нашей задачи и нашего набора данных.\n",
    "\n",
    "Предварительно оценим коэффициент детерминации, рассчитанный для модели, обученной и протестированной без этого объекта и с этим объектом."
   ]
  },
  {
   "cell_type": "code",
   "execution_count": 13,
   "metadata": {},
   "outputs": [
    {
     "name": "stdout",
     "output_type": "stream",
     "text": [
      "\n",
      "R2 для всех объектов\t\t0.41849987510310205,\n",
      "R2 без объекта с 5 выплатами\t0.42759899118682754\n",
      "\n"
     ]
    }
   ],
   "source": [
    "# Подготовим обучающую и тестоввые выборки для всех объектов\n",
    "X = data.drop('Страховые выплаты', axis=1)\n",
    "y = data['Страховые выплаты']\n",
    "\n",
    "X_train, X_test, y_train, y_test = train_test_split(X, y, test_size=.2, \n",
    "                                                    random_state=RANDOM_STATE)\n",
    "\n",
    "# Отфильтруем объект со значением 5\n",
    "Xa = data[data['Страховые выплаты'] < 5]\n",
    "ya = Xa['Страховые выплаты']\n",
    "Xa = Xa.drop('Страховые выплаты', axis=1)\n",
    "\n",
    "Xa_train, Xa_test, ya_train, ya_test = train_test_split(Xa, ya, test_size=.2, \n",
    "                                                        random_state=RANDOM_STATE)\n",
    "\n",
    "m = LinearRegression()\n",
    "m.fit(X_train, y_train)\n",
    "p = m.predict(X_test)\n",
    "r2 = r2_score(y_test, p)\n",
    "\n",
    "ma = LinearRegression()\n",
    "ma.fit(Xa_train, ya_train)\n",
    "pa = ma.predict(Xa_test)\n",
    "r2a = r2_score(ya_test, pa)\n",
    "\n",
    "print(f\"\"\"\n",
    "R2 для всех объектов\\t\\t{r2},\n",
    "R2 без объекта с 5 выплатами\\t{r2a}\n",
    "\"\"\")"
   ]
  },
  {
   "cell_type": "markdown",
   "metadata": {},
   "source": [
    "Мы видим, что на данных с удаленным объектом с 5 выплатами значение несколько R2 больше. Значит объект можно удалить."
   ]
  },
  {
   "cell_type": "code",
   "execution_count": 14,
   "metadata": {},
   "outputs": [
    {
     "data": {
      "text/plain": [
       "(4846, 5)"
      ]
     },
     "execution_count": 14,
     "metadata": {},
     "output_type": "execute_result"
    }
   ],
   "source": [
    "data = data[data['Страховые выплаты'] < 5]\n",
    "data.shape"
   ]
  },
  {
   "cell_type": "markdown",
   "metadata": {},
   "source": [
    "Видим, что: \n",
    "- пол является бинарным признаком;\n",
    "- члены семьи и страховые выплаты — дискретный числовой признак;\n",
    "- возраст и зарплата — непрерывные числовые признаки, значения возраста распределены.\n",
    "\n",
    "Признаки не содержат выбросов, характер распределений значений соответствует смыслу признаков."
   ]
  },
  {
   "cell_type": "markdown",
   "metadata": {},
   "source": [
    "Поскольку нам надо решить задачу построения линейной регрессии, между независимыми переменными и зависимой переменной должна быть линейная связь. Оценим визуально наличие такой связи в нашем датасете."
   ]
  },
  {
   "cell_type": "code",
   "execution_count": 15,
   "metadata": {
    "scrolled": false
   },
   "outputs": [
    {
     "data": {
      "text/plain": [
       "<seaborn.axisgrid.PairGrid at 0x7f4581b4d130>"
      ]
     },
     "execution_count": 15,
     "metadata": {},
     "output_type": "execute_result"
    },
    {
     "data": {
      "image/png": "[encoded data removed]",
      "text/plain": [
       "<Figure size 834.5x720 with 20 Axes>"
      ]
     },
     "metadata": {
      "image/png": {
       "height": 709,
       "width": 830
      },
      "needs_background": "light"
     },
     "output_type": "display_data"
    }
   ],
   "source": [
    "sns.pairplot(\n",
    "    data, \n",
    "    hue='Страховые выплаты'\n",
    ")"
   ]
  },
  {
   "cell_type": "markdown",
   "metadata": {},
   "source": [
    "Мы видим, что между возрастом и количеством страховых выплат есть зависимость, хотя линейной ее назвать сложно. В данном случае линейная регрессия выглядит не самым подходящим алгоритмом, но для проверки метода преобразования данных имеющийся датасет применить можно. "
   ]
  },
  {
   "cell_type": "markdown",
   "metadata": {},
   "source": [
    "### Подготовка признаков"
   ]
  },
  {
   "cell_type": "markdown",
   "metadata": {},
   "source": [
    "Переименуем столбцы, используя латинские символы и snake case."
   ]
  },
  {
   "cell_type": "code",
   "execution_count": 17,
   "metadata": {},
   "outputs": [],
   "source": [
    "data.columns = ['sex', 'age', 'income', 'family_size', 'payments_number']"
   ]
  },
  {
   "cell_type": "markdown",
   "metadata": {},
   "source": [
    "Добавим столбец с 1 для расчета сдвага регрессии."
   ]
  },
  {
   "cell_type": "code",
   "execution_count": 18,
   "metadata": {},
   "outputs": [],
   "source": [
    "data['ones'] = 1"
   ]
  },
  {
   "cell_type": "code",
   "execution_count": 19,
   "metadata": {},
   "outputs": [
    {
     "name": "stdout",
     "output_type": "stream",
     "text": [
      "features shape (4846, 5)\n",
      "target shape (4846,)\n"
     ]
    }
   ],
   "source": [
    "X = data[['ones', 'sex', 'age', 'income', 'family_size']]\n",
    "y = data.payments_number\n",
    "print('features shape', X.shape)\n",
    "print('target shape', y.shape)"
   ]
  },
  {
   "cell_type": "markdown",
   "metadata": {},
   "source": [
    "Разделим данные на обучающую и тестовые выборки."
   ]
  },
  {
   "cell_type": "code",
   "execution_count": 20,
   "metadata": {},
   "outputs": [
    {
     "name": "stdout",
     "output_type": "stream",
     "text": [
      "features train shape (3876, 5), test shape (970, 5)\n",
      "target train shape (3876,), test shape (970,)\n"
     ]
    }
   ],
   "source": [
    "X_train, X_test, y_train, y_test = train_test_split(X,\n",
    "                                                   y,\n",
    "                                                   test_size=.2,\n",
    "                                                   random_state=RANDOM_STATE)\n",
    "\n",
    "print(f'features train shape {X_train.shape}, test shape {X_test.shape}')\n",
    "print(f'target train shape {y_train.shape}, test shape {y_test.shape}')"
   ]
  },
  {
   "cell_type": "markdown",
   "metadata": {},
   "source": [
    "### Вывод"
   ]
  },
  {
   "cell_type": "markdown",
   "metadata": {},
   "source": [
    "Мы загрузили датасет, содержащий 5000 строк и 5 столбцов: 4 признака и 1 целевой признак.\n",
    "\n",
    "В данных мы обнаружили дубликаты и удалили их. В значениях признаков мы не обнаружили ошибок. \n",
    "\n",
    "Только один объект имел целевой признак со значением 5. Поскольку этого недостаточно для обучения и проверки модели, мы удалили этот объект.\n",
    "\n",
    "В данных мы видим связь целевого признака с признаком \"возраст\". Связь не похожа на линейную, поэтому алгоритм линейной регрессии даст нам не лучшие результаты. Но проверить алгорим защиты данных для линейной регрессии на предоставленном датасете мы сможем.\n",
    "\n",
    "Мы выделили признаки и целевой признак из датасета, и разбили выборку на обучающую и тестовую."
   ]
  },
  {
   "cell_type": "markdown",
   "metadata": {},
   "source": [
    "## Умножение матриц"
   ]
  },
  {
   "cell_type": "markdown",
   "metadata": {},
   "source": [
    "Решим поставленную задачу с помощью линейной алгебры. Сначала решим задачу теоретически, затем проверим на практике."
   ]
  },
  {
   "cell_type": "markdown",
   "metadata": {},
   "source": [
    "### Теоретическое обоснование"
   ]
  },
  {
   "cell_type": "markdown",
   "metadata": {},
   "source": [
    "В данной задаче мы рассматриваем алгоритм линейной регресии, который предполагает, что между независимыми переменными и зависимой переменной существует линейная зависимость. \n",
    "\n",
    "Введем обозначения:\n",
    "- $k, k \\in \\mathbb{N}, k > 0$ — количество независимых переменных,\n",
    "- $m, m \\in \\mathbb{N}, m > k$ — количество наблюдений,\n",
    "- $n = k + 1$,\n",
    "- $X, X \\in \\mathbb{R}^{m \\times n}$ — матрица независимых переменных, у которой первый столбец содержит 1 для всех наблюдений,\n",
    "- $y, y \\in \\mathbb{R}^m$ — вектор значений зависимой переменной,\n",
    "- $w, w \\in \\mathbb{R}^n$ — вектор весов линейной регресии, нулевой элемент равен сдвигу.\n",
    "\n",
    "Тогда, принимая, что между $X$ и $y$ есть линейная зависимость, определяемая вектором $w$, верно равенство:\n",
    "\n",
    "$y = Xw$ "
   ]
  },
  {
   "cell_type": "markdown",
   "metadata": {},
   "source": [
    "#### Формулировка задачи обучения"
   ]
  },
  {
   "cell_type": "markdown",
   "metadata": {},
   "source": [
    "Пусть $a \\in \\mathbb{R}^m$ — вектор предсказаний модели. \n",
    "\n",
    "Тогда предсказания определим как:\n",
    "\n",
    "$a = Xw$\n",
    "\n",
    "Задача обучения — найти такой вектор $w$, при котором средняя квадратичная ошибка минимальна:\n",
    "\n",
    "$w = \\arg\\min_w \\mathit{MSE}(Xw, y)$\n",
    "\n",
    "Минимальное теоретическое значение $\\mathit{MSE} = 0$, в нашем случае $\\mathit{MSE}(Xw, y) = 0 \\text{, если }  Xw = y$.\n",
    "\n",
    "Значит нам надо найти такое $w$, при котором выполняется $Xw = y$"
   ]
  },
  {
   "cell_type": "markdown",
   "metadata": {},
   "source": [
    "#### Решение задачи для матрицы признаков"
   ]
  },
  {
   "cell_type": "markdown",
   "metadata": {},
   "source": [
    "Из равенства $Xw = y$ мы можем расчитать значения вектора $w$.\n",
    "\n",
    "Умножим слева обе части уравнения на $X^T$, чтобы получить квадратную матрицу $X^T X$ размером $m \\times m$\n",
    "\n",
    "$X^T y = X^T X w$ \n",
    "\n",
    "Если квадратная матрица $(X^T X)$ обратима, то есть существует такая матрица $(X^T X)^{-1}$, что $(X^T X)^{-1} (X^T X) = E$, то умножим слева обе части уравнения на $(X^T X)^{-1}$ и получим\n",
    "\n",
    "$(X^T X)^{-1} X^T y = (X^T X)^{-1} (X^T X) w = w$\n",
    "    \n",
    "Мы получили формулу обучения $w = (X^T X)^{-1} X^T y$"
   ]
  },
  {
   "cell_type": "markdown",
   "metadata": {},
   "source": [
    "#### Решение задачи для произведения матриц"
   ]
  },
  {
   "cell_type": "markdown",
   "metadata": {},
   "source": [
    "У нас стоит задача защитить значения $X$ от передачи сервису обучения и прогнозирования. \n",
    "\n",
    "Рассмотрим подход, когда мы умножаем значения $X$ на матрицу $P, P \\in \\mathbb{R}^{k \\times l}$ перед отравкой в сервис обучения и прогнозирования. Поскольку умножение матриц не коммутативно, у нас может быть два варианта:\n",
    "\n",
    "$y = (P_l X) w$\n",
    "\n",
    "$y = (X P_r) w$\n",
    "\n",
    "Мы знаем, что размер $X$ — $m \\times n$, размер $w$ — $n \\times 1$, размер $y$ — $m \\times 1$, тогда размер $(P X)$ и $(X P)$ должен быть $m \\times n$ и \n",
    "- в первом случае размер $P_l$ — $m \\times m$\n",
    "- во втором случае размер $P_r$ — $n \\times n$\n",
    "\n",
    "Рассмотрим, какой из вариантов позволит нам решить задачу защиты данных.\n",
    "\n",
    "Мы знаем, что для уравнения линейной регрессии верны следующие выражения.\n",
    "\n",
    "Предсказания:\n",
    "\n",
    "$a = Xw$\n",
    "\n",
    "Задача обучения:\n",
    "\n",
    "$ w = \\arg\\min_w \\mathit{MSE}(Xw, y)$\n",
    "\n",
    "Формула обучения:\n",
    "\n",
    "$w = (X^T X)^{-1} X^T y$\n",
    "\n",
    "\n",
    "Докажем,что для преобразованной матрицы признаков верно:\n",
    "\n",
    "$a = a' = a''$,\n",
    "\n",
    "где \n",
    "\n",
    "- $ a = Xw$ — уравнение регрессии для исходных признаков,\n",
    "- $ a' = (X P_r) w'$ — уравнение регрессии для правого умножения,\n",
    "- $ a'' = (P_l X) w''$ — уравнение регрессии для левого умножения.\n",
    "\n",
    "и, соответственно:\n",
    "\n",
    "- $w = (X^T X)^{-1} X^T y$ — формула обучения для исходных признаков,\n",
    "- $w' = ((XP_r)^T (XP_r))^{-1} (XP_r)^T y$ — формула обучения для правого умножения,\n",
    "- $w'' = ((P_l X)^T (P_l X))^{-1} (P_l X)^T y$ — формула обучения для левого умножения.\n",
    "\n",
    "Нам понадобятся следующие свойства матриц:\n",
    "1. $A E = E A = A$\n",
    "1. $A A^{-1} = A{-1} A = E$\n",
    "1. $(AB)^T = B^T A^T$\n",
    "1. $(AB)^{-1} = B^{-1} A^{-1}$,  если $A$ и $B$ квадратные\n",
    "\n",
    "**Умножение справа**\n",
    "\n",
    "Подставим формулу обучения в уравнение регрессии:\n",
    "    \n",
    "$ a' = XP_r ((XP_r)^T XP_r)^{-1} (XP_r)^T y $\n",
    "\n",
    "Применим свойство 3:\n",
    "    \n",
    "$a' = XP_r (P_r^T X^T X P_r)^{-1} P_r^T X^T y $    \n",
    "    \n",
    "Примением свойство 4 для произведения квадратных матриц $(P_r^T X^T X)$ и $P_r$:\n",
    "\n",
    "$ a' = XP_r P_r^{-1} (P_r^T X^T X)^{-1} P_r^T X^T y $   \n",
    "\n",
    "И еще раз для $P_r^T$ и $(X^T X)$\n",
    "    \n",
    "$a' = XP_r P_r^{-1} (X^T X)^{-1} (P_r^T)^{-1} P_r^T X^T y $   \n",
    "    \n",
    "Применив свойства 1 и 2, получим:\n",
    "\n",
    "$a' = X(P_r P_r^{-1}) (X^T X)^{-1} ((P_r^T)^{-1} P_r^T) X^T y $ \n",
    "    \n",
    "$ a' = X (X^T X)^{-1} X^T y$\n",
    "    \n",
    "но мы знаем, что     \n",
    "    \n",
    "$(X^T X)^{-1} X^T y = w$\n",
    "    \n",
    "Тогда \n",
    "    \n",
    "$a' = X w = a$\n",
    "\n",
    "**Умножение слева**\n",
    "\n",
    "Подставим формулу обучения в уравнение регрессии:\n",
    "    \n",
    "$ a'' = P_l X ((P_l X)^T P_l X)^{-1} (P_l X)^T y $\n",
    "\n",
    "Применим свойство 3:\n",
    "    \n",
    "$a'' = P_l X (X^T P_l^T P_l X)^{-1} X^T P_l^T y $    \n",
    "\n",
    "В данном уравнении произведение $(X^T P_l^T P_l X)$ содержит слева и справа не квадратные матрицы и мы не можем применить свойство 4 к произведению матриц. \n",
    "\n",
    "Отсюда следует, что \n",
    "\n",
    "$a \\ne a''$.\n",
    "\n",
    "**Вывод**\n",
    "\n",
    "Таким образом мы доказали, что умножение матрицы признаков на кодирующую матрицу справа не изменяет уравнение предсказания линейной регрессии. Для умножения матрицы признаков слева мы не можем доказать равенство уравнений предсказаний.\n"
   ]
  },
  {
   "cell_type": "markdown",
   "metadata": {},
   "source": [
    "#### Вывод"
   ]
  },
  {
   "cell_type": "markdown",
   "metadata": {},
   "source": [
    "Мы показали, что если между признаками и целевым признаком есть линейная зависимость, и обратимы матрицы $(X^T X)$ и матрицы $(Q^T Q)$, где $Q = X P$, и $X, Q \\in \\mathbb{R}^{m \\times n}, P \\in \\mathbb{R}^{n \\times n}$, то решение для вычисления коэффициентов линейной регрессии идентично для $X$ и $Q$, а значит мы можем использовать произведение матриц для обучения и прогнозирования, не раскрывая данных клиентов. "
   ]
  },
  {
   "cell_type": "markdown",
   "metadata": {},
   "source": [
    "### Проверка на практике"
   ]
  },
  {
   "cell_type": "markdown",
   "metadata": {},
   "source": [
    "#### Качество предсказания на оригинальных признаках"
   ]
  },
  {
   "cell_type": "markdown",
   "metadata": {},
   "source": [
    "У нас есть матрица значений признаков `X_train` и вектор значений целевого признака. Решим задачу линейной регресии для этих условий. "
   ]
  },
  {
   "cell_type": "code",
   "execution_count": 25,
   "metadata": {},
   "outputs": [],
   "source": [
    "try:\n",
    "    w = np.linalg.inv(X_train.T @ X_train) @ X_train.T @ y_train\n",
    "except np.linalg.LinAlgError:\n",
    "    print('Матрица необратима')"
   ]
  },
  {
   "cell_type": "markdown",
   "metadata": {},
   "source": [
    "Рассчитаем R2 на обучающей и тестовой выборке."
   ]
  },
  {
   "cell_type": "code",
   "execution_count": 26,
   "metadata": {
    "scrolled": true
   },
   "outputs": [
    {
     "name": "stdout",
     "output_type": "stream",
     "text": [
      "R2 train = 0.42013072921\n",
      "R2 test = 0.44886069531\n"
     ]
    }
   ],
   "source": [
    "p_train = np.dot(X_train, w)\n",
    "p_test = np.dot(X_test, w)\n",
    "\n",
    "r2_train = r2_score(y_train, p_train)\n",
    "r2_test = r2_score(y_test, p_test)\n",
    "print(f'R2 train = {r2_train:.11f}')\n",
    "print(f'R2 test = {r2_test:.11f}')"
   ]
  },
  {
   "cell_type": "markdown",
   "metadata": {},
   "source": [
    "#### Качество предсказания на защищенных призканах"
   ]
  },
  {
   "cell_type": "markdown",
   "metadata": {},
   "source": [
    "Подготовим матрицу для умножения размером $n \\times n$, где $n$ — количество признаков"
   ]
  },
  {
   "cell_type": "code",
   "execution_count": 27,
   "metadata": {},
   "outputs": [
    {
     "data": {
      "text/plain": [
       "array([[23, 27,  1, 40, 22],\n",
       "       [ 6, 32, 23, 13, 44],\n",
       "       [47, 39, 49, 21, 28],\n",
       "       [31, 28, 15, 30,  2],\n",
       "       [ 2, 29, 30, 16,  3]])"
      ]
     },
     "execution_count": 27,
     "metadata": {},
     "output_type": "execute_result"
    }
   ],
   "source": [
    "n = X_train.shape[1]\n",
    "P = RANDOM_STATE.randint(1, 2 * n * n, (n, n))\n",
    "P"
   ]
  },
  {
   "cell_type": "markdown",
   "metadata": {},
   "source": [
    "Умножим матрицу признаков на матрицу P"
   ]
  },
  {
   "cell_type": "code",
   "execution_count": 28,
   "metadata": {},
   "outputs": [
    {
     "data": {
      "text/html": [
       "<div>\n",
       "<style scoped>\n",
       "    .dataframe tbody tr th:only-of-type {\n",
       "        vertical-align: middle;\n",
       "    }\n",
       "\n",
       "    .dataframe tbody tr th {\n",
       "        vertical-align: top;\n",
       "    }\n",
       "\n",
       "    .dataframe thead th {\n",
       "        text-align: right;\n",
       "    }\n",
       "</style>\n",
       "<table border=\"1\" class=\"dataframe\">\n",
       "  <thead>\n",
       "    <tr style=\"text-align: right;\">\n",
       "      <th></th>\n",
       "      <th>0</th>\n",
       "      <th>1</th>\n",
       "      <th>2</th>\n",
       "      <th>3</th>\n",
       "      <th>4</th>\n",
       "    </tr>\n",
       "  </thead>\n",
       "  <tbody>\n",
       "    <tr>\n",
       "      <th>2148</th>\n",
       "      <td>761450.0</td>\n",
       "      <td>687626.0</td>\n",
       "      <td>369510.0</td>\n",
       "      <td>735901.0</td>\n",
       "      <td>50170.0</td>\n",
       "    </tr>\n",
       "    <tr>\n",
       "      <th>1550</th>\n",
       "      <td>1641386.0</td>\n",
       "      <td>1482468.0</td>\n",
       "      <td>795043.0</td>\n",
       "      <td>1587704.0</td>\n",
       "      <td>106734.0</td>\n",
       "    </tr>\n",
       "    <tr>\n",
       "      <th>3872</th>\n",
       "      <td>1263556.0</td>\n",
       "      <td>1141148.0</td>\n",
       "      <td>612412.0</td>\n",
       "      <td>1221859.0</td>\n",
       "      <td>82514.0</td>\n",
       "    </tr>\n",
       "    <tr>\n",
       "      <th>1701</th>\n",
       "      <td>1213862.0</td>\n",
       "      <td>1096270.0</td>\n",
       "      <td>588314.0</td>\n",
       "      <td>1173817.0</td>\n",
       "      <td>79258.0</td>\n",
       "    </tr>\n",
       "    <tr>\n",
       "      <th>1615</th>\n",
       "      <td>1278069.0</td>\n",
       "      <td>1154329.0</td>\n",
       "      <td>618883.0</td>\n",
       "      <td>1236418.0</td>\n",
       "      <td>82926.0</td>\n",
       "    </tr>\n",
       "  </tbody>\n",
       "</table>\n",
       "</div>"
      ],
      "text/plain": [
       "              0          1         2          3         4\n",
       "2148   761450.0   687626.0  369510.0   735901.0   50170.0\n",
       "1550  1641386.0  1482468.0  795043.0  1587704.0  106734.0\n",
       "3872  1263556.0  1141148.0  612412.0  1221859.0   82514.0\n",
       "1701  1213862.0  1096270.0  588314.0  1173817.0   79258.0\n",
       "1615  1278069.0  1154329.0  618883.0  1236418.0   82926.0"
      ]
     },
     "execution_count": 28,
     "metadata": {},
     "output_type": "execute_result"
    }
   ],
   "source": [
    "Q_train = X_train @ P\n",
    "Q_test = X_test @ P\n",
    "Q_train.head()"
   ]
  },
  {
   "cell_type": "markdown",
   "metadata": {},
   "source": [
    "Данные защищены. Решим уравнение регресии для этих данных и сравним качество предсказания."
   ]
  },
  {
   "cell_type": "code",
   "execution_count": 29,
   "metadata": {
    "scrolled": true
   },
   "outputs": [
    {
     "name": "stdout",
     "output_type": "stream",
     "text": [
      "R2 train protected = 0.420130728685 (unporotected 0.420130729205)\n",
      "R2 test protected = 0.448857309242 (unprotected 0.448860695309)\n",
      "Разница значений R2 для исходной и преобразованной матрицы (train): 5.204197073283012e-10\n",
      "Разница значений R2 для исходной и преобразованной матрицы (test): 3.386067179200758e-06\n"
     ]
    }
   ],
   "source": [
    "try:\n",
    "    w_protected = np.linalg.inv(Q_train.T @ Q_train) @ Q_train.T @ y_train\n",
    "    \n",
    "    p_train_protected = np.dot(Q_train, w_protected)\n",
    "    p_test_protected = np.dot(Q_test, w_protected)\n",
    "    \n",
    "    r2_train_protected = r2_score(y_train, p_train_protected)\n",
    "    r2_test_protected = r2_score(y_test, p_test_protected)\n",
    "    \n",
    "    print(f'R2 train protected = {r2_train_protected:.12f} (unporotected {r2_train:.12f})')\n",
    "    print(f'R2 test protected = {r2_test_protected:.12f} (unprotected {r2_test:.12f})')\n",
    "    print(f'Разница значений R2 для исходной и преобразованной матрицы (train): {r2_train-r2_train_protected}')\n",
    "    print(f'Разница значений R2 для исходной и преобразованной матрицы (test): {r2_test-r2_test_protected}')\n",
    "    \n",
    "except np.linalg.LinAlgError:\n",
    "    print('Матрица необратима')"
   ]
  },
  {
   "cell_type": "markdown",
   "metadata": {},
   "source": [
    "Мы видим, что качество предсказания на признаках, умноженных на матрицу P, не изменилось. Разница в значениях R2, полученных для исходной и преобразованной матрицы меньше 1e-07."
   ]
  },
  {
   "cell_type": "markdown",
   "metadata": {},
   "source": [
    "### Вывод"
   ]
  },
  {
   "cell_type": "markdown",
   "metadata": {},
   "source": [
    "Мы доказали, что если матрицу признаков, дополненную слева столбцом с единицами, умножить справа на квадратную матрицу размером $n \\times n$, где n — количестов признаков + 1, и использовать результат произведения для обучения модели и предсказания значения целевого признака, качество модели не изменится по сравнению с использованием матрицы признаков непосредственно. \n",
    "\n",
    "Мы показали теоритическое обоснование преобразования, доказав, что $a = Xw = a' = XPw'$ и подтвердили доказательство практическими результатами.\n",
    "\n",
    "При этом связь параметров линейной регрессии в преобразованной и исходной задаче следующая:\n",
    "\n",
    "$Xw = XPw'$\n",
    "\n",
    "$w = Pw'$\n",
    "\n",
    "$w' = P^{-1}w$\n"
   ]
  },
  {
   "cell_type": "markdown",
   "metadata": {},
   "source": [
    "## Алгоритм преобразования"
   ]
  },
  {
   "cell_type": "markdown",
   "metadata": {},
   "source": [
    "Входные данные:\n",
    "- матрица признаков для обучения, дополненная слева столбцом с 1: X_train,\n",
    "- вектор целевого признака для обучения: y_train,\n",
    "- матрица признаков для тестирования, дополненная слева столбцом с 1: X_test,\n",
    "- вектор целевого признака для обучения: y_test.\n",
    "\n",
    "Задача: передать в сервис обучения модели и инференса защищенные данные Q_train и Q_test.\n",
    "\n",
    "**Алгоритм**\n",
    "1. Обучение\n",
    "    1. Определить размер матрицы $X_{train}$ $m \\times n$.\n",
    "    1. Сгенерировать случайную матрицу $P$ размером $n \\times n$. Сохранить матрицу $P$.\n",
    "    1. Получить инверсную мтарицу $P^{-1}$. методом `np.linalg.inv`. Если воникнет исключение, то произведение матриц необратимо. Перейти на шаг 1.B.\n",
    "    1. Преобразовать матрицу $X_{train}$ в матрицу $Q_{train}$ умжножением: $Q_{train} = X_{train} P$.\n",
    "    1. Обучить модель линейной регресии на матрице $X_{train}$ и $y_{train}$ — модель на исходных признаках.\n",
    "    1. Обучить модель линейной регресии на матрице $Q_{train}$ и $y_{train}$ — модель на защищенных признаках.\n",
    "    1. Модели готовы для тестирования и сравнения.\n",
    "1. Тестирование и сравнение\n",
    "    1. Преобразовать матрицу $X_{test}$ в матрицу $Q_{test}$ умжножением: $Q_{test} = X_{test} P$.\n",
    "    1. Получить предсказания на обученной модели для $X_{test}$\n",
    "    1. Получить предсказания на обученной модели для $Q_{test}$\n",
    "    1. Рассчитать коэффициент детерминации R2 для модели с ихсодными признаками и модели с защищенными признками.\n",
    "    1. Сравнить значения R2 для двух моделей.\n",
    "    1. Сделать вывод о применимости метода защиты данных."
   ]
  },
  {
   "cell_type": "markdown",
   "metadata": {},
   "source": [
    "**Обоснование**\n",
    "\n",
    "Обоснование алгоритма приведено в разделе 3 \"Умножение матриц\"."
   ]
  },
  {
   "cell_type": "code",
   "execution_count": 30,
   "metadata": {},
   "outputs": [
    {
     "name": "stdout",
     "output_type": "stream",
     "text": [
      "Произведение матрицы X_train и необратимой матрицы обратимо, размер (5, 5)\n"
     ]
    }
   ],
   "source": [
    "# сгенерируем сингулярную матрицу, которая необратима (последний столбец будет суммой столбцов)\n",
    "A = pd.DataFrame(RANDOM_STATE.randint(1,500, (5,4)))\n",
    "A[4] = A.sum(axis=1)\n",
    "A = A.values\n",
    "try: \n",
    "    np.linalg.inv(A)\n",
    "except np.linalg.LinAlgError as e:\n",
    "    print('Матрица А необратима,', str(e))\n",
    "\n",
    "# Умножим матрицу признаков на необратимую матрицу и проверим обратимость произведения\n",
    "C = X_train @ A\n",
    "try: \n",
    "    C_inv = np.linalg.inv(C.T @ C)\n",
    "    print('Произведение матрицы X_train и необратимой матрицы обратимо, размер', C_inv.shape)\n",
    "except np.linalg.LinAlgError as e:\n",
    "    print(str(e))"
   ]
  },
  {
   "cell_type": "markdown",
   "metadata": {},
   "source": [
    "## Проверка алгоритма"
   ]
  },
  {
   "cell_type": "markdown",
   "metadata": {},
   "source": [
    "Функция для проверки обратимости матрицы."
   ]
  },
  {
   "cell_type": "code",
   "execution_count": 31,
   "metadata": {},
   "outputs": [],
   "source": [
    "def is_singular(A: np.array, name: str, quiet:bool=False) -> bool:\n",
    "    \"\"\"Проверяет матрицу А с названием name на обратимость\n",
    "    \"\"\"\n",
    "    try:\n",
    "        np.linalg.inv(A)\n",
    "        if not quiet:\n",
    "            print(f'Матрица {name} обратима')\n",
    "        return False\n",
    "    except np.linalg.LinAlgError as e:\n",
    "        if not quiet:\n",
    "            print(f'Матрица {name} необратима: {str(e)}')\n",
    "        return True"
   ]
  },
  {
   "cell_type": "markdown",
   "metadata": {},
   "source": [
    "Проверим работу алгоритма преобразования признаков с использованием модели `LinearRegression` модуля `sklearn`. \n",
    "\n",
    "Для проверки сделаем модель на исходных признаках и преобразованных. Для этих моделей рассчитаем значение метрики $R^2$ и сравним результаты."
   ]
  },
  {
   "cell_type": "markdown",
   "metadata": {},
   "source": [
    "Предварительно удалим в признаках первый столбец с единицами, который мы добавляли для исследования алгоритма регрессии с помощью методов линейной алгебры."
   ]
  },
  {
   "cell_type": "code",
   "execution_count": 32,
   "metadata": {},
   "outputs": [
    {
     "data": {
      "text/plain": [
       "((3876, 4), (970, 4))"
      ]
     },
     "execution_count": 32,
     "metadata": {},
     "output_type": "execute_result"
    }
   ],
   "source": [
    "X_train = X_train.drop('ones', axis=1)\n",
    "X_test = X_test.drop('ones', axis=1)\n",
    "X_train.shape, X_test.shape"
   ]
  },
  {
   "cell_type": "markdown",
   "metadata": {},
   "source": [
    "### Обучение"
   ]
  },
  {
   "cell_type": "markdown",
   "metadata": {},
   "source": [
    "Определим размер матрицы X_train"
   ]
  },
  {
   "cell_type": "code",
   "execution_count": 33,
   "metadata": {},
   "outputs": [
    {
     "name": "stdout",
     "output_type": "stream",
     "text": [
      "n = 4\n"
     ]
    }
   ],
   "source": [
    "m, n = X_train.shape\n",
    "print(f'n = {n}')"
   ]
  },
  {
   "cell_type": "markdown",
   "metadata": {},
   "source": [
    "Сгенерируем матрицу $P$ размером $n \\times n$."
   ]
  },
  {
   "cell_type": "code",
   "execution_count": 34,
   "metadata": {},
   "outputs": [
    {
     "data": {
      "text/plain": [
       "array([[ 6, 30, 28, 12],\n",
       "       [ 5,  2, 26, 15],\n",
       "       [ 8, 23,  8, 23],\n",
       "       [ 7, 28,  3,  7]])"
      ]
     },
     "execution_count": 34,
     "metadata": {},
     "output_type": "execute_result"
    }
   ],
   "source": [
    "P = RANDOM_STATE.randint(1, 2 * n * n, (n, n))\n",
    "P"
   ]
  },
  {
   "cell_type": "markdown",
   "metadata": {},
   "source": [
    "Проверим матрицу на обратимость."
   ]
  },
  {
   "cell_type": "code",
   "execution_count": 35,
   "metadata": {},
   "outputs": [
    {
     "name": "stdout",
     "output_type": "stream",
     "text": [
      "Матрица P обратима\n"
     ]
    },
    {
     "data": {
      "text/plain": [
       "False"
      ]
     },
     "execution_count": 35,
     "metadata": {},
     "output_type": "execute_result"
    }
   ],
   "source": [
    "is_singular(P, 'P')"
   ]
  },
  {
   "cell_type": "markdown",
   "metadata": {},
   "source": [
    "Преобразуем матрицу $X_{train}$ в матрицу  $Q_{train}$ умжножением на матрицу $P$ справа."
   ]
  },
  {
   "cell_type": "code",
   "execution_count": 36,
   "metadata": {},
   "outputs": [],
   "source": [
    "Q_train = X_train @ P"
   ]
  },
  {
   "cell_type": "markdown",
   "metadata": {},
   "source": [
    "Обучим модель линейной регресии на матрице $X_{train}$ — модель на исходных признаках.\n"
   ]
  },
  {
   "cell_type": "code",
   "execution_count": 37,
   "metadata": {},
   "outputs": [
    {
     "data": {
      "text/plain": [
       "LinearRegression()"
      ]
     },
     "execution_count": 37,
     "metadata": {},
     "output_type": "execute_result"
    }
   ],
   "source": [
    "model_unprotected = LinearRegression()\n",
    "model_unprotected.fit(X_train, y_train)"
   ]
  },
  {
   "cell_type": "markdown",
   "metadata": {},
   "source": [
    "Обучим модель линейной регресии на матрице $Q_{train}$  — модель на защищенных признаках."
   ]
  },
  {
   "cell_type": "code",
   "execution_count": 38,
   "metadata": {},
   "outputs": [
    {
     "data": {
      "text/plain": [
       "LinearRegression()"
      ]
     },
     "execution_count": 38,
     "metadata": {},
     "output_type": "execute_result"
    }
   ],
   "source": [
    "model_protected = LinearRegression()\n",
    "model_protected.fit(Q_train, y_train)"
   ]
  },
  {
   "cell_type": "markdown",
   "metadata": {},
   "source": [
    "Модели готовы для тестирования и сравнения."
   ]
  },
  {
   "cell_type": "markdown",
   "metadata": {},
   "source": [
    "### Тестирование и сравнение"
   ]
  },
  {
   "cell_type": "markdown",
   "metadata": {},
   "source": [
    "Преобразуем матрицу $X_{test}$ в матрицу $Q_{test}$ умжножением: $Q_{test} = X_{test} P$."
   ]
  },
  {
   "cell_type": "code",
   "execution_count": 39,
   "metadata": {},
   "outputs": [],
   "source": [
    "Q_test = X_test @ P"
   ]
  },
  {
   "cell_type": "markdown",
   "metadata": {},
   "source": [
    "Получим предсказания на обученной модели для $X_{test}$"
   ]
  },
  {
   "cell_type": "code",
   "execution_count": 40,
   "metadata": {},
   "outputs": [],
   "source": [
    "predictions_unprotected = model_unprotected.predict(X_test)"
   ]
  },
  {
   "cell_type": "markdown",
   "metadata": {},
   "source": [
    "Получим предсказания на обученной модели для $Q_{test}$"
   ]
  },
  {
   "cell_type": "code",
   "execution_count": 41,
   "metadata": {},
   "outputs": [],
   "source": [
    "predictions_protected = model_protected.predict(Q_test)"
   ]
  },
  {
   "cell_type": "markdown",
   "metadata": {},
   "source": [
    "Рассчитаем коэффициент детерминации R2 для модели с ихсодными признаками и модели с защищенными признками."
   ]
  },
  {
   "cell_type": "code",
   "execution_count": 42,
   "metadata": {},
   "outputs": [
    {
     "data": {
      "text/plain": [
       "0.4488606953088763"
      ]
     },
     "execution_count": 42,
     "metadata": {},
     "output_type": "execute_result"
    }
   ],
   "source": [
    "r2_unprotected = r2_score(y_test, predictions_unprotected)\n",
    "r2_unprotected"
   ]
  },
  {
   "cell_type": "code",
   "execution_count": 43,
   "metadata": {},
   "outputs": [
    {
     "data": {
      "text/plain": [
       "0.4488606953088594"
      ]
     },
     "execution_count": 43,
     "metadata": {},
     "output_type": "execute_result"
    }
   ],
   "source": [
    "r2_protected = r2_score(y_test, predictions_protected)\n",
    "r2_protected"
   ]
  },
  {
   "cell_type": "markdown",
   "metadata": {},
   "source": [
    "### Сравнение результатов"
   ]
  },
  {
   "cell_type": "markdown",
   "metadata": {},
   "source": [
    "Сравнить значения R2 для двух моделей"
   ]
  },
  {
   "cell_type": "code",
   "execution_count": 44,
   "metadata": {},
   "outputs": [
    {
     "name": "stdout",
     "output_type": "stream",
     "text": [
      "Значение R2 для модели с исходными признаками\t\t0.44886069530888\n",
      "Значение R2 для модели с преобразованнымм признаками\t0.44886069530886\n",
      "Разница значений R2: 1.687538997430238e-14\n"
     ]
    }
   ],
   "source": [
    "print(f'Значение R2 для модели с исходными признаками\\t\\t{r2_unprotected:.14f}')\n",
    "print(f'Значение R2 для модели с преобразованнымм признаками\\t{r2_protected:.14f}')\n",
    "print(f'Разница значений R2: {r2_unprotected - r2_protected}')"
   ]
  },
  {
   "cell_type": "markdown",
   "metadata": {},
   "source": [
    "## Вывод"
   ]
  },
  {
   "cell_type": "markdown",
   "metadata": {},
   "source": [
    "Мы разработали алгоритм защиты данных клиентов для применения в задачах обучения и предсказания модели лиейной регресии.\n",
    "\n",
    "Алгорим заключается в генерации секретной квадратной матрицы, и преобразованию данных клиентов в защищенный набор данных умножением матрицы исходных данных слева на секретную квадратную матрицу.\n",
    "\n",
    "Полученные таким преобразованием данные мы можем использовать для обучения модели линейной регрессии и предсказания с помощью этой модели. При обучении и предсказании должна использоваться одна и та же секретная матрица.\n",
    "\n",
    "Мы доказали состоятельность предложенного алгоритма теориетически и подтвердили практическими экспериментами."
   ]
  },
  {
   "cell_type": "markdown",
   "metadata": {},
   "source": [
    "## Чек-лист проверки"
   ]
  },
  {
   "cell_type": "markdown",
   "metadata": {},
   "source": [
    "Поставьте 'x' в выполненных пунктах. Далее нажмите Shift+Enter."
   ]
  },
  {
   "cell_type": "markdown",
   "metadata": {},
   "source": [
    "- [x]  Jupyter Notebook открыт\n",
    "- [X]  Весь код выполняется без ошибок\n",
    "- [X]  Ячейки с кодом расположены в порядке исполнения\n",
    "- [X]  Выполнен шаг 1: данные загружены\n",
    "- [X]  Выполнен шаг 2: получен ответ на вопрос об умножении матриц\n",
    "    - [X]  Указан правильный вариант ответа\n",
    "    - [X]  Вариант обоснован\n",
    "- [X]  Выполнен шаг 3: предложен алгоритм преобразования\n",
    "    - [X]  Алгоритм описан\n",
    "    - [X]  Алгоритм обоснован\n",
    "- [X]  Выполнен шаг 4: алгоритм проверен\n",
    "    - [X]  Алгоритм реализован\n",
    "    - [X]  Проведено сравнение качества моделей до и после преобразования"
   ]
  }
 ],
 "metadata": {
  "ExecuteTimeLog": [
   {
    "duration": 407,
    "start_time": "2022-08-23T11:25:27.926Z"
   },
   {
    "duration": 873,
    "start_time": "2022-08-23T11:25:28.335Z"
   },
   {
    "duration": 430,
    "start_time": "2022-08-23T11:25:29.210Z"
   },
   {
    "duration": 3,
    "start_time": "2022-08-23T11:25:29.643Z"
   },
   {
    "duration": 175,
    "start_time": "2022-08-23T11:25:29.648Z"
   },
   {
    "duration": 12,
    "start_time": "2022-08-23T11:25:29.825Z"
   },
   {
    "duration": 7,
    "start_time": "2022-08-23T11:25:29.839Z"
   },
   {
    "duration": 9,
    "start_time": "2022-08-23T11:25:29.848Z"
   },
   {
    "duration": 684,
    "start_time": "2022-08-23T11:25:29.859Z"
   },
   {
    "duration": 5,
    "start_time": "2022-08-23T11:25:30.547Z"
   },
   {
    "duration": 31,
    "start_time": "2022-08-23T11:25:30.554Z"
   },
   {
    "duration": 7556,
    "start_time": "2022-08-23T11:25:30.587Z"
   },
   {
    "duration": 4,
    "start_time": "2022-08-23T11:25:38.145Z"
   },
   {
    "duration": 19,
    "start_time": "2022-08-23T11:25:38.150Z"
   },
   {
    "duration": 16,
    "start_time": "2022-08-23T11:25:38.171Z"
   },
   {
    "duration": 18,
    "start_time": "2022-08-23T11:25:38.189Z"
   },
   {
    "duration": 24,
    "start_time": "2022-08-23T11:25:38.209Z"
   },
   {
    "duration": 180,
    "start_time": "2022-08-23T11:25:38.235Z"
   },
   {
    "duration": 187,
    "start_time": "2022-08-23T11:25:38.417Z"
   },
   {
    "duration": 20,
    "start_time": "2022-08-23T11:25:38.606Z"
   },
   {
    "duration": 12,
    "start_time": "2022-08-23T11:25:38.628Z"
   },
   {
    "duration": 105,
    "start_time": "2022-08-23T11:25:38.707Z"
   },
   {
    "duration": 20,
    "start_time": "2022-08-23T11:25:38.814Z"
   },
   {
    "duration": 9,
    "start_time": "2022-08-23T11:25:38.836Z"
   },
   {
    "duration": 19,
    "start_time": "2022-08-23T11:25:38.848Z"
   },
   {
    "duration": 6,
    "start_time": "2022-08-23T11:25:38.869Z"
   },
   {
    "duration": 9,
    "start_time": "2022-08-23T11:43:41.985Z"
   },
   {
    "duration": 5,
    "start_time": "2022-08-23T11:58:51.243Z"
   },
   {
    "duration": 123,
    "start_time": "2022-08-23T11:59:32.984Z"
   },
   {
    "duration": 5,
    "start_time": "2022-08-23T12:00:08.509Z"
   },
   {
    "duration": 7,
    "start_time": "2022-08-23T12:00:08.792Z"
   },
   {
    "duration": 380,
    "start_time": "2022-08-23T12:00:19.458Z"
   },
   {
    "duration": 4,
    "start_time": "2022-08-23T12:00:26.058Z"
   },
   {
    "duration": 374,
    "start_time": "2022-08-23T12:00:26.663Z"
   },
   {
    "duration": 6,
    "start_time": "2022-08-23T12:13:13.118Z"
   },
   {
    "duration": 4,
    "start_time": "2022-08-23T12:15:07.066Z"
   },
   {
    "duration": 34,
    "start_time": "2022-08-23T12:15:16.498Z"
   },
   {
    "duration": 9,
    "start_time": "2022-08-23T12:17:31.265Z"
   },
   {
    "duration": 12,
    "start_time": "2022-08-23T12:18:00.768Z"
   },
   {
    "duration": 48,
    "start_time": "2022-08-23T16:06:48.570Z"
   },
   {
    "duration": 377,
    "start_time": "2022-08-23T16:07:02.418Z"
   },
   {
    "duration": 877,
    "start_time": "2022-08-23T16:07:02.797Z"
   },
   {
    "duration": 225,
    "start_time": "2022-08-23T16:07:03.675Z"
   },
   {
    "duration": 2,
    "start_time": "2022-08-23T16:07:03.903Z"
   },
   {
    "duration": 227,
    "start_time": "2022-08-23T16:07:03.907Z"
   },
   {
    "duration": 10,
    "start_time": "2022-08-23T16:07:04.136Z"
   },
   {
    "duration": 6,
    "start_time": "2022-08-23T16:07:04.148Z"
   },
   {
    "duration": 6,
    "start_time": "2022-08-23T16:07:04.156Z"
   },
   {
    "duration": 10,
    "start_time": "2022-08-23T16:07:04.163Z"
   },
   {
    "duration": 21,
    "start_time": "2022-08-23T16:07:08.604Z"
   },
   {
    "duration": 72,
    "start_time": "2022-08-23T16:45:10.522Z"
   },
   {
    "duration": 452,
    "start_time": "2022-08-24T07:04:24.189Z"
   },
   {
    "duration": 941,
    "start_time": "2022-08-24T07:04:24.644Z"
   },
   {
    "duration": 260,
    "start_time": "2022-08-24T07:04:25.586Z"
   },
   {
    "duration": 2,
    "start_time": "2022-08-24T07:04:25.848Z"
   },
   {
    "duration": 183,
    "start_time": "2022-08-24T07:04:25.852Z"
   },
   {
    "duration": 11,
    "start_time": "2022-08-24T07:04:26.037Z"
   },
   {
    "duration": 8,
    "start_time": "2022-08-24T07:04:26.050Z"
   },
   {
    "duration": 6,
    "start_time": "2022-08-24T07:04:26.059Z"
   },
   {
    "duration": 10,
    "start_time": "2022-08-24T07:04:26.066Z"
   },
   {
    "duration": 24,
    "start_time": "2022-08-24T07:04:26.078Z"
   },
   {
    "duration": 593,
    "start_time": "2022-08-24T07:04:26.104Z"
   },
   {
    "duration": 7,
    "start_time": "2022-08-24T07:04:26.699Z"
   },
   {
    "duration": 18,
    "start_time": "2022-08-24T07:04:26.708Z"
   },
   {
    "duration": 6530,
    "start_time": "2022-08-24T07:04:26.727Z"
   },
   {
    "duration": 3,
    "start_time": "2022-08-24T07:04:33.259Z"
   },
   {
    "duration": 11,
    "start_time": "2022-08-24T07:04:33.264Z"
   },
   {
    "duration": 9,
    "start_time": "2022-08-24T07:04:33.277Z"
   },
   {
    "duration": 12,
    "start_time": "2022-08-24T07:04:33.287Z"
   },
   {
    "duration": 15,
    "start_time": "2022-08-24T07:04:33.301Z"
   },
   {
    "duration": 93,
    "start_time": "2022-08-24T07:04:33.320Z"
   },
   {
    "duration": 187,
    "start_time": "2022-08-24T07:04:33.415Z"
   },
   {
    "duration": 27,
    "start_time": "2022-08-24T07:04:33.603Z"
   },
   {
    "duration": 8,
    "start_time": "2022-08-24T07:04:33.632Z"
   },
   {
    "duration": 16,
    "start_time": "2022-08-24T07:04:33.698Z"
   },
   {
    "duration": 86,
    "start_time": "2022-08-24T07:04:33.716Z"
   },
   {
    "duration": 10,
    "start_time": "2022-08-24T07:04:33.807Z"
   },
   {
    "duration": 9,
    "start_time": "2022-08-24T07:04:33.819Z"
   },
   {
    "duration": 4,
    "start_time": "2022-08-24T07:04:33.830Z"
   },
   {
    "duration": 114,
    "start_time": "2022-08-24T07:11:49.579Z"
   },
   {
    "duration": 3,
    "start_time": "2022-08-24T07:12:08.452Z"
   },
   {
    "duration": 17,
    "start_time": "2022-08-24T07:12:08.457Z"
   },
   {
    "duration": 8,
    "start_time": "2022-08-24T07:12:08.476Z"
   },
   {
    "duration": 10,
    "start_time": "2022-08-24T07:12:08.486Z"
   },
   {
    "duration": 99,
    "start_time": "2022-08-24T07:12:08.498Z"
   },
   {
    "duration": 13,
    "start_time": "2022-08-24T07:12:08.599Z"
   },
   {
    "duration": 10,
    "start_time": "2022-08-24T07:12:08.613Z"
   },
   {
    "duration": 9,
    "start_time": "2022-08-24T07:12:08.624Z"
   },
   {
    "duration": 13,
    "start_time": "2022-08-24T07:12:08.635Z"
   },
   {
    "duration": 28,
    "start_time": "2022-08-24T07:12:08.649Z"
   },
   {
    "duration": 562,
    "start_time": "2022-08-24T07:12:08.700Z"
   },
   {
    "duration": 7,
    "start_time": "2022-08-24T07:12:09.264Z"
   },
   {
    "duration": 7,
    "start_time": "2022-08-24T07:12:13.663Z"
   },
   {
    "duration": 9,
    "start_time": "2022-08-24T07:13:50.699Z"
   },
   {
    "duration": 19,
    "start_time": "2022-08-24T07:16:26.463Z"
   },
   {
    "duration": 25,
    "start_time": "2022-08-24T07:27:35.824Z"
   },
   {
    "duration": 17,
    "start_time": "2022-08-24T07:27:42.106Z"
   },
   {
    "duration": 18,
    "start_time": "2022-08-24T07:27:47.473Z"
   },
   {
    "duration": 16,
    "start_time": "2022-08-24T07:28:31.701Z"
   },
   {
    "duration": 18,
    "start_time": "2022-08-24T07:30:05.102Z"
   },
   {
    "duration": 18,
    "start_time": "2022-08-24T07:31:41.853Z"
   },
   {
    "duration": 19,
    "start_time": "2022-08-24T07:31:56.226Z"
   },
   {
    "duration": 21,
    "start_time": "2022-08-24T07:33:23.944Z"
   },
   {
    "duration": 19,
    "start_time": "2022-08-24T07:33:44.834Z"
   },
   {
    "duration": 18,
    "start_time": "2022-08-24T07:33:53.205Z"
   },
   {
    "duration": 19,
    "start_time": "2022-08-24T07:34:15.305Z"
   },
   {
    "duration": 19,
    "start_time": "2022-08-24T07:35:07.896Z"
   },
   {
    "duration": 19,
    "start_time": "2022-08-24T07:36:50.960Z"
   },
   {
    "duration": 27,
    "start_time": "2022-08-24T07:37:42.899Z"
   },
   {
    "duration": 19,
    "start_time": "2022-08-24T07:38:14.360Z"
   },
   {
    "duration": 19,
    "start_time": "2022-08-24T07:38:20.089Z"
   },
   {
    "duration": 19,
    "start_time": "2022-08-24T07:38:26.193Z"
   },
   {
    "duration": 20,
    "start_time": "2022-08-24T07:49:33.918Z"
   },
   {
    "duration": 8,
    "start_time": "2022-08-24T10:03:34.151Z"
   },
   {
    "duration": 4,
    "start_time": "2022-08-24T10:03:38.912Z"
   },
   {
    "duration": 6,
    "start_time": "2022-08-24T10:06:37.659Z"
   },
   {
    "duration": 10,
    "start_time": "2022-08-24T10:07:30.828Z"
   },
   {
    "duration": 12,
    "start_time": "2022-08-24T10:07:43.506Z"
   },
   {
    "duration": 11,
    "start_time": "2022-08-24T10:13:47.972Z"
   },
   {
    "duration": 164,
    "start_time": "2022-08-24T12:50:02.530Z"
   },
   {
    "duration": 3,
    "start_time": "2022-08-24T12:50:45.257Z"
   },
   {
    "duration": 16,
    "start_time": "2022-08-24T12:50:45.262Z"
   },
   {
    "duration": 7,
    "start_time": "2022-08-24T12:50:45.280Z"
   },
   {
    "duration": 5,
    "start_time": "2022-08-24T12:50:45.288Z"
   },
   {
    "duration": 97,
    "start_time": "2022-08-24T12:50:45.295Z"
   },
   {
    "duration": 10,
    "start_time": "2022-08-24T12:50:45.393Z"
   },
   {
    "duration": 10,
    "start_time": "2022-08-24T12:50:45.405Z"
   },
   {
    "duration": 5,
    "start_time": "2022-08-24T12:50:45.416Z"
   },
   {
    "duration": 7,
    "start_time": "2022-08-24T12:50:45.423Z"
   },
   {
    "duration": 19,
    "start_time": "2022-08-24T12:50:45.432Z"
   },
   {
    "duration": 571,
    "start_time": "2022-08-24T12:50:45.453Z"
   },
   {
    "duration": 5,
    "start_time": "2022-08-24T12:50:46.025Z"
   },
   {
    "duration": 209,
    "start_time": "2022-08-24T12:50:46.032Z"
   },
   {
    "duration": 24,
    "start_time": "2022-08-24T12:50:46.242Z"
   },
   {
    "duration": 5939,
    "start_time": "2022-08-24T12:50:46.267Z"
   },
   {
    "duration": 8,
    "start_time": "2022-08-24T12:50:52.208Z"
   },
   {
    "duration": 14,
    "start_time": "2022-08-24T12:50:52.218Z"
   },
   {
    "duration": 13,
    "start_time": "2022-08-24T12:50:52.233Z"
   },
   {
    "duration": 17,
    "start_time": "2022-08-24T12:50:52.248Z"
   },
   {
    "duration": 28,
    "start_time": "2022-08-24T12:50:52.266Z"
   },
   {
    "duration": 15,
    "start_time": "2022-08-24T12:51:23.934Z"
   },
   {
    "duration": 7,
    "start_time": "2022-08-24T12:51:27.176Z"
   },
   {
    "duration": 6,
    "start_time": "2022-08-24T12:52:21.192Z"
   },
   {
    "duration": 9,
    "start_time": "2022-08-24T12:53:56.646Z"
   },
   {
    "duration": 3,
    "start_time": "2022-08-24T13:11:14.691Z"
   },
   {
    "duration": 4,
    "start_time": "2022-08-24T13:11:40.906Z"
   },
   {
    "duration": 4,
    "start_time": "2022-08-24T13:11:47.469Z"
   },
   {
    "duration": 3,
    "start_time": "2022-08-24T13:11:58.733Z"
   },
   {
    "duration": 4,
    "start_time": "2022-08-24T13:11:58.999Z"
   },
   {
    "duration": 59,
    "start_time": "2022-08-24T13:12:00.421Z"
   },
   {
    "duration": 3,
    "start_time": "2022-08-24T13:12:36.128Z"
   },
   {
    "duration": 7,
    "start_time": "2022-08-24T13:12:40.677Z"
   },
   {
    "duration": 4,
    "start_time": "2022-08-24T13:12:44.871Z"
   },
   {
    "duration": 3,
    "start_time": "2022-08-24T13:12:53.898Z"
   },
   {
    "duration": 8,
    "start_time": "2022-08-24T13:12:54.307Z"
   },
   {
    "duration": 4,
    "start_time": "2022-08-24T13:12:59.133Z"
   },
   {
    "duration": 59,
    "start_time": "2022-08-24T13:13:07.529Z"
   },
   {
    "duration": 3,
    "start_time": "2022-08-24T13:13:38.759Z"
   },
   {
    "duration": 4,
    "start_time": "2022-08-24T13:13:47.416Z"
   },
   {
    "duration": 4,
    "start_time": "2022-08-24T13:13:54.369Z"
   },
   {
    "duration": 2,
    "start_time": "2022-08-24T13:13:59.522Z"
   },
   {
    "duration": 3,
    "start_time": "2022-08-24T13:14:05.809Z"
   },
   {
    "duration": 77,
    "start_time": "2022-08-24T13:14:15.050Z"
   },
   {
    "duration": 66,
    "start_time": "2022-08-24T13:14:31.303Z"
   },
   {
    "duration": 4,
    "start_time": "2022-08-24T13:14:47.855Z"
   },
   {
    "duration": 3,
    "start_time": "2022-08-24T13:15:49.658Z"
   },
   {
    "duration": 4,
    "start_time": "2022-08-24T13:15:55.711Z"
   },
   {
    "duration": 55,
    "start_time": "2022-08-24T13:16:15.820Z"
   },
   {
    "duration": 55,
    "start_time": "2022-08-24T13:17:32.673Z"
   },
   {
    "duration": 66,
    "start_time": "2022-08-24T13:17:59.836Z"
   },
   {
    "duration": 61,
    "start_time": "2022-08-24T13:18:09.603Z"
   },
   {
    "duration": 3,
    "start_time": "2022-08-24T13:19:17.268Z"
   },
   {
    "duration": 3,
    "start_time": "2022-08-24T13:19:51.902Z"
   },
   {
    "duration": 6,
    "start_time": "2022-08-24T13:20:14.713Z"
   },
   {
    "duration": 7,
    "start_time": "2022-08-24T13:20:42.205Z"
   },
   {
    "duration": 7,
    "start_time": "2022-08-24T13:21:22.217Z"
   },
   {
    "duration": 8,
    "start_time": "2022-08-24T13:22:05.575Z"
   },
   {
    "duration": 3,
    "start_time": "2022-08-24T13:32:12.372Z"
   },
   {
    "duration": 7,
    "start_time": "2022-08-24T13:32:44.905Z"
   },
   {
    "duration": 4,
    "start_time": "2022-08-24T13:32:59.526Z"
   },
   {
    "duration": 6,
    "start_time": "2022-08-24T13:33:03.041Z"
   },
   {
    "duration": 4,
    "start_time": "2022-08-24T13:33:10.159Z"
   },
   {
    "duration": 6,
    "start_time": "2022-08-24T13:33:13.909Z"
   },
   {
    "duration": 5,
    "start_time": "2022-08-24T13:33:34.384Z"
   },
   {
    "duration": 7,
    "start_time": "2022-08-24T13:33:35.177Z"
   },
   {
    "duration": 5,
    "start_time": "2022-08-24T13:33:38.355Z"
   },
   {
    "duration": 4,
    "start_time": "2022-08-24T13:34:05.592Z"
   },
   {
    "duration": 6,
    "start_time": "2022-08-24T13:34:08.339Z"
   },
   {
    "duration": 4,
    "start_time": "2022-08-24T13:34:40.356Z"
   },
   {
    "duration": 3,
    "start_time": "2022-08-24T13:34:55.082Z"
   },
   {
    "duration": 2,
    "start_time": "2022-08-24T13:35:09.773Z"
   },
   {
    "duration": 9,
    "start_time": "2022-08-24T13:35:21.202Z"
   },
   {
    "duration": 3,
    "start_time": "2022-08-24T13:35:25.934Z"
   },
   {
    "duration": 8,
    "start_time": "2022-08-24T13:35:26.752Z"
   },
   {
    "duration": 8,
    "start_time": "2022-08-24T13:38:12.231Z"
   },
   {
    "duration": 7,
    "start_time": "2022-08-24T13:38:26.777Z"
   },
   {
    "duration": 7,
    "start_time": "2022-08-24T13:41:14.816Z"
   },
   {
    "duration": 2,
    "start_time": "2022-08-24T13:42:15.638Z"
   },
   {
    "duration": 10,
    "start_time": "2022-08-24T13:42:28.909Z"
   },
   {
    "duration": 10,
    "start_time": "2022-08-24T13:42:31.762Z"
   },
   {
    "duration": 434,
    "start_time": "2022-08-24T13:43:32.973Z"
   },
   {
    "duration": 724,
    "start_time": "2022-08-24T13:43:33.409Z"
   },
   {
    "duration": 240,
    "start_time": "2022-08-24T13:43:34.135Z"
   },
   {
    "duration": 2,
    "start_time": "2022-08-24T13:43:34.377Z"
   },
   {
    "duration": 198,
    "start_time": "2022-08-24T13:43:34.381Z"
   },
   {
    "duration": 16,
    "start_time": "2022-08-24T13:43:34.581Z"
   },
   {
    "duration": 21,
    "start_time": "2022-08-24T13:43:34.599Z"
   },
   {
    "duration": 9,
    "start_time": "2022-08-24T13:43:34.621Z"
   },
   {
    "duration": 22,
    "start_time": "2022-08-24T13:43:34.632Z"
   },
   {
    "duration": 34,
    "start_time": "2022-08-24T13:43:34.656Z"
   },
   {
    "duration": 616,
    "start_time": "2022-08-24T13:43:34.691Z"
   },
   {
    "duration": 7,
    "start_time": "2022-08-24T13:43:35.308Z"
   },
   {
    "duration": 112,
    "start_time": "2022-08-24T13:43:35.317Z"
   },
   {
    "duration": 5,
    "start_time": "2022-08-24T13:43:35.432Z"
   },
   {
    "duration": 6279,
    "start_time": "2022-08-24T13:43:35.438Z"
   },
   {
    "duration": 10,
    "start_time": "2022-08-24T13:43:41.719Z"
   },
   {
    "duration": 3,
    "start_time": "2022-08-24T13:43:41.730Z"
   },
   {
    "duration": 8,
    "start_time": "2022-08-24T13:43:41.734Z"
   },
   {
    "duration": 6,
    "start_time": "2022-08-24T13:43:41.743Z"
   },
   {
    "duration": 7,
    "start_time": "2022-08-24T13:43:41.751Z"
   },
   {
    "duration": 40,
    "start_time": "2022-08-24T13:43:41.759Z"
   },
   {
    "duration": 111,
    "start_time": "2022-08-24T13:43:41.801Z"
   },
   {
    "duration": 89,
    "start_time": "2022-08-24T13:43:41.914Z"
   },
   {
    "duration": 109,
    "start_time": "2022-08-24T13:43:42.005Z"
   },
   {
    "duration": 12,
    "start_time": "2022-08-24T13:43:42.115Z"
   },
   {
    "duration": 186,
    "start_time": "2022-08-24T13:43:42.129Z"
   },
   {
    "duration": 82,
    "start_time": "2022-08-24T13:43:42.317Z"
   },
   {
    "duration": 102,
    "start_time": "2022-08-24T13:43:42.402Z"
   },
   {
    "duration": 4,
    "start_time": "2022-08-24T13:43:42.505Z"
   },
   {
    "duration": 18,
    "start_time": "2022-08-24T13:43:42.510Z"
   },
   {
    "duration": 11,
    "start_time": "2022-08-24T13:43:42.529Z"
   },
   {
    "duration": 400,
    "start_time": "2022-08-25T06:34:44.478Z"
   },
   {
    "duration": 678,
    "start_time": "2022-08-25T06:34:44.880Z"
   },
   {
    "duration": 231,
    "start_time": "2022-08-25T06:34:45.560Z"
   },
   {
    "duration": 2,
    "start_time": "2022-08-25T06:34:45.793Z"
   },
   {
    "duration": 792,
    "start_time": "2022-08-25T06:34:45.797Z"
   },
   {
    "duration": 11,
    "start_time": "2022-08-25T06:34:46.591Z"
   },
   {
    "duration": 13,
    "start_time": "2022-08-25T06:34:46.603Z"
   },
   {
    "duration": 12,
    "start_time": "2022-08-25T06:34:46.617Z"
   },
   {
    "duration": 10,
    "start_time": "2022-08-25T06:34:46.631Z"
   },
   {
    "duration": 19,
    "start_time": "2022-08-25T06:34:46.643Z"
   },
   {
    "duration": 558,
    "start_time": "2022-08-25T06:34:46.665Z"
   },
   {
    "duration": 5,
    "start_time": "2022-08-25T06:34:47.224Z"
   },
   {
    "duration": 85,
    "start_time": "2022-08-25T06:34:47.230Z"
   },
   {
    "duration": 4,
    "start_time": "2022-08-25T06:34:47.317Z"
   },
   {
    "duration": 5946,
    "start_time": "2022-08-25T06:34:47.323Z"
   },
   {
    "duration": 10,
    "start_time": "2022-08-25T06:34:53.271Z"
   },
   {
    "duration": 3,
    "start_time": "2022-08-25T06:34:53.282Z"
   },
   {
    "duration": 7,
    "start_time": "2022-08-25T06:34:53.287Z"
   },
   {
    "duration": 10,
    "start_time": "2022-08-25T06:34:53.296Z"
   },
   {
    "duration": 10,
    "start_time": "2022-08-25T06:34:53.308Z"
   },
   {
    "duration": 13,
    "start_time": "2022-08-25T06:34:53.319Z"
   },
   {
    "duration": 69,
    "start_time": "2022-08-25T06:34:53.333Z"
   },
   {
    "duration": 197,
    "start_time": "2022-08-25T06:34:53.404Z"
   },
   {
    "duration": 14,
    "start_time": "2022-08-25T06:34:53.602Z"
   },
   {
    "duration": 11,
    "start_time": "2022-08-25T06:34:53.618Z"
   },
   {
    "duration": 78,
    "start_time": "2022-08-25T06:34:53.631Z"
   },
   {
    "duration": 89,
    "start_time": "2022-08-25T06:34:53.711Z"
   },
   {
    "duration": 146,
    "start_time": "2022-08-25T06:34:53.804Z"
   },
   {
    "duration": 13,
    "start_time": "2022-08-25T06:34:53.952Z"
   },
   {
    "duration": 12,
    "start_time": "2022-08-25T06:34:53.966Z"
   },
   {
    "duration": 14,
    "start_time": "2022-08-25T06:34:53.979Z"
   },
   {
    "duration": 130,
    "start_time": "2022-08-25T06:46:25.161Z"
   },
   {
    "duration": 15,
    "start_time": "2022-08-25T06:46:54.743Z"
   },
   {
    "duration": 0,
    "start_time": "2022-08-25T06:46:54.760Z"
   },
   {
    "duration": 1889,
    "start_time": "2022-08-25T06:46:54.969Z"
   },
   {
    "duration": 0,
    "start_time": "2022-08-25T06:46:56.861Z"
   },
   {
    "duration": 0,
    "start_time": "2022-08-25T06:46:56.862Z"
   },
   {
    "duration": 0,
    "start_time": "2022-08-25T06:46:56.863Z"
   },
   {
    "duration": 0,
    "start_time": "2022-08-25T06:46:56.863Z"
   },
   {
    "duration": 0,
    "start_time": "2022-08-25T06:46:56.864Z"
   },
   {
    "duration": 0,
    "start_time": "2022-08-25T06:46:56.866Z"
   },
   {
    "duration": 0,
    "start_time": "2022-08-25T06:46:56.867Z"
   },
   {
    "duration": 0,
    "start_time": "2022-08-25T06:46:56.871Z"
   },
   {
    "duration": 0,
    "start_time": "2022-08-25T06:46:56.873Z"
   },
   {
    "duration": 0,
    "start_time": "2022-08-25T06:46:56.874Z"
   },
   {
    "duration": 0,
    "start_time": "2022-08-25T06:46:56.875Z"
   },
   {
    "duration": 0,
    "start_time": "2022-08-25T06:46:56.898Z"
   },
   {
    "duration": 0,
    "start_time": "2022-08-25T06:46:56.900Z"
   },
   {
    "duration": 0,
    "start_time": "2022-08-25T06:46:56.901Z"
   },
   {
    "duration": 0,
    "start_time": "2022-08-25T06:46:56.903Z"
   },
   {
    "duration": 0,
    "start_time": "2022-08-25T06:46:56.905Z"
   },
   {
    "duration": 3,
    "start_time": "2022-08-25T06:47:16.798Z"
   },
   {
    "duration": 18,
    "start_time": "2022-08-25T06:47:16.804Z"
   },
   {
    "duration": 29,
    "start_time": "2022-08-25T06:47:16.825Z"
   },
   {
    "duration": 13,
    "start_time": "2022-08-25T06:47:16.857Z"
   },
   {
    "duration": 129,
    "start_time": "2022-08-25T06:47:16.872Z"
   },
   {
    "duration": 13,
    "start_time": "2022-08-25T06:47:17.003Z"
   },
   {
    "duration": 19,
    "start_time": "2022-08-25T06:47:17.018Z"
   },
   {
    "duration": 10,
    "start_time": "2022-08-25T06:47:17.039Z"
   },
   {
    "duration": 17,
    "start_time": "2022-08-25T06:47:17.053Z"
   },
   {
    "duration": 39,
    "start_time": "2022-08-25T06:47:17.072Z"
   },
   {
    "duration": 670,
    "start_time": "2022-08-25T06:47:17.112Z"
   },
   {
    "duration": 15,
    "start_time": "2022-08-25T06:47:17.784Z"
   },
   {
    "duration": 20,
    "start_time": "2022-08-25T06:47:19.691Z"
   },
   {
    "duration": 25,
    "start_time": "2022-08-25T06:50:40.518Z"
   },
   {
    "duration": 6488,
    "start_time": "2022-08-25T06:59:38.596Z"
   },
   {
    "duration": 9,
    "start_time": "2022-08-25T07:02:32.351Z"
   },
   {
    "duration": 5,
    "start_time": "2022-08-25T07:53:44.977Z"
   },
   {
    "duration": 5,
    "start_time": "2022-08-25T07:56:27.343Z"
   },
   {
    "duration": 2,
    "start_time": "2022-08-25T07:56:32.091Z"
   },
   {
    "duration": 3,
    "start_time": "2022-08-25T07:56:33.533Z"
   },
   {
    "duration": 13,
    "start_time": "2022-08-25T07:56:44.842Z"
   },
   {
    "duration": 396,
    "start_time": "2022-08-25T07:56:53.092Z"
   },
   {
    "duration": 677,
    "start_time": "2022-08-25T07:56:53.490Z"
   },
   {
    "duration": 307,
    "start_time": "2022-08-25T07:56:54.169Z"
   },
   {
    "duration": 3,
    "start_time": "2022-08-25T07:56:54.478Z"
   },
   {
    "duration": 157,
    "start_time": "2022-08-25T07:56:54.483Z"
   },
   {
    "duration": 13,
    "start_time": "2022-08-25T07:56:54.642Z"
   },
   {
    "duration": 13,
    "start_time": "2022-08-25T07:56:54.657Z"
   },
   {
    "duration": 27,
    "start_time": "2022-08-25T07:56:54.672Z"
   },
   {
    "duration": 9,
    "start_time": "2022-08-25T07:56:54.700Z"
   },
   {
    "duration": 26,
    "start_time": "2022-08-25T07:56:54.712Z"
   },
   {
    "duration": 596,
    "start_time": "2022-08-25T07:56:54.740Z"
   },
   {
    "duration": 5,
    "start_time": "2022-08-25T07:56:55.337Z"
   },
   {
    "duration": 93,
    "start_time": "2022-08-25T07:56:55.344Z"
   },
   {
    "duration": 5,
    "start_time": "2022-08-25T07:56:55.439Z"
   },
   {
    "duration": 6008,
    "start_time": "2022-08-25T07:56:55.445Z"
   },
   {
    "duration": 9,
    "start_time": "2022-08-25T07:57:01.455Z"
   },
   {
    "duration": 20,
    "start_time": "2022-08-25T07:57:01.465Z"
   },
   {
    "duration": 34,
    "start_time": "2022-08-25T07:57:01.487Z"
   },
   {
    "duration": 37,
    "start_time": "2022-08-25T07:57:01.523Z"
   },
   {
    "duration": 48,
    "start_time": "2022-08-25T07:57:01.562Z"
   },
   {
    "duration": 25,
    "start_time": "2022-08-25T07:57:01.612Z"
   },
   {
    "duration": 108,
    "start_time": "2022-08-25T07:57:01.699Z"
   },
   {
    "duration": 190,
    "start_time": "2022-08-25T07:57:01.809Z"
   },
   {
    "duration": 11,
    "start_time": "2022-08-25T07:57:02.001Z"
   },
   {
    "duration": 48,
    "start_time": "2022-08-25T07:57:02.014Z"
   },
   {
    "duration": 139,
    "start_time": "2022-08-25T07:57:02.064Z"
   },
   {
    "duration": 94,
    "start_time": "2022-08-25T07:57:02.205Z"
   },
   {
    "duration": 98,
    "start_time": "2022-08-25T07:57:02.303Z"
   },
   {
    "duration": 99,
    "start_time": "2022-08-25T07:57:02.403Z"
   },
   {
    "duration": 4,
    "start_time": "2022-08-25T07:57:02.504Z"
   },
   {
    "duration": 105,
    "start_time": "2022-08-25T07:57:02.510Z"
   },
   {
    "duration": 4,
    "start_time": "2022-08-25T07:57:02.617Z"
   },
   {
    "duration": 3,
    "start_time": "2022-08-25T07:58:06.863Z"
   },
   {
    "duration": 7,
    "start_time": "2022-08-25T07:58:37.139Z"
   },
   {
    "duration": 9,
    "start_time": "2022-08-25T07:59:34.617Z"
   },
   {
    "duration": 5,
    "start_time": "2022-08-25T07:59:35.299Z"
   },
   {
    "duration": 10,
    "start_time": "2022-08-25T07:59:40.395Z"
   },
   {
    "duration": 8,
    "start_time": "2022-08-25T07:59:43.433Z"
   },
   {
    "duration": 3,
    "start_time": "2022-08-25T08:03:34.319Z"
   },
   {
    "duration": 5,
    "start_time": "2022-08-25T08:04:50.174Z"
   },
   {
    "duration": 395,
    "start_time": "2022-08-25T08:05:12.197Z"
   },
   {
    "duration": 671,
    "start_time": "2022-08-25T08:05:12.594Z"
   },
   {
    "duration": 310,
    "start_time": "2022-08-25T08:05:13.266Z"
   },
   {
    "duration": 3,
    "start_time": "2022-08-25T08:05:13.578Z"
   },
   {
    "duration": 205,
    "start_time": "2022-08-25T08:05:13.583Z"
   },
   {
    "duration": 10,
    "start_time": "2022-08-25T08:05:13.789Z"
   },
   {
    "duration": 5,
    "start_time": "2022-08-25T08:05:13.801Z"
   },
   {
    "duration": 14,
    "start_time": "2022-08-25T08:05:13.807Z"
   },
   {
    "duration": 9,
    "start_time": "2022-08-25T08:05:13.822Z"
   },
   {
    "duration": 20,
    "start_time": "2022-08-25T08:05:13.833Z"
   },
   {
    "duration": 592,
    "start_time": "2022-08-25T08:05:13.855Z"
   },
   {
    "duration": 6,
    "start_time": "2022-08-25T08:05:14.450Z"
   },
   {
    "duration": 114,
    "start_time": "2022-08-25T08:05:14.458Z"
   },
   {
    "duration": 6,
    "start_time": "2022-08-25T08:05:14.575Z"
   },
   {
    "duration": 6126,
    "start_time": "2022-08-25T08:05:14.583Z"
   },
   {
    "duration": 9,
    "start_time": "2022-08-25T08:05:20.711Z"
   },
   {
    "duration": 10,
    "start_time": "2022-08-25T08:05:20.722Z"
   },
   {
    "duration": 9,
    "start_time": "2022-08-25T08:05:20.734Z"
   },
   {
    "duration": 9,
    "start_time": "2022-08-25T08:05:20.744Z"
   },
   {
    "duration": 7,
    "start_time": "2022-08-25T08:05:20.755Z"
   },
   {
    "duration": 36,
    "start_time": "2022-08-25T08:05:20.764Z"
   },
   {
    "duration": 7,
    "start_time": "2022-08-25T08:05:20.802Z"
   },
   {
    "duration": 4,
    "start_time": "2022-08-25T08:05:20.903Z"
   },
   {
    "duration": 17,
    "start_time": "2022-08-25T08:05:20.999Z"
   },
   {
    "duration": 13,
    "start_time": "2022-08-25T08:05:21.017Z"
   },
   {
    "duration": 170,
    "start_time": "2022-08-25T08:05:21.031Z"
   },
   {
    "duration": 397,
    "start_time": "2022-08-25T08:05:21.203Z"
   },
   {
    "duration": 0,
    "start_time": "2022-08-25T08:05:21.601Z"
   },
   {
    "duration": 0,
    "start_time": "2022-08-25T08:05:21.603Z"
   },
   {
    "duration": 0,
    "start_time": "2022-08-25T08:05:21.604Z"
   },
   {
    "duration": 0,
    "start_time": "2022-08-25T08:05:21.604Z"
   },
   {
    "duration": 0,
    "start_time": "2022-08-25T08:05:21.606Z"
   },
   {
    "duration": 0,
    "start_time": "2022-08-25T08:05:21.607Z"
   },
   {
    "duration": 2,
    "start_time": "2022-08-25T08:06:00.859Z"
   },
   {
    "duration": 48,
    "start_time": "2022-08-25T08:06:00.863Z"
   },
   {
    "duration": 40,
    "start_time": "2022-08-25T08:06:00.913Z"
   },
   {
    "duration": 29,
    "start_time": "2022-08-25T08:06:00.955Z"
   },
   {
    "duration": 44,
    "start_time": "2022-08-25T08:06:00.985Z"
   },
   {
    "duration": 10,
    "start_time": "2022-08-25T08:06:01.031Z"
   },
   {
    "duration": 3,
    "start_time": "2022-08-25T08:06:20.588Z"
   },
   {
    "duration": 3,
    "start_time": "2022-08-25T08:06:24.078Z"
   },
   {
    "duration": 59,
    "start_time": "2022-08-25T08:10:12.092Z"
   },
   {
    "duration": 4,
    "start_time": "2022-08-25T08:10:17.360Z"
   },
   {
    "duration": 8,
    "start_time": "2022-08-25T08:10:29.940Z"
   },
   {
    "duration": 3,
    "start_time": "2022-08-25T08:10:35.338Z"
   },
   {
    "duration": 4,
    "start_time": "2022-08-25T08:10:57.180Z"
   },
   {
    "duration": 3,
    "start_time": "2022-08-25T08:10:58.461Z"
   },
   {
    "duration": 4,
    "start_time": "2022-08-25T08:10:59.415Z"
   },
   {
    "duration": 3,
    "start_time": "2022-08-25T08:11:00.326Z"
   },
   {
    "duration": 393,
    "start_time": "2022-08-25T08:11:26.825Z"
   },
   {
    "duration": 645,
    "start_time": "2022-08-25T08:11:27.220Z"
   },
   {
    "duration": 240,
    "start_time": "2022-08-25T08:11:27.867Z"
   },
   {
    "duration": 3,
    "start_time": "2022-08-25T08:11:28.108Z"
   },
   {
    "duration": 119,
    "start_time": "2022-08-25T08:11:28.114Z"
   },
   {
    "duration": 15,
    "start_time": "2022-08-25T08:11:28.235Z"
   },
   {
    "duration": 18,
    "start_time": "2022-08-25T08:11:28.252Z"
   },
   {
    "duration": 14,
    "start_time": "2022-08-25T08:11:28.272Z"
   },
   {
    "duration": 37,
    "start_time": "2022-08-25T08:11:28.287Z"
   },
   {
    "duration": 63,
    "start_time": "2022-08-25T08:11:28.325Z"
   },
   {
    "duration": 601,
    "start_time": "2022-08-25T08:11:28.390Z"
   },
   {
    "duration": 5,
    "start_time": "2022-08-25T08:11:28.998Z"
   },
   {
    "duration": 80,
    "start_time": "2022-08-25T08:11:29.004Z"
   },
   {
    "duration": 13,
    "start_time": "2022-08-25T08:11:29.086Z"
   },
   {
    "duration": 6301,
    "start_time": "2022-08-25T08:11:29.100Z"
   },
   {
    "duration": 11,
    "start_time": "2022-08-25T08:11:35.403Z"
   },
   {
    "duration": 4,
    "start_time": "2022-08-25T08:11:35.416Z"
   },
   {
    "duration": 10,
    "start_time": "2022-08-25T08:11:35.421Z"
   },
   {
    "duration": 9,
    "start_time": "2022-08-25T08:11:35.432Z"
   },
   {
    "duration": 12,
    "start_time": "2022-08-25T08:11:35.443Z"
   },
   {
    "duration": 58,
    "start_time": "2022-08-25T08:11:35.456Z"
   },
   {
    "duration": 113,
    "start_time": "2022-08-25T08:11:35.597Z"
   },
   {
    "duration": 188,
    "start_time": "2022-08-25T08:11:35.711Z"
   },
   {
    "duration": 10,
    "start_time": "2022-08-25T08:11:35.901Z"
   },
   {
    "duration": 12,
    "start_time": "2022-08-25T08:11:35.913Z"
   },
   {
    "duration": 116,
    "start_time": "2022-08-25T08:11:35.999Z"
   },
   {
    "duration": 82,
    "start_time": "2022-08-25T08:11:36.118Z"
   },
   {
    "duration": 4,
    "start_time": "2022-08-25T08:11:36.201Z"
   },
   {
    "duration": 96,
    "start_time": "2022-08-25T08:11:36.206Z"
   },
   {
    "duration": 92,
    "start_time": "2022-08-25T08:11:36.308Z"
   },
   {
    "duration": 106,
    "start_time": "2022-08-25T08:11:36.402Z"
   },
   {
    "duration": 89,
    "start_time": "2022-08-25T08:11:36.510Z"
   },
   {
    "duration": 16,
    "start_time": "2022-08-25T08:11:36.600Z"
   },
   {
    "duration": 87,
    "start_time": "2022-08-25T08:11:36.618Z"
   },
   {
    "duration": 96,
    "start_time": "2022-08-25T08:11:36.706Z"
   },
   {
    "duration": 3,
    "start_time": "2022-08-25T08:14:00.450Z"
   },
   {
    "duration": 249,
    "start_time": "2022-08-25T08:14:01.733Z"
   },
   {
    "duration": 143,
    "start_time": "2022-08-25T08:14:47.871Z"
   },
   {
    "duration": 3,
    "start_time": "2022-08-25T08:14:58.784Z"
   },
   {
    "duration": 3,
    "start_time": "2022-08-25T08:15:16.182Z"
   },
   {
    "duration": 3,
    "start_time": "2022-08-25T08:15:24.976Z"
   },
   {
    "duration": 4,
    "start_time": "2022-08-25T08:15:25.796Z"
   },
   {
    "duration": 4,
    "start_time": "2022-08-25T08:15:37.153Z"
   },
   {
    "duration": 5,
    "start_time": "2022-08-25T08:15:40.545Z"
   },
   {
    "duration": 5,
    "start_time": "2022-08-25T08:16:23.062Z"
   },
   {
    "duration": 4,
    "start_time": "2022-08-25T08:16:32.802Z"
   },
   {
    "duration": 4,
    "start_time": "2022-08-25T08:17:08.034Z"
   },
   {
    "duration": 4,
    "start_time": "2022-08-25T08:17:08.796Z"
   },
   {
    "duration": 4,
    "start_time": "2022-08-25T08:17:15.726Z"
   },
   {
    "duration": 4,
    "start_time": "2022-08-25T08:17:26.475Z"
   },
   {
    "duration": 6,
    "start_time": "2022-08-25T08:18:16.240Z"
   },
   {
    "duration": 3,
    "start_time": "2022-08-25T08:22:03.300Z"
   },
   {
    "duration": 8,
    "start_time": "2022-08-25T08:22:09.327Z"
   },
   {
    "duration": 4,
    "start_time": "2022-08-25T08:22:41.032Z"
   },
   {
    "duration": 15,
    "start_time": "2022-08-25T08:22:59.658Z"
   },
   {
    "duration": 403,
    "start_time": "2022-08-25T08:23:15.896Z"
   },
   {
    "duration": 670,
    "start_time": "2022-08-25T08:23:16.301Z"
   },
   {
    "duration": 238,
    "start_time": "2022-08-25T08:23:16.972Z"
   },
   {
    "duration": 3,
    "start_time": "2022-08-25T08:23:17.212Z"
   },
   {
    "duration": 157,
    "start_time": "2022-08-25T08:23:17.216Z"
   },
   {
    "duration": 10,
    "start_time": "2022-08-25T08:23:17.375Z"
   },
   {
    "duration": 9,
    "start_time": "2022-08-25T08:23:17.386Z"
   },
   {
    "duration": 5,
    "start_time": "2022-08-25T08:23:17.397Z"
   },
   {
    "duration": 10,
    "start_time": "2022-08-25T08:23:17.403Z"
   },
   {
    "duration": 21,
    "start_time": "2022-08-25T08:23:17.415Z"
   },
   {
    "duration": 559,
    "start_time": "2022-08-25T08:23:17.437Z"
   },
   {
    "duration": 7,
    "start_time": "2022-08-25T08:23:17.997Z"
   },
   {
    "duration": 81,
    "start_time": "2022-08-25T08:23:18.005Z"
   },
   {
    "duration": 16,
    "start_time": "2022-08-25T08:23:18.087Z"
   },
   {
    "duration": 6996,
    "start_time": "2022-08-25T08:23:18.105Z"
   },
   {
    "duration": 9,
    "start_time": "2022-08-25T08:23:25.103Z"
   },
   {
    "duration": 5,
    "start_time": "2022-08-25T08:23:25.114Z"
   },
   {
    "duration": 8,
    "start_time": "2022-08-25T08:23:25.120Z"
   },
   {
    "duration": 9,
    "start_time": "2022-08-25T08:23:25.130Z"
   },
   {
    "duration": 12,
    "start_time": "2022-08-25T08:23:25.140Z"
   },
   {
    "duration": 50,
    "start_time": "2022-08-25T08:23:25.153Z"
   },
   {
    "duration": 99,
    "start_time": "2022-08-25T08:23:25.205Z"
   },
   {
    "duration": 107,
    "start_time": "2022-08-25T08:23:25.305Z"
   },
   {
    "duration": 13,
    "start_time": "2022-08-25T08:23:25.499Z"
   },
   {
    "duration": 10,
    "start_time": "2022-08-25T08:23:25.513Z"
   },
   {
    "duration": 104,
    "start_time": "2022-08-25T08:23:25.600Z"
   },
   {
    "duration": 10,
    "start_time": "2022-08-25T08:23:25.705Z"
   },
   {
    "duration": 8,
    "start_time": "2022-08-25T08:23:25.797Z"
   },
   {
    "duration": 94,
    "start_time": "2022-08-25T08:23:25.806Z"
   },
   {
    "duration": 12,
    "start_time": "2022-08-25T08:23:25.901Z"
   },
   {
    "duration": 86,
    "start_time": "2022-08-25T08:23:25.915Z"
   },
   {
    "duration": 203,
    "start_time": "2022-08-25T08:23:26.002Z"
   },
   {
    "duration": 0,
    "start_time": "2022-08-25T08:23:26.207Z"
   },
   {
    "duration": 0,
    "start_time": "2022-08-25T08:23:26.208Z"
   },
   {
    "duration": 0,
    "start_time": "2022-08-25T08:23:26.209Z"
   },
   {
    "duration": 0,
    "start_time": "2022-08-25T08:23:26.210Z"
   },
   {
    "duration": 3,
    "start_time": "2022-08-25T08:24:41.622Z"
   },
   {
    "duration": 3,
    "start_time": "2022-08-25T08:24:46.114Z"
   },
   {
    "duration": 3,
    "start_time": "2022-08-25T08:25:18.369Z"
   },
   {
    "duration": 14,
    "start_time": "2022-08-25T08:26:39.504Z"
   },
   {
    "duration": 6,
    "start_time": "2022-08-25T08:27:56.165Z"
   },
   {
    "duration": 6,
    "start_time": "2022-08-25T08:28:53.521Z"
   },
   {
    "duration": 4,
    "start_time": "2022-08-25T08:32:02.464Z"
   },
   {
    "duration": 3,
    "start_time": "2022-08-25T08:34:17.438Z"
   },
   {
    "duration": 5,
    "start_time": "2022-08-25T08:34:52.805Z"
   },
   {
    "duration": 6,
    "start_time": "2022-08-25T08:36:22.289Z"
   },
   {
    "duration": 15,
    "start_time": "2022-08-25T08:43:37.190Z"
   },
   {
    "duration": 3,
    "start_time": "2022-08-25T08:46:40.514Z"
   },
   {
    "duration": 6,
    "start_time": "2022-08-25T08:47:28.359Z"
   },
   {
    "duration": 6,
    "start_time": "2022-08-25T08:48:10.672Z"
   },
   {
    "duration": 5,
    "start_time": "2022-08-25T08:48:52.658Z"
   },
   {
    "duration": 4,
    "start_time": "2022-08-25T08:49:22.032Z"
   },
   {
    "duration": 7,
    "start_time": "2022-08-25T08:49:57.199Z"
   },
   {
    "duration": 4,
    "start_time": "2022-08-25T08:50:06.017Z"
   },
   {
    "duration": 8,
    "start_time": "2022-08-25T08:50:13.514Z"
   },
   {
    "duration": 5,
    "start_time": "2022-08-25T08:50:22.284Z"
   },
   {
    "duration": 3,
    "start_time": "2022-08-25T08:51:07.884Z"
   },
   {
    "duration": 4,
    "start_time": "2022-08-25T08:51:29.062Z"
   },
   {
    "duration": 401,
    "start_time": "2022-08-25T08:52:07.064Z"
   },
   {
    "duration": 729,
    "start_time": "2022-08-25T08:52:07.466Z"
   },
   {
    "duration": 236,
    "start_time": "2022-08-25T08:52:08.200Z"
   },
   {
    "duration": 3,
    "start_time": "2022-08-25T08:52:08.439Z"
   },
   {
    "duration": 84,
    "start_time": "2022-08-25T08:52:08.443Z"
   },
   {
    "duration": 10,
    "start_time": "2022-08-25T08:52:08.529Z"
   },
   {
    "duration": 8,
    "start_time": "2022-08-25T08:52:08.540Z"
   },
   {
    "duration": 8,
    "start_time": "2022-08-25T08:52:08.549Z"
   },
   {
    "duration": 11,
    "start_time": "2022-08-25T08:52:08.558Z"
   },
   {
    "duration": 22,
    "start_time": "2022-08-25T08:52:08.572Z"
   },
   {
    "duration": 554,
    "start_time": "2022-08-25T08:52:08.595Z"
   },
   {
    "duration": 6,
    "start_time": "2022-08-25T08:52:09.150Z"
   },
   {
    "duration": 85,
    "start_time": "2022-08-25T08:52:09.157Z"
   },
   {
    "duration": 8,
    "start_time": "2022-08-25T08:52:09.243Z"
   },
   {
    "duration": 6141,
    "start_time": "2022-08-25T08:52:09.253Z"
   },
   {
    "duration": 10,
    "start_time": "2022-08-25T08:52:15.395Z"
   },
   {
    "duration": 10,
    "start_time": "2022-08-25T08:52:15.407Z"
   },
   {
    "duration": 7,
    "start_time": "2022-08-25T08:52:15.418Z"
   },
   {
    "duration": 7,
    "start_time": "2022-08-25T08:52:15.426Z"
   },
   {
    "duration": 7,
    "start_time": "2022-08-25T08:52:15.435Z"
   },
   {
    "duration": 57,
    "start_time": "2022-08-25T08:52:15.444Z"
   },
   {
    "duration": 8,
    "start_time": "2022-08-25T08:52:15.503Z"
   },
   {
    "duration": 6,
    "start_time": "2022-08-25T08:52:15.598Z"
   },
   {
    "duration": 100,
    "start_time": "2022-08-25T08:52:15.606Z"
   },
   {
    "duration": 9,
    "start_time": "2022-08-25T08:52:15.708Z"
   },
   {
    "duration": 180,
    "start_time": "2022-08-25T08:52:15.719Z"
   },
   {
    "duration": 9,
    "start_time": "2022-08-25T08:52:15.901Z"
   },
   {
    "duration": 89,
    "start_time": "2022-08-25T08:52:15.914Z"
   },
   {
    "duration": 8,
    "start_time": "2022-08-25T08:52:16.005Z"
   },
   {
    "duration": 11,
    "start_time": "2022-08-25T08:52:16.015Z"
   },
   {
    "duration": 7,
    "start_time": "2022-08-25T08:52:16.027Z"
   },
   {
    "duration": 6,
    "start_time": "2022-08-25T08:52:16.036Z"
   },
   {
    "duration": 18,
    "start_time": "2022-08-25T08:52:16.043Z"
   },
   {
    "duration": 9,
    "start_time": "2022-08-25T08:52:16.099Z"
   },
   {
    "duration": 96,
    "start_time": "2022-08-25T08:52:16.110Z"
   },
   {
    "duration": 8,
    "start_time": "2022-08-25T08:52:16.208Z"
   },
   {
    "duration": 7,
    "start_time": "2022-08-25T08:52:16.298Z"
   },
   {
    "duration": 36,
    "start_time": "2022-08-25T08:52:16.306Z"
   },
   {
    "duration": 9,
    "start_time": "2022-08-25T08:52:16.344Z"
   },
   {
    "duration": 49,
    "start_time": "2022-08-25T08:52:16.355Z"
   },
   {
    "duration": 98,
    "start_time": "2022-08-25T08:52:16.406Z"
   },
   {
    "duration": 5,
    "start_time": "2022-08-25T08:52:16.506Z"
   },
   {
    "duration": 7,
    "start_time": "2022-08-25T08:52:16.512Z"
   },
   {
    "duration": 5,
    "start_time": "2022-08-25T08:52:16.520Z"
   },
   {
    "duration": 4,
    "start_time": "2022-08-25T08:53:35.740Z"
   },
   {
    "duration": 445,
    "start_time": "2022-08-25T08:53:41.372Z"
   },
   {
    "duration": 708,
    "start_time": "2022-08-25T08:53:41.819Z"
   },
   {
    "duration": 250,
    "start_time": "2022-08-25T08:53:42.530Z"
   },
   {
    "duration": 3,
    "start_time": "2022-08-25T08:53:42.782Z"
   },
   {
    "duration": 94,
    "start_time": "2022-08-25T08:53:42.787Z"
   },
   {
    "duration": 11,
    "start_time": "2022-08-25T08:53:42.883Z"
   },
   {
    "duration": 22,
    "start_time": "2022-08-25T08:53:42.896Z"
   },
   {
    "duration": 14,
    "start_time": "2022-08-25T08:53:42.920Z"
   },
   {
    "duration": 13,
    "start_time": "2022-08-25T08:53:42.936Z"
   },
   {
    "duration": 25,
    "start_time": "2022-08-25T08:53:42.952Z"
   },
   {
    "duration": 591,
    "start_time": "2022-08-25T08:53:42.979Z"
   },
   {
    "duration": 7,
    "start_time": "2022-08-25T08:53:43.572Z"
   },
   {
    "duration": 136,
    "start_time": "2022-08-25T08:53:43.581Z"
   },
   {
    "duration": 6,
    "start_time": "2022-08-25T08:53:43.721Z"
   },
   {
    "duration": 6404,
    "start_time": "2022-08-25T08:53:43.729Z"
   },
   {
    "duration": 13,
    "start_time": "2022-08-25T08:53:50.135Z"
   },
   {
    "duration": 9,
    "start_time": "2022-08-25T08:53:50.149Z"
   },
   {
    "duration": 5,
    "start_time": "2022-08-25T08:53:50.160Z"
   },
   {
    "duration": 8,
    "start_time": "2022-08-25T08:53:50.166Z"
   },
   {
    "duration": 10,
    "start_time": "2022-08-25T08:53:50.176Z"
   },
   {
    "duration": 42,
    "start_time": "2022-08-25T08:53:50.188Z"
   },
   {
    "duration": 168,
    "start_time": "2022-08-25T08:53:50.232Z"
   },
   {
    "duration": 102,
    "start_time": "2022-08-25T08:53:50.402Z"
   },
   {
    "duration": 17,
    "start_time": "2022-08-25T08:53:50.518Z"
   },
   {
    "duration": 73,
    "start_time": "2022-08-25T08:53:50.536Z"
   },
   {
    "duration": 118,
    "start_time": "2022-08-25T08:53:50.611Z"
   },
   {
    "duration": 77,
    "start_time": "2022-08-25T08:53:50.731Z"
   },
   {
    "duration": 115,
    "start_time": "2022-08-25T08:53:50.809Z"
   },
   {
    "duration": 14,
    "start_time": "2022-08-25T08:53:50.925Z"
   },
   {
    "duration": 14,
    "start_time": "2022-08-25T08:53:50.940Z"
   },
   {
    "duration": 6,
    "start_time": "2022-08-25T08:53:50.956Z"
   },
   {
    "duration": 258,
    "start_time": "2022-08-25T08:53:50.964Z"
   },
   {
    "duration": 0,
    "start_time": "2022-08-25T08:53:51.224Z"
   },
   {
    "duration": 0,
    "start_time": "2022-08-25T08:53:51.225Z"
   },
   {
    "duration": 0,
    "start_time": "2022-08-25T08:53:51.226Z"
   },
   {
    "duration": 0,
    "start_time": "2022-08-25T08:53:51.228Z"
   },
   {
    "duration": 0,
    "start_time": "2022-08-25T08:53:51.229Z"
   },
   {
    "duration": 0,
    "start_time": "2022-08-25T08:53:51.231Z"
   },
   {
    "duration": 0,
    "start_time": "2022-08-25T08:53:51.232Z"
   },
   {
    "duration": 0,
    "start_time": "2022-08-25T08:53:51.234Z"
   },
   {
    "duration": 0,
    "start_time": "2022-08-25T08:53:51.235Z"
   },
   {
    "duration": 0,
    "start_time": "2022-08-25T08:53:51.237Z"
   },
   {
    "duration": 0,
    "start_time": "2022-08-25T08:53:51.238Z"
   },
   {
    "duration": 0,
    "start_time": "2022-08-25T08:53:51.240Z"
   },
   {
    "duration": 4,
    "start_time": "2022-08-25T08:54:45.337Z"
   },
   {
    "duration": 369,
    "start_time": "2022-08-25T08:54:56.048Z"
   },
   {
    "duration": 736,
    "start_time": "2022-08-25T08:54:56.419Z"
   },
   {
    "duration": 262,
    "start_time": "2022-08-25T08:54:57.157Z"
   },
   {
    "duration": 3,
    "start_time": "2022-08-25T08:54:57.421Z"
   },
   {
    "duration": 112,
    "start_time": "2022-08-25T08:54:57.426Z"
   },
   {
    "duration": 12,
    "start_time": "2022-08-25T08:54:57.540Z"
   },
   {
    "duration": 13,
    "start_time": "2022-08-25T08:54:57.554Z"
   },
   {
    "duration": 9,
    "start_time": "2022-08-25T08:54:57.568Z"
   },
   {
    "duration": 18,
    "start_time": "2022-08-25T08:54:57.579Z"
   },
   {
    "duration": 36,
    "start_time": "2022-08-25T08:54:57.599Z"
   },
   {
    "duration": 629,
    "start_time": "2022-08-25T08:54:57.637Z"
   },
   {
    "duration": 6,
    "start_time": "2022-08-25T08:54:58.268Z"
   },
   {
    "duration": 100,
    "start_time": "2022-08-25T08:54:58.276Z"
   },
   {
    "duration": 6,
    "start_time": "2022-08-25T08:54:58.377Z"
   },
   {
    "duration": 6597,
    "start_time": "2022-08-25T08:54:58.385Z"
   },
   {
    "duration": 9,
    "start_time": "2022-08-25T08:55:04.984Z"
   },
   {
    "duration": 6,
    "start_time": "2022-08-25T08:55:04.995Z"
   },
   {
    "duration": 13,
    "start_time": "2022-08-25T08:55:05.010Z"
   },
   {
    "duration": 10,
    "start_time": "2022-08-25T08:55:05.025Z"
   },
   {
    "duration": 9,
    "start_time": "2022-08-25T08:55:05.036Z"
   },
   {
    "duration": 57,
    "start_time": "2022-08-25T08:55:05.047Z"
   },
   {
    "duration": 102,
    "start_time": "2022-08-25T08:55:05.105Z"
   },
   {
    "duration": 105,
    "start_time": "2022-08-25T08:55:05.215Z"
   },
   {
    "duration": 16,
    "start_time": "2022-08-25T08:55:05.322Z"
   },
   {
    "duration": 81,
    "start_time": "2022-08-25T08:55:05.339Z"
   },
   {
    "duration": 108,
    "start_time": "2022-08-25T08:55:05.421Z"
   },
   {
    "duration": 69,
    "start_time": "2022-08-25T08:55:05.531Z"
   },
   {
    "duration": 84,
    "start_time": "2022-08-25T08:55:05.627Z"
   },
   {
    "duration": 19,
    "start_time": "2022-08-25T08:55:05.714Z"
   },
   {
    "duration": 11,
    "start_time": "2022-08-25T08:55:05.735Z"
   },
   {
    "duration": 8,
    "start_time": "2022-08-25T08:55:05.748Z"
   },
   {
    "duration": 5,
    "start_time": "2022-08-25T08:55:05.758Z"
   },
   {
    "duration": 18,
    "start_time": "2022-08-25T08:55:05.798Z"
   },
   {
    "duration": 94,
    "start_time": "2022-08-25T08:55:05.817Z"
   },
   {
    "duration": 9,
    "start_time": "2022-08-25T08:55:05.919Z"
   },
   {
    "duration": 21,
    "start_time": "2022-08-25T08:55:06.006Z"
   },
   {
    "duration": 12,
    "start_time": "2022-08-25T08:55:06.105Z"
   },
   {
    "duration": 21,
    "start_time": "2022-08-25T08:55:06.118Z"
   },
   {
    "duration": 8,
    "start_time": "2022-08-25T08:55:06.141Z"
   },
   {
    "duration": 65,
    "start_time": "2022-08-25T08:55:06.151Z"
   },
   {
    "duration": 90,
    "start_time": "2022-08-25T08:55:06.220Z"
   },
   {
    "duration": 6,
    "start_time": "2022-08-25T08:55:06.312Z"
   },
   {
    "duration": 26,
    "start_time": "2022-08-25T08:55:06.320Z"
   },
   {
    "duration": 4,
    "start_time": "2022-08-25T08:55:06.348Z"
   },
   {
    "duration": 4,
    "start_time": "2022-08-25T08:55:52.111Z"
   },
   {
    "duration": 3,
    "start_time": "2022-08-25T08:55:55.879Z"
   },
   {
    "duration": 4,
    "start_time": "2022-08-25T08:56:01.511Z"
   },
   {
    "duration": 374,
    "start_time": "2022-08-25T08:57:52.239Z"
   },
   {
    "duration": 656,
    "start_time": "2022-08-25T08:57:52.614Z"
   },
   {
    "duration": 247,
    "start_time": "2022-08-25T08:57:53.271Z"
   },
   {
    "duration": 3,
    "start_time": "2022-08-25T08:57:53.519Z"
   },
   {
    "duration": 221,
    "start_time": "2022-08-25T08:57:53.523Z"
   },
   {
    "duration": 11,
    "start_time": "2022-08-25T08:57:53.745Z"
   },
   {
    "duration": 4,
    "start_time": "2022-08-25T08:57:53.758Z"
   },
   {
    "duration": 8,
    "start_time": "2022-08-25T08:57:53.764Z"
   },
   {
    "duration": 9,
    "start_time": "2022-08-25T08:57:53.773Z"
   },
   {
    "duration": 26,
    "start_time": "2022-08-25T08:57:53.785Z"
   },
   {
    "duration": 592,
    "start_time": "2022-08-25T08:57:53.813Z"
   },
   {
    "duration": 7,
    "start_time": "2022-08-25T08:57:54.413Z"
   },
   {
    "duration": 89,
    "start_time": "2022-08-25T08:57:54.422Z"
   },
   {
    "duration": 12,
    "start_time": "2022-08-25T08:57:54.514Z"
   },
   {
    "duration": 6149,
    "start_time": "2022-08-25T08:57:54.528Z"
   },
   {
    "duration": 13,
    "start_time": "2022-08-25T08:58:00.679Z"
   },
   {
    "duration": 32,
    "start_time": "2022-08-25T08:58:00.693Z"
   },
   {
    "duration": 22,
    "start_time": "2022-08-25T08:58:00.726Z"
   },
   {
    "duration": 27,
    "start_time": "2022-08-25T08:58:00.749Z"
   },
   {
    "duration": 39,
    "start_time": "2022-08-25T08:58:00.777Z"
   },
   {
    "duration": 28,
    "start_time": "2022-08-25T08:58:00.818Z"
   },
   {
    "duration": 60,
    "start_time": "2022-08-25T08:58:00.848Z"
   },
   {
    "duration": 222,
    "start_time": "2022-08-25T08:58:00.909Z"
   },
   {
    "duration": 26,
    "start_time": "2022-08-25T08:58:01.132Z"
   },
   {
    "duration": 27,
    "start_time": "2022-08-25T08:58:01.160Z"
   },
   {
    "duration": 122,
    "start_time": "2022-08-25T08:58:01.189Z"
   },
   {
    "duration": 191,
    "start_time": "2022-08-25T08:58:01.313Z"
   },
   {
    "duration": 37,
    "start_time": "2022-08-25T08:58:01.507Z"
   },
   {
    "duration": 18,
    "start_time": "2022-08-25T08:58:01.545Z"
   },
   {
    "duration": 27,
    "start_time": "2022-08-25T08:58:01.564Z"
   },
   {
    "duration": 27,
    "start_time": "2022-08-25T08:58:01.592Z"
   },
   {
    "duration": 13,
    "start_time": "2022-08-25T08:58:01.621Z"
   },
   {
    "duration": 72,
    "start_time": "2022-08-25T08:58:01.636Z"
   },
   {
    "duration": 99,
    "start_time": "2022-08-25T08:58:01.709Z"
   },
   {
    "duration": 10,
    "start_time": "2022-08-25T08:58:01.810Z"
   },
   {
    "duration": 96,
    "start_time": "2022-08-25T08:58:01.822Z"
   },
   {
    "duration": 103,
    "start_time": "2022-08-25T08:58:01.919Z"
   },
   {
    "duration": 18,
    "start_time": "2022-08-25T08:58:02.023Z"
   },
   {
    "duration": 71,
    "start_time": "2022-08-25T08:58:02.043Z"
   },
   {
    "duration": 98,
    "start_time": "2022-08-25T08:58:02.116Z"
   },
   {
    "duration": 85,
    "start_time": "2022-08-25T08:58:02.216Z"
   },
   {
    "duration": 20,
    "start_time": "2022-08-25T08:58:02.303Z"
   },
   {
    "duration": 10,
    "start_time": "2022-08-25T08:58:02.325Z"
   },
   {
    "duration": 24,
    "start_time": "2022-08-25T08:58:02.336Z"
   },
   {
    "duration": 5,
    "start_time": "2022-08-25T08:58:54.527Z"
   },
   {
    "duration": 4,
    "start_time": "2022-08-25T08:59:03.685Z"
   },
   {
    "duration": 398,
    "start_time": "2022-08-25T09:00:18.467Z"
   },
   {
    "duration": 700,
    "start_time": "2022-08-25T09:00:18.867Z"
   },
   {
    "duration": 254,
    "start_time": "2022-08-25T09:00:19.569Z"
   },
   {
    "duration": 3,
    "start_time": "2022-08-25T09:00:19.825Z"
   },
   {
    "duration": 153,
    "start_time": "2022-08-25T09:00:19.830Z"
   },
   {
    "duration": 11,
    "start_time": "2022-08-25T09:00:19.985Z"
   },
   {
    "duration": 4,
    "start_time": "2022-08-25T09:00:19.998Z"
   },
   {
    "duration": 22,
    "start_time": "2022-08-25T09:00:20.004Z"
   },
   {
    "duration": 24,
    "start_time": "2022-08-25T09:00:20.027Z"
   },
   {
    "duration": 23,
    "start_time": "2022-08-25T09:00:20.053Z"
   },
   {
    "duration": 550,
    "start_time": "2022-08-25T09:00:20.077Z"
   },
   {
    "duration": 5,
    "start_time": "2022-08-25T09:00:20.629Z"
   },
   {
    "duration": 88,
    "start_time": "2022-08-25T09:00:20.636Z"
   },
   {
    "duration": 5,
    "start_time": "2022-08-25T09:00:20.726Z"
   },
   {
    "duration": 5961,
    "start_time": "2022-08-25T09:00:20.732Z"
   },
   {
    "duration": 9,
    "start_time": "2022-08-25T09:00:26.695Z"
   },
   {
    "duration": 3,
    "start_time": "2022-08-25T09:00:26.706Z"
   },
   {
    "duration": 6,
    "start_time": "2022-08-25T09:00:26.710Z"
   },
   {
    "duration": 6,
    "start_time": "2022-08-25T09:00:26.717Z"
   },
   {
    "duration": 9,
    "start_time": "2022-08-25T09:00:26.725Z"
   },
   {
    "duration": 65,
    "start_time": "2022-08-25T09:00:26.736Z"
   },
   {
    "duration": 101,
    "start_time": "2022-08-25T09:00:26.805Z"
   },
   {
    "duration": 190,
    "start_time": "2022-08-25T09:00:26.908Z"
   },
   {
    "duration": 13,
    "start_time": "2022-08-25T09:00:27.100Z"
   },
   {
    "duration": 9,
    "start_time": "2022-08-25T09:00:27.114Z"
   },
   {
    "duration": 179,
    "start_time": "2022-08-25T09:00:27.125Z"
   },
   {
    "duration": 8,
    "start_time": "2022-08-25T09:00:27.305Z"
   },
   {
    "duration": 92,
    "start_time": "2022-08-25T09:00:27.317Z"
   },
   {
    "duration": 89,
    "start_time": "2022-08-25T09:00:27.411Z"
   },
   {
    "duration": 8,
    "start_time": "2022-08-25T09:00:27.501Z"
   },
   {
    "duration": 6,
    "start_time": "2022-08-25T09:00:27.510Z"
   },
   {
    "duration": 5,
    "start_time": "2022-08-25T09:00:27.518Z"
   },
   {
    "duration": 77,
    "start_time": "2022-08-25T09:00:27.525Z"
   },
   {
    "duration": 5,
    "start_time": "2022-08-25T09:00:27.603Z"
   },
   {
    "duration": 9,
    "start_time": "2022-08-25T09:00:27.610Z"
   },
   {
    "duration": 10,
    "start_time": "2022-08-25T09:00:27.699Z"
   },
   {
    "duration": 6,
    "start_time": "2022-08-25T09:00:27.711Z"
   },
   {
    "duration": 7,
    "start_time": "2022-08-25T09:00:27.798Z"
   },
   {
    "duration": 11,
    "start_time": "2022-08-25T09:00:27.807Z"
   },
   {
    "duration": 79,
    "start_time": "2022-08-25T09:00:27.819Z"
   },
   {
    "duration": 12,
    "start_time": "2022-08-25T09:00:27.900Z"
   },
   {
    "duration": 87,
    "start_time": "2022-08-25T09:00:27.913Z"
   },
   {
    "duration": 7,
    "start_time": "2022-08-25T09:00:28.002Z"
   },
   {
    "duration": 7,
    "start_time": "2022-08-25T09:00:28.010Z"
   },
   {
    "duration": 402,
    "start_time": "2022-08-25T09:01:50.412Z"
   },
   {
    "duration": 656,
    "start_time": "2022-08-25T09:01:50.816Z"
   },
   {
    "duration": 265,
    "start_time": "2022-08-25T09:01:51.473Z"
   },
   {
    "duration": 3,
    "start_time": "2022-08-25T09:01:51.740Z"
   },
   {
    "duration": 109,
    "start_time": "2022-08-25T09:01:51.745Z"
   },
   {
    "duration": 11,
    "start_time": "2022-08-25T09:01:51.855Z"
   },
   {
    "duration": 8,
    "start_time": "2022-08-25T09:01:51.867Z"
   },
   {
    "duration": 5,
    "start_time": "2022-08-25T09:01:51.876Z"
   },
   {
    "duration": 9,
    "start_time": "2022-08-25T09:01:51.883Z"
   },
   {
    "duration": 28,
    "start_time": "2022-08-25T09:01:51.895Z"
   },
   {
    "duration": 576,
    "start_time": "2022-08-25T09:01:51.925Z"
   },
   {
    "duration": 5,
    "start_time": "2022-08-25T09:01:52.510Z"
   },
   {
    "duration": 95,
    "start_time": "2022-08-25T09:01:52.517Z"
   },
   {
    "duration": 5,
    "start_time": "2022-08-25T09:01:52.614Z"
   },
   {
    "duration": 6272,
    "start_time": "2022-08-25T09:01:52.621Z"
   },
   {
    "duration": 10,
    "start_time": "2022-08-25T09:01:58.895Z"
   },
   {
    "duration": 2,
    "start_time": "2022-08-25T09:01:58.907Z"
   },
   {
    "duration": 11,
    "start_time": "2022-08-25T09:01:58.910Z"
   },
   {
    "duration": 11,
    "start_time": "2022-08-25T09:01:58.922Z"
   },
   {
    "duration": 13,
    "start_time": "2022-08-25T09:01:58.934Z"
   },
   {
    "duration": 9,
    "start_time": "2022-08-25T09:01:58.949Z"
   },
   {
    "duration": 119,
    "start_time": "2022-08-25T09:01:58.999Z"
   },
   {
    "duration": 197,
    "start_time": "2022-08-25T09:01:59.119Z"
   },
   {
    "duration": 11,
    "start_time": "2022-08-25T09:01:59.318Z"
   },
   {
    "duration": 8,
    "start_time": "2022-08-25T09:01:59.331Z"
   },
   {
    "duration": 176,
    "start_time": "2022-08-25T09:01:59.341Z"
   },
   {
    "duration": 4,
    "start_time": "2022-08-25T09:01:59.520Z"
   },
   {
    "duration": 83,
    "start_time": "2022-08-25T09:01:59.528Z"
   },
   {
    "duration": 6,
    "start_time": "2022-08-25T09:01:59.613Z"
   },
   {
    "duration": 87,
    "start_time": "2022-08-25T09:01:59.621Z"
   },
   {
    "duration": 11,
    "start_time": "2022-08-25T09:01:59.709Z"
   },
   {
    "duration": 7,
    "start_time": "2022-08-25T09:01:59.721Z"
   },
   {
    "duration": 78,
    "start_time": "2022-08-25T09:01:59.730Z"
   },
   {
    "duration": 6,
    "start_time": "2022-08-25T09:01:59.810Z"
   },
   {
    "duration": 98,
    "start_time": "2022-08-25T09:01:59.817Z"
   },
   {
    "duration": 92,
    "start_time": "2022-08-25T09:01:59.918Z"
   },
   {
    "duration": 3,
    "start_time": "2022-08-25T09:02:00.012Z"
   },
   {
    "duration": 11,
    "start_time": "2022-08-25T09:02:00.016Z"
   },
   {
    "duration": 75,
    "start_time": "2022-08-25T09:02:00.029Z"
   },
   {
    "duration": 102,
    "start_time": "2022-08-25T09:02:00.105Z"
   },
   {
    "duration": 5,
    "start_time": "2022-08-25T09:02:00.209Z"
   },
   {
    "duration": 21,
    "start_time": "2022-08-25T09:02:00.216Z"
   },
   {
    "duration": 9,
    "start_time": "2022-08-25T09:02:00.239Z"
   },
   {
    "duration": 9,
    "start_time": "2022-08-25T09:02:00.249Z"
   },
   {
    "duration": 3,
    "start_time": "2022-08-25T09:03:39.754Z"
   },
   {
    "duration": 15,
    "start_time": "2022-08-25T09:03:39.759Z"
   },
   {
    "duration": 4,
    "start_time": "2022-08-25T09:03:39.775Z"
   },
   {
    "duration": 5,
    "start_time": "2022-08-25T09:03:39.781Z"
   },
   {
    "duration": 100,
    "start_time": "2022-08-25T09:03:39.787Z"
   },
   {
    "duration": 21,
    "start_time": "2022-08-25T09:03:39.888Z"
   },
   {
    "duration": 15,
    "start_time": "2022-08-25T09:03:39.910Z"
   },
   {
    "duration": 16,
    "start_time": "2022-08-25T09:03:39.926Z"
   },
   {
    "duration": 8,
    "start_time": "2022-08-25T09:03:39.944Z"
   },
   {
    "duration": 26,
    "start_time": "2022-08-25T09:03:39.954Z"
   },
   {
    "duration": 661,
    "start_time": "2022-08-25T09:03:39.984Z"
   },
   {
    "duration": 5,
    "start_time": "2022-08-25T09:03:40.646Z"
   },
   {
    "duration": 19,
    "start_time": "2022-08-25T09:03:40.653Z"
   },
   {
    "duration": 29,
    "start_time": "2022-08-25T09:03:40.673Z"
   },
   {
    "duration": 6188,
    "start_time": "2022-08-25T09:03:40.703Z"
   },
   {
    "duration": 14,
    "start_time": "2022-08-25T09:03:46.900Z"
   },
   {
    "duration": 24,
    "start_time": "2022-08-25T09:03:46.916Z"
   },
   {
    "duration": 21,
    "start_time": "2022-08-25T09:03:46.941Z"
   },
   {
    "duration": 19,
    "start_time": "2022-08-25T09:03:46.964Z"
   },
   {
    "duration": 49,
    "start_time": "2022-08-25T09:03:46.984Z"
   },
   {
    "duration": 43,
    "start_time": "2022-08-25T09:03:47.034Z"
   },
   {
    "duration": 140,
    "start_time": "2022-08-25T09:03:47.078Z"
   },
   {
    "duration": 192,
    "start_time": "2022-08-25T09:03:47.222Z"
   },
   {
    "duration": 13,
    "start_time": "2022-08-25T09:03:47.415Z"
   },
   {
    "duration": 284,
    "start_time": "2022-08-25T09:03:47.429Z"
   },
   {
    "duration": 84,
    "start_time": "2022-08-25T09:03:47.715Z"
   },
   {
    "duration": 8,
    "start_time": "2022-08-25T09:03:47.801Z"
   },
   {
    "duration": 108,
    "start_time": "2022-08-25T09:03:47.815Z"
   },
   {
    "duration": 6,
    "start_time": "2022-08-25T09:03:47.924Z"
   },
   {
    "duration": 10,
    "start_time": "2022-08-25T09:03:47.931Z"
   },
   {
    "duration": 7,
    "start_time": "2022-08-25T09:03:47.942Z"
   },
   {
    "duration": 73,
    "start_time": "2022-08-25T09:03:47.950Z"
   },
   {
    "duration": 90,
    "start_time": "2022-08-25T09:03:48.025Z"
   },
   {
    "duration": 10,
    "start_time": "2022-08-25T09:03:48.117Z"
   },
   {
    "duration": 83,
    "start_time": "2022-08-25T09:03:48.129Z"
   },
   {
    "duration": 10,
    "start_time": "2022-08-25T09:03:48.214Z"
   },
   {
    "duration": 84,
    "start_time": "2022-08-25T09:03:48.225Z"
   },
   {
    "duration": 9,
    "start_time": "2022-08-25T09:03:48.311Z"
   },
   {
    "duration": 6,
    "start_time": "2022-08-25T09:03:48.321Z"
   },
   {
    "duration": 84,
    "start_time": "2022-08-25T09:03:48.329Z"
   },
   {
    "duration": 9,
    "start_time": "2022-08-25T09:03:48.415Z"
   },
   {
    "duration": 79,
    "start_time": "2022-08-25T09:03:48.425Z"
   },
   {
    "duration": 15,
    "start_time": "2022-08-25T09:03:48.505Z"
   },
   {
    "duration": 5,
    "start_time": "2022-08-25T09:03:48.521Z"
   },
   {
    "duration": 402,
    "start_time": "2022-08-25T09:10:21.501Z"
   },
   {
    "duration": 688,
    "start_time": "2022-08-25T09:10:21.905Z"
   },
   {
    "duration": 250,
    "start_time": "2022-08-25T09:10:22.594Z"
   },
   {
    "duration": 3,
    "start_time": "2022-08-25T09:10:22.846Z"
   },
   {
    "duration": 356,
    "start_time": "2022-08-25T09:10:22.850Z"
   },
   {
    "duration": 9,
    "start_time": "2022-08-25T09:10:23.208Z"
   },
   {
    "duration": 18,
    "start_time": "2022-08-25T09:10:23.219Z"
   },
   {
    "duration": 30,
    "start_time": "2022-08-25T09:10:23.238Z"
   },
   {
    "duration": 28,
    "start_time": "2022-08-25T09:10:23.269Z"
   },
   {
    "duration": 31,
    "start_time": "2022-08-25T09:10:23.300Z"
   },
   {
    "duration": 551,
    "start_time": "2022-08-25T09:10:23.333Z"
   },
   {
    "duration": 13,
    "start_time": "2022-08-25T09:10:23.885Z"
   },
   {
    "duration": 79,
    "start_time": "2022-08-25T09:10:23.899Z"
   },
   {
    "duration": 4,
    "start_time": "2022-08-25T09:10:23.980Z"
   },
   {
    "duration": 7071,
    "start_time": "2022-08-25T09:10:23.998Z"
   },
   {
    "duration": 10,
    "start_time": "2022-08-25T09:10:31.071Z"
   },
   {
    "duration": 25,
    "start_time": "2022-08-25T09:10:31.082Z"
   },
   {
    "duration": 22,
    "start_time": "2022-08-25T09:10:31.109Z"
   },
   {
    "duration": 19,
    "start_time": "2022-08-25T09:10:31.132Z"
   },
   {
    "duration": 13,
    "start_time": "2022-08-25T09:10:31.152Z"
   },
   {
    "duration": 16,
    "start_time": "2022-08-25T09:10:31.166Z"
   },
   {
    "duration": 215,
    "start_time": "2022-08-25T09:10:31.186Z"
   },
   {
    "duration": 4,
    "start_time": "2022-08-25T09:10:31.403Z"
   },
   {
    "duration": 14,
    "start_time": "2022-08-25T09:10:31.499Z"
   },
   {
    "duration": 10,
    "start_time": "2022-08-25T09:10:31.515Z"
   },
   {
    "duration": 174,
    "start_time": "2022-08-25T09:10:31.526Z"
   },
   {
    "duration": 96,
    "start_time": "2022-08-25T09:10:31.702Z"
   },
   {
    "duration": 79,
    "start_time": "2022-08-25T09:10:31.802Z"
   },
   {
    "duration": 15,
    "start_time": "2022-08-25T09:10:31.883Z"
   },
   {
    "duration": 11,
    "start_time": "2022-08-25T09:10:31.900Z"
   },
   {
    "duration": 12,
    "start_time": "2022-08-25T09:10:31.913Z"
   },
   {
    "duration": 6,
    "start_time": "2022-08-25T09:10:31.926Z"
   },
   {
    "duration": 69,
    "start_time": "2022-08-25T09:10:31.934Z"
   },
   {
    "duration": 96,
    "start_time": "2022-08-25T09:10:32.005Z"
   },
   {
    "duration": 16,
    "start_time": "2022-08-25T09:10:32.103Z"
   },
   {
    "duration": 87,
    "start_time": "2022-08-25T09:10:32.120Z"
   },
   {
    "duration": 91,
    "start_time": "2022-08-25T09:10:32.208Z"
   },
   {
    "duration": 25,
    "start_time": "2022-08-25T09:10:32.300Z"
   },
   {
    "duration": 176,
    "start_time": "2022-08-25T09:10:32.327Z"
   },
   {
    "duration": 95,
    "start_time": "2022-08-25T09:10:32.504Z"
   },
   {
    "duration": 4,
    "start_time": "2022-08-25T09:10:32.601Z"
   },
   {
    "duration": 8,
    "start_time": "2022-08-25T09:10:32.607Z"
   },
   {
    "duration": 102,
    "start_time": "2022-08-25T09:10:32.616Z"
   },
   {
    "duration": 18,
    "start_time": "2022-08-25T09:10:32.720Z"
   },
   {
    "duration": 358,
    "start_time": "2022-08-25T09:12:49.446Z"
   },
   {
    "duration": 743,
    "start_time": "2022-08-25T09:12:49.806Z"
   },
   {
    "duration": 218,
    "start_time": "2022-08-25T09:12:50.551Z"
   },
   {
    "duration": 3,
    "start_time": "2022-08-25T09:12:50.771Z"
   },
   {
    "duration": 94,
    "start_time": "2022-08-25T09:12:50.775Z"
   },
   {
    "duration": 10,
    "start_time": "2022-08-25T09:12:50.871Z"
   },
   {
    "duration": 7,
    "start_time": "2022-08-25T09:12:50.882Z"
   },
   {
    "duration": 6,
    "start_time": "2022-08-25T09:12:50.891Z"
   },
   {
    "duration": 10,
    "start_time": "2022-08-25T09:12:50.898Z"
   },
   {
    "duration": 24,
    "start_time": "2022-08-25T09:12:50.911Z"
   },
   {
    "duration": 576,
    "start_time": "2022-08-25T09:12:50.936Z"
   },
   {
    "duration": 7,
    "start_time": "2022-08-25T09:12:51.514Z"
   },
   {
    "duration": 89,
    "start_time": "2022-08-25T09:12:51.522Z"
   },
   {
    "duration": 5,
    "start_time": "2022-08-25T09:12:51.612Z"
   },
   {
    "duration": 5995,
    "start_time": "2022-08-25T09:12:51.618Z"
   },
   {
    "duration": 9,
    "start_time": "2022-08-25T09:12:57.615Z"
   },
   {
    "duration": 3,
    "start_time": "2022-08-25T09:12:57.626Z"
   },
   {
    "duration": 9,
    "start_time": "2022-08-25T09:12:57.630Z"
   },
   {
    "duration": 6,
    "start_time": "2022-08-25T09:12:57.640Z"
   },
   {
    "duration": 8,
    "start_time": "2022-08-25T09:12:57.647Z"
   },
   {
    "duration": 8,
    "start_time": "2022-08-25T09:12:57.656Z"
   },
   {
    "duration": 102,
    "start_time": "2022-08-25T09:12:57.701Z"
   },
   {
    "duration": 195,
    "start_time": "2022-08-25T09:12:57.806Z"
   },
   {
    "duration": 15,
    "start_time": "2022-08-25T09:12:58.003Z"
   },
   {
    "duration": 12,
    "start_time": "2022-08-25T09:12:58.020Z"
   },
   {
    "duration": 107,
    "start_time": "2022-08-25T09:12:58.100Z"
   },
   {
    "duration": 13,
    "start_time": "2022-08-25T09:12:58.208Z"
   },
   {
    "duration": 80,
    "start_time": "2022-08-25T09:12:58.224Z"
   },
   {
    "duration": 99,
    "start_time": "2022-08-25T09:12:58.306Z"
   },
   {
    "duration": 8,
    "start_time": "2022-08-25T09:12:58.407Z"
   },
   {
    "duration": 8,
    "start_time": "2022-08-25T09:12:58.417Z"
   },
   {
    "duration": 7,
    "start_time": "2022-08-25T09:12:58.427Z"
   },
   {
    "duration": 68,
    "start_time": "2022-08-25T09:12:58.435Z"
   },
   {
    "duration": 13,
    "start_time": "2022-08-25T09:12:58.505Z"
   },
   {
    "duration": 87,
    "start_time": "2022-08-25T09:12:58.519Z"
   },
   {
    "duration": 93,
    "start_time": "2022-08-25T09:12:58.608Z"
   },
   {
    "duration": 3,
    "start_time": "2022-08-25T09:12:58.703Z"
   },
   {
    "duration": 25,
    "start_time": "2022-08-25T09:12:58.707Z"
   },
   {
    "duration": 65,
    "start_time": "2022-08-25T09:12:58.734Z"
   },
   {
    "duration": 98,
    "start_time": "2022-08-25T09:12:58.801Z"
   },
   {
    "duration": 4,
    "start_time": "2022-08-25T09:12:58.900Z"
   },
   {
    "duration": 23,
    "start_time": "2022-08-25T09:12:58.906Z"
   },
   {
    "duration": 8,
    "start_time": "2022-08-25T09:12:58.930Z"
   },
   {
    "duration": 13,
    "start_time": "2022-08-25T09:12:58.940Z"
   },
   {
    "duration": 474,
    "start_time": "2022-08-25T09:17:14.060Z"
   },
   {
    "duration": 747,
    "start_time": "2022-08-25T09:17:14.536Z"
   },
   {
    "duration": 287,
    "start_time": "2022-08-25T09:17:15.285Z"
   },
   {
    "duration": 3,
    "start_time": "2022-08-25T09:17:15.574Z"
   },
   {
    "duration": 122,
    "start_time": "2022-08-25T09:17:15.578Z"
   },
   {
    "duration": 12,
    "start_time": "2022-08-25T09:17:15.702Z"
   },
   {
    "duration": 19,
    "start_time": "2022-08-25T09:17:15.716Z"
   },
   {
    "duration": 14,
    "start_time": "2022-08-25T09:17:15.737Z"
   },
   {
    "duration": 28,
    "start_time": "2022-08-25T09:17:15.753Z"
   },
   {
    "duration": 26,
    "start_time": "2022-08-25T09:17:15.784Z"
   },
   {
    "duration": 580,
    "start_time": "2022-08-25T09:17:15.811Z"
   },
   {
    "duration": 6,
    "start_time": "2022-08-25T09:17:16.397Z"
   },
   {
    "duration": 86,
    "start_time": "2022-08-25T09:17:16.404Z"
   },
   {
    "duration": 10,
    "start_time": "2022-08-25T09:17:16.492Z"
   },
   {
    "duration": 6053,
    "start_time": "2022-08-25T09:17:16.504Z"
   },
   {
    "duration": 10,
    "start_time": "2022-08-25T09:17:22.559Z"
   },
   {
    "duration": 4,
    "start_time": "2022-08-25T09:17:22.571Z"
   },
   {
    "duration": 19,
    "start_time": "2022-08-25T09:17:22.577Z"
   },
   {
    "duration": 9,
    "start_time": "2022-08-25T09:17:22.598Z"
   },
   {
    "duration": 10,
    "start_time": "2022-08-25T09:17:22.609Z"
   },
   {
    "duration": 77,
    "start_time": "2022-08-25T09:17:22.620Z"
   },
   {
    "duration": 6,
    "start_time": "2022-08-25T09:17:22.700Z"
   },
   {
    "duration": 199,
    "start_time": "2022-08-25T09:17:22.707Z"
   },
   {
    "duration": 17,
    "start_time": "2022-08-25T09:17:22.908Z"
   },
   {
    "duration": 13,
    "start_time": "2022-08-25T09:17:22.926Z"
   },
   {
    "duration": 172,
    "start_time": "2022-08-25T09:17:22.941Z"
   },
   {
    "duration": 85,
    "start_time": "2022-08-25T09:17:23.114Z"
   },
   {
    "duration": 104,
    "start_time": "2022-08-25T09:17:23.203Z"
   },
   {
    "duration": 6,
    "start_time": "2022-08-25T09:17:23.308Z"
   },
   {
    "duration": 9,
    "start_time": "2022-08-25T09:17:23.315Z"
   },
   {
    "duration": 7,
    "start_time": "2022-08-25T09:17:23.326Z"
   },
   {
    "duration": 62,
    "start_time": "2022-08-25T09:17:23.338Z"
   },
   {
    "duration": 19,
    "start_time": "2022-08-25T09:17:23.402Z"
   },
   {
    "duration": 18,
    "start_time": "2022-08-25T09:17:23.498Z"
   },
   {
    "duration": 92,
    "start_time": "2022-08-25T09:17:23.518Z"
   },
   {
    "duration": 90,
    "start_time": "2022-08-25T09:17:23.613Z"
   },
   {
    "duration": 9,
    "start_time": "2022-08-25T09:17:23.705Z"
   },
   {
    "duration": 10,
    "start_time": "2022-08-25T09:17:23.715Z"
   },
   {
    "duration": 73,
    "start_time": "2022-08-25T09:17:23.729Z"
   },
   {
    "duration": 13,
    "start_time": "2022-08-25T09:17:23.804Z"
   },
   {
    "duration": 91,
    "start_time": "2022-08-25T09:17:23.819Z"
   },
   {
    "duration": 9,
    "start_time": "2022-08-25T09:17:23.911Z"
   },
   {
    "duration": 14,
    "start_time": "2022-08-25T09:17:23.998Z"
   },
   {
    "duration": 15,
    "start_time": "2022-08-25T09:17:24.014Z"
   },
   {
    "duration": 397,
    "start_time": "2022-08-25T09:21:39.319Z"
   },
   {
    "duration": 825,
    "start_time": "2022-08-25T09:21:39.718Z"
   },
   {
    "duration": 255,
    "start_time": "2022-08-25T09:21:40.544Z"
   },
   {
    "duration": 3,
    "start_time": "2022-08-25T09:21:40.801Z"
   },
   {
    "duration": 141,
    "start_time": "2022-08-25T09:21:40.807Z"
   },
   {
    "duration": 11,
    "start_time": "2022-08-25T09:21:40.949Z"
   },
   {
    "duration": 9,
    "start_time": "2022-08-25T09:21:40.962Z"
   },
   {
    "duration": 8,
    "start_time": "2022-08-25T09:21:40.973Z"
   },
   {
    "duration": 11,
    "start_time": "2022-08-25T09:21:40.983Z"
   },
   {
    "duration": 21,
    "start_time": "2022-08-25T09:21:40.996Z"
   },
   {
    "duration": 578,
    "start_time": "2022-08-25T09:21:41.018Z"
   },
   {
    "duration": 5,
    "start_time": "2022-08-25T09:21:41.601Z"
   },
   {
    "duration": 91,
    "start_time": "2022-08-25T09:21:41.607Z"
   },
   {
    "duration": 4,
    "start_time": "2022-08-25T09:21:41.701Z"
   },
   {
    "duration": 6263,
    "start_time": "2022-08-25T09:21:41.707Z"
   },
   {
    "duration": 11,
    "start_time": "2022-08-25T09:21:47.971Z"
   },
   {
    "duration": 4,
    "start_time": "2022-08-25T09:21:47.984Z"
   },
   {
    "duration": 5,
    "start_time": "2022-08-25T09:21:47.989Z"
   },
   {
    "duration": 7,
    "start_time": "2022-08-25T09:21:47.996Z"
   },
   {
    "duration": 6,
    "start_time": "2022-08-25T09:21:48.004Z"
   },
   {
    "duration": 88,
    "start_time": "2022-08-25T09:21:48.011Z"
   },
   {
    "duration": 105,
    "start_time": "2022-08-25T09:21:48.100Z"
   },
   {
    "duration": 95,
    "start_time": "2022-08-25T09:21:48.207Z"
   },
   {
    "duration": 104,
    "start_time": "2022-08-25T09:21:48.303Z"
   },
   {
    "duration": 10,
    "start_time": "2022-08-25T09:21:48.409Z"
   },
   {
    "duration": 179,
    "start_time": "2022-08-25T09:21:48.420Z"
   },
   {
    "duration": 8,
    "start_time": "2022-08-25T09:21:48.601Z"
   },
   {
    "duration": 92,
    "start_time": "2022-08-25T09:21:48.611Z"
   },
   {
    "duration": 7,
    "start_time": "2022-08-25T09:21:48.704Z"
   },
   {
    "duration": 9,
    "start_time": "2022-08-25T09:21:48.713Z"
   },
   {
    "duration": 11,
    "start_time": "2022-08-25T09:21:48.723Z"
   },
   {
    "duration": 4,
    "start_time": "2022-08-25T09:21:48.736Z"
   },
   {
    "duration": 63,
    "start_time": "2022-08-25T09:21:48.742Z"
   },
   {
    "duration": 7,
    "start_time": "2022-08-25T09:21:48.806Z"
   },
   {
    "duration": 89,
    "start_time": "2022-08-25T09:21:48.815Z"
   },
   {
    "duration": 11,
    "start_time": "2022-08-25T09:21:48.905Z"
   },
   {
    "duration": 83,
    "start_time": "2022-08-25T09:21:48.917Z"
   },
   {
    "duration": 12,
    "start_time": "2022-08-25T09:21:49.002Z"
   },
   {
    "duration": 85,
    "start_time": "2022-08-25T09:21:49.016Z"
   },
   {
    "duration": 13,
    "start_time": "2022-08-25T09:21:49.103Z"
   },
   {
    "duration": 5,
    "start_time": "2022-08-25T09:21:49.198Z"
   },
   {
    "duration": 14,
    "start_time": "2022-08-25T09:21:49.204Z"
   },
   {
    "duration": 6,
    "start_time": "2022-08-25T09:21:49.298Z"
   },
   {
    "duration": 11,
    "start_time": "2022-08-25T09:21:49.305Z"
   },
   {
    "duration": 3,
    "start_time": "2022-08-25T09:23:37.619Z"
   },
   {
    "duration": 369,
    "start_time": "2022-08-25T09:23:42.945Z"
   },
   {
    "duration": 746,
    "start_time": "2022-08-25T09:23:43.316Z"
   },
   {
    "duration": 249,
    "start_time": "2022-08-25T09:23:44.063Z"
   },
   {
    "duration": 3,
    "start_time": "2022-08-25T09:23:44.314Z"
   },
   {
    "duration": 157,
    "start_time": "2022-08-25T09:23:44.318Z"
   },
   {
    "duration": 13,
    "start_time": "2022-08-25T09:23:44.476Z"
   },
   {
    "duration": 18,
    "start_time": "2022-08-25T09:23:44.491Z"
   },
   {
    "duration": 11,
    "start_time": "2022-08-25T09:23:44.511Z"
   },
   {
    "duration": 23,
    "start_time": "2022-08-25T09:23:44.524Z"
   },
   {
    "duration": 26,
    "start_time": "2022-08-25T09:23:44.551Z"
   },
   {
    "duration": 596,
    "start_time": "2022-08-25T09:23:44.579Z"
   },
   {
    "duration": 5,
    "start_time": "2022-08-25T09:23:45.177Z"
   },
   {
    "duration": 105,
    "start_time": "2022-08-25T09:23:45.185Z"
   },
   {
    "duration": 7,
    "start_time": "2022-08-25T09:23:45.292Z"
   },
   {
    "duration": 6292,
    "start_time": "2022-08-25T09:23:45.301Z"
   },
   {
    "duration": 10,
    "start_time": "2022-08-25T09:23:51.595Z"
   },
   {
    "duration": 3,
    "start_time": "2022-08-25T09:23:51.606Z"
   },
   {
    "duration": 5,
    "start_time": "2022-08-25T09:23:51.611Z"
   },
   {
    "duration": 15,
    "start_time": "2022-08-25T09:23:51.617Z"
   },
   {
    "duration": 6,
    "start_time": "2022-08-25T09:23:51.633Z"
   },
   {
    "duration": 59,
    "start_time": "2022-08-25T09:23:51.640Z"
   },
   {
    "duration": 110,
    "start_time": "2022-08-25T09:23:51.701Z"
   },
   {
    "duration": 84,
    "start_time": "2022-08-25T09:23:51.816Z"
   },
   {
    "duration": 96,
    "start_time": "2022-08-25T09:23:51.902Z"
   },
   {
    "duration": 10,
    "start_time": "2022-08-25T09:23:52.000Z"
   },
   {
    "duration": 90,
    "start_time": "2022-08-25T09:23:52.012Z"
   },
   {
    "duration": 5,
    "start_time": "2022-08-25T09:23:52.103Z"
   },
   {
    "duration": 93,
    "start_time": "2022-08-25T09:23:52.111Z"
   },
   {
    "duration": 92,
    "start_time": "2022-08-25T09:23:52.207Z"
   },
   {
    "duration": 7,
    "start_time": "2022-08-25T09:23:52.301Z"
   },
   {
    "duration": 10,
    "start_time": "2022-08-25T09:23:52.310Z"
   },
   {
    "duration": 76,
    "start_time": "2022-08-25T09:23:52.322Z"
   },
   {
    "duration": 9,
    "start_time": "2022-08-25T09:23:52.400Z"
   },
   {
    "duration": 86,
    "start_time": "2022-08-25T09:23:52.411Z"
   },
   {
    "duration": 9,
    "start_time": "2022-08-25T09:23:52.499Z"
   },
   {
    "duration": 91,
    "start_time": "2022-08-25T09:23:52.509Z"
   },
   {
    "duration": 7,
    "start_time": "2022-08-25T09:23:52.601Z"
   },
   {
    "duration": 10,
    "start_time": "2022-08-25T09:23:52.609Z"
   },
   {
    "duration": 7,
    "start_time": "2022-08-25T09:23:52.620Z"
   },
   {
    "duration": 70,
    "start_time": "2022-08-25T09:23:52.629Z"
   },
   {
    "duration": 6,
    "start_time": "2022-08-25T09:23:52.701Z"
   },
   {
    "duration": 92,
    "start_time": "2022-08-25T09:23:52.709Z"
   },
   {
    "duration": 4,
    "start_time": "2022-08-25T09:23:52.802Z"
   },
   {
    "duration": 8,
    "start_time": "2022-08-25T09:23:52.808Z"
   },
   {
    "duration": 3,
    "start_time": "2022-08-25T09:34:57.742Z"
   },
   {
    "duration": 12,
    "start_time": "2022-08-25T09:34:57.748Z"
   },
   {
    "duration": 5,
    "start_time": "2022-08-25T09:34:57.761Z"
   },
   {
    "duration": 6,
    "start_time": "2022-08-25T09:34:57.767Z"
   },
   {
    "duration": 98,
    "start_time": "2022-08-25T09:34:57.775Z"
   },
   {
    "duration": 10,
    "start_time": "2022-08-25T09:34:57.875Z"
   },
   {
    "duration": 7,
    "start_time": "2022-08-25T09:34:57.887Z"
   },
   {
    "duration": 8,
    "start_time": "2022-08-25T09:34:57.895Z"
   },
   {
    "duration": 15,
    "start_time": "2022-08-25T09:34:57.904Z"
   },
   {
    "duration": 22,
    "start_time": "2022-08-25T09:34:57.920Z"
   },
   {
    "duration": 601,
    "start_time": "2022-08-25T09:34:57.943Z"
   },
   {
    "duration": 5,
    "start_time": "2022-08-25T09:34:58.546Z"
   },
   {
    "duration": 32,
    "start_time": "2022-08-25T09:34:58.552Z"
   },
   {
    "duration": 4,
    "start_time": "2022-08-25T09:34:58.587Z"
   },
   {
    "duration": 5979,
    "start_time": "2022-08-25T09:34:58.598Z"
   },
   {
    "duration": 20,
    "start_time": "2022-08-25T09:35:04.579Z"
   },
   {
    "duration": 8,
    "start_time": "2022-08-25T09:35:04.600Z"
   },
   {
    "duration": 11,
    "start_time": "2022-08-25T09:35:04.609Z"
   },
   {
    "duration": 10,
    "start_time": "2022-08-25T09:35:04.621Z"
   },
   {
    "duration": 9,
    "start_time": "2022-08-25T09:35:04.632Z"
   },
   {
    "duration": 57,
    "start_time": "2022-08-25T09:35:04.642Z"
   },
   {
    "duration": 100,
    "start_time": "2022-08-25T09:35:04.702Z"
   },
   {
    "duration": 94,
    "start_time": "2022-08-25T09:35:04.804Z"
   },
   {
    "duration": 108,
    "start_time": "2022-08-25T09:35:04.900Z"
   },
   {
    "duration": 289,
    "start_time": "2022-08-25T09:35:05.010Z"
   },
   {
    "duration": 101,
    "start_time": "2022-08-25T09:35:05.302Z"
   },
   {
    "duration": 95,
    "start_time": "2022-08-25T09:35:05.404Z"
   },
   {
    "duration": 100,
    "start_time": "2022-08-25T09:35:05.500Z"
   },
   {
    "duration": 11,
    "start_time": "2022-08-25T09:35:05.601Z"
   },
   {
    "duration": 6,
    "start_time": "2022-08-25T09:35:05.614Z"
   },
   {
    "duration": 6,
    "start_time": "2022-08-25T09:35:05.621Z"
   },
   {
    "duration": 5,
    "start_time": "2022-08-25T09:35:05.629Z"
   },
   {
    "duration": 65,
    "start_time": "2022-08-25T09:35:05.636Z"
   },
   {
    "duration": 5,
    "start_time": "2022-08-25T09:35:05.703Z"
   },
   {
    "duration": 91,
    "start_time": "2022-08-25T09:35:05.710Z"
   },
   {
    "duration": 16,
    "start_time": "2022-08-25T09:35:05.803Z"
   },
   {
    "duration": 77,
    "start_time": "2022-08-25T09:35:05.821Z"
   },
   {
    "duration": 25,
    "start_time": "2022-08-25T09:35:05.900Z"
   },
   {
    "duration": 7,
    "start_time": "2022-08-25T09:35:05.926Z"
   },
   {
    "duration": 64,
    "start_time": "2022-08-25T09:35:05.935Z"
   },
   {
    "duration": 5,
    "start_time": "2022-08-25T09:35:06.003Z"
   },
   {
    "duration": 90,
    "start_time": "2022-08-25T09:35:06.009Z"
   },
   {
    "duration": 4,
    "start_time": "2022-08-25T09:35:06.101Z"
   },
   {
    "duration": 7,
    "start_time": "2022-08-25T09:35:06.106Z"
   },
   {
    "duration": 373,
    "start_time": "2022-08-25T09:42:02.521Z"
   },
   {
    "duration": 767,
    "start_time": "2022-08-25T09:42:02.896Z"
   },
   {
    "duration": 247,
    "start_time": "2022-08-25T09:42:03.665Z"
   },
   {
    "duration": 3,
    "start_time": "2022-08-25T09:42:03.914Z"
   },
   {
    "duration": 143,
    "start_time": "2022-08-25T09:42:03.918Z"
   },
   {
    "duration": 12,
    "start_time": "2022-08-25T09:42:04.063Z"
   },
   {
    "duration": 9,
    "start_time": "2022-08-25T09:42:04.077Z"
   },
   {
    "duration": 6,
    "start_time": "2022-08-25T09:42:04.088Z"
   },
   {
    "duration": 10,
    "start_time": "2022-08-25T09:42:04.096Z"
   },
   {
    "duration": 20,
    "start_time": "2022-08-25T09:42:04.108Z"
   },
   {
    "duration": 615,
    "start_time": "2022-08-25T09:42:04.129Z"
   },
   {
    "duration": 7,
    "start_time": "2022-08-25T09:42:04.745Z"
   },
   {
    "duration": 80,
    "start_time": "2022-08-25T09:42:04.753Z"
   },
   {
    "duration": 5,
    "start_time": "2022-08-25T09:42:04.834Z"
   },
   {
    "duration": 6021,
    "start_time": "2022-08-25T09:42:04.840Z"
   },
   {
    "duration": 10,
    "start_time": "2022-08-25T09:42:10.863Z"
   },
   {
    "duration": 4,
    "start_time": "2022-08-25T09:42:10.875Z"
   },
   {
    "duration": 5,
    "start_time": "2022-08-25T09:42:10.881Z"
   },
   {
    "duration": 7,
    "start_time": "2022-08-25T09:42:10.887Z"
   },
   {
    "duration": 10,
    "start_time": "2022-08-25T09:42:10.896Z"
   },
   {
    "duration": 10,
    "start_time": "2022-08-25T09:42:10.908Z"
   },
   {
    "duration": 182,
    "start_time": "2022-08-25T09:42:10.919Z"
   },
   {
    "duration": 98,
    "start_time": "2022-08-25T09:42:11.103Z"
   },
   {
    "duration": 21,
    "start_time": "2022-08-25T09:42:11.203Z"
   },
   {
    "duration": 78,
    "start_time": "2022-08-25T09:42:11.225Z"
   },
   {
    "duration": 96,
    "start_time": "2022-08-25T09:42:11.305Z"
   },
   {
    "duration": 100,
    "start_time": "2022-08-25T09:42:11.403Z"
   },
   {
    "duration": 6,
    "start_time": "2022-08-25T09:42:11.508Z"
   },
   {
    "duration": 3,
    "start_time": "2022-08-25T09:42:11.599Z"
   },
   {
    "duration": 7,
    "start_time": "2022-08-25T09:42:11.603Z"
   },
   {
    "duration": 6,
    "start_time": "2022-08-25T09:42:11.611Z"
   },
   {
    "duration": 6,
    "start_time": "2022-08-25T09:42:11.618Z"
   },
   {
    "duration": 77,
    "start_time": "2022-08-25T09:42:11.625Z"
   },
   {
    "duration": 7,
    "start_time": "2022-08-25T09:42:11.703Z"
   },
   {
    "duration": 87,
    "start_time": "2022-08-25T09:42:11.712Z"
   },
   {
    "duration": 14,
    "start_time": "2022-08-25T09:42:11.801Z"
   },
   {
    "duration": 83,
    "start_time": "2022-08-25T09:42:11.816Z"
   },
   {
    "duration": 6,
    "start_time": "2022-08-25T09:42:11.901Z"
   },
   {
    "duration": 92,
    "start_time": "2022-08-25T09:42:11.909Z"
   },
   {
    "duration": 9,
    "start_time": "2022-08-25T09:42:12.003Z"
   },
   {
    "duration": 6,
    "start_time": "2022-08-25T09:42:12.013Z"
   },
   {
    "duration": 7,
    "start_time": "2022-08-25T09:42:12.098Z"
   },
   {
    "duration": 7,
    "start_time": "2022-08-25T09:42:12.106Z"
   },
   {
    "duration": 84,
    "start_time": "2022-08-25T09:42:12.115Z"
   },
   {
    "duration": 442,
    "start_time": "2022-08-26T03:25:32.559Z"
   },
   {
    "duration": 746,
    "start_time": "2022-08-26T03:25:33.003Z"
   },
   {
    "duration": 362,
    "start_time": "2022-08-26T03:25:33.750Z"
   },
   {
    "duration": 3,
    "start_time": "2022-08-26T03:25:34.114Z"
   },
   {
    "duration": 177,
    "start_time": "2022-08-26T03:25:34.120Z"
   },
   {
    "duration": 11,
    "start_time": "2022-08-26T03:25:34.298Z"
   },
   {
    "duration": 7,
    "start_time": "2022-08-26T03:25:34.311Z"
   },
   {
    "duration": 6,
    "start_time": "2022-08-26T03:25:34.319Z"
   },
   {
    "duration": 9,
    "start_time": "2022-08-26T03:25:34.326Z"
   },
   {
    "duration": 19,
    "start_time": "2022-08-26T03:25:34.337Z"
   },
   {
    "duration": 616,
    "start_time": "2022-08-26T03:25:34.358Z"
   },
   {
    "duration": 11,
    "start_time": "2022-08-26T03:25:34.976Z"
   },
   {
    "duration": 80,
    "start_time": "2022-08-26T03:25:34.989Z"
   },
   {
    "duration": 15,
    "start_time": "2022-08-26T03:25:35.072Z"
   },
   {
    "duration": 6370,
    "start_time": "2022-08-26T03:25:35.089Z"
   },
   {
    "duration": 9,
    "start_time": "2022-08-26T03:25:41.461Z"
   },
   {
    "duration": 3,
    "start_time": "2022-08-26T03:25:41.471Z"
   },
   {
    "duration": 10,
    "start_time": "2022-08-26T03:25:41.475Z"
   },
   {
    "duration": 4,
    "start_time": "2022-08-26T03:25:41.486Z"
   },
   {
    "duration": 6,
    "start_time": "2022-08-26T03:25:41.491Z"
   },
   {
    "duration": 12,
    "start_time": "2022-08-26T03:25:41.499Z"
   },
   {
    "duration": 105,
    "start_time": "2022-08-26T03:25:41.585Z"
   },
   {
    "duration": 105,
    "start_time": "2022-08-26T03:25:41.692Z"
   },
   {
    "duration": 22,
    "start_time": "2022-08-26T03:25:41.798Z"
   },
   {
    "duration": 68,
    "start_time": "2022-08-26T03:25:41.821Z"
   },
   {
    "duration": 97,
    "start_time": "2022-08-26T03:25:41.891Z"
   },
   {
    "duration": 96,
    "start_time": "2022-08-26T03:25:41.990Z"
   },
   {
    "duration": 11,
    "start_time": "2022-08-26T03:25:42.088Z"
   },
   {
    "duration": 86,
    "start_time": "2022-08-26T03:25:42.101Z"
   },
   {
    "duration": 7,
    "start_time": "2022-08-26T03:25:42.188Z"
   },
   {
    "duration": 5,
    "start_time": "2022-08-26T03:25:42.197Z"
   },
   {
    "duration": 6,
    "start_time": "2022-08-26T03:25:42.203Z"
   },
   {
    "duration": 76,
    "start_time": "2022-08-26T03:25:42.210Z"
   },
   {
    "duration": 5,
    "start_time": "2022-08-26T03:25:42.288Z"
   },
   {
    "duration": 99,
    "start_time": "2022-08-26T03:25:42.295Z"
   },
   {
    "duration": 8,
    "start_time": "2022-08-26T03:25:42.395Z"
   },
   {
    "duration": 84,
    "start_time": "2022-08-26T03:25:42.405Z"
   },
   {
    "duration": 9,
    "start_time": "2022-08-26T03:25:42.491Z"
   },
   {
    "duration": 6,
    "start_time": "2022-08-26T03:25:42.502Z"
   },
   {
    "duration": 76,
    "start_time": "2022-08-26T03:25:42.509Z"
   },
   {
    "duration": 10,
    "start_time": "2022-08-26T03:25:42.589Z"
   },
   {
    "duration": 86,
    "start_time": "2022-08-26T03:25:42.600Z"
   },
   {
    "duration": 4,
    "start_time": "2022-08-26T03:25:42.688Z"
   },
   {
    "duration": 6,
    "start_time": "2022-08-26T03:25:42.694Z"
   },
   {
    "duration": 15,
    "start_time": "2022-08-26T03:27:52.892Z"
   },
   {
    "duration": 12,
    "start_time": "2022-08-26T03:28:38.578Z"
   },
   {
    "duration": 3,
    "start_time": "2022-08-26T03:28:59.067Z"
   },
   {
    "duration": 12,
    "start_time": "2022-08-26T03:29:11.062Z"
   },
   {
    "duration": 398,
    "start_time": "2022-08-26T03:29:55.680Z"
   },
   {
    "duration": 46,
    "start_time": "2022-08-26T06:35:59.028Z"
   },
   {
    "duration": 395,
    "start_time": "2022-08-26T06:36:07.060Z"
   },
   {
    "duration": 843,
    "start_time": "2022-08-26T06:36:07.456Z"
   },
   {
    "duration": 229,
    "start_time": "2022-08-26T06:36:08.301Z"
   },
   {
    "duration": 3,
    "start_time": "2022-08-26T06:36:08.532Z"
   },
   {
    "duration": 143,
    "start_time": "2022-08-26T06:36:08.537Z"
   },
   {
    "duration": 12,
    "start_time": "2022-08-26T06:36:08.682Z"
   },
   {
    "duration": 22,
    "start_time": "2022-08-26T06:36:08.696Z"
   },
   {
    "duration": 22,
    "start_time": "2022-08-26T06:36:08.719Z"
   },
   {
    "duration": 13,
    "start_time": "2022-08-26T06:36:08.743Z"
   },
   {
    "duration": 32,
    "start_time": "2022-08-26T06:36:08.759Z"
   },
   {
    "duration": 609,
    "start_time": "2022-08-26T06:36:08.793Z"
   },
   {
    "duration": 8,
    "start_time": "2022-08-26T06:36:09.404Z"
   },
   {
    "duration": 107,
    "start_time": "2022-08-26T06:36:09.414Z"
   },
   {
    "duration": 5,
    "start_time": "2022-08-26T06:36:09.523Z"
   },
   {
    "duration": 6485,
    "start_time": "2022-08-26T06:36:09.529Z"
   },
   {
    "duration": 9,
    "start_time": "2022-08-26T06:36:16.016Z"
   },
   {
    "duration": 14,
    "start_time": "2022-08-26T06:36:16.027Z"
   },
   {
    "duration": 22,
    "start_time": "2022-08-26T06:36:16.043Z"
   },
   {
    "duration": 34,
    "start_time": "2022-08-26T06:36:16.066Z"
   },
   {
    "duration": 14,
    "start_time": "2022-08-26T06:36:16.102Z"
   },
   {
    "duration": 31,
    "start_time": "2022-08-26T06:36:16.117Z"
   },
   {
    "duration": 122,
    "start_time": "2022-08-26T06:36:16.150Z"
   },
   {
    "duration": 0,
    "start_time": "2022-08-26T06:36:16.274Z"
   },
   {
    "duration": 0,
    "start_time": "2022-08-26T06:36:16.275Z"
   },
   {
    "duration": 0,
    "start_time": "2022-08-26T06:36:16.276Z"
   },
   {
    "duration": 0,
    "start_time": "2022-08-26T06:36:16.277Z"
   },
   {
    "duration": 0,
    "start_time": "2022-08-26T06:36:16.278Z"
   },
   {
    "duration": 0,
    "start_time": "2022-08-26T06:36:16.279Z"
   },
   {
    "duration": 0,
    "start_time": "2022-08-26T06:36:16.280Z"
   },
   {
    "duration": 0,
    "start_time": "2022-08-26T06:36:16.281Z"
   },
   {
    "duration": 0,
    "start_time": "2022-08-26T06:36:16.282Z"
   },
   {
    "duration": 0,
    "start_time": "2022-08-26T06:36:16.283Z"
   },
   {
    "duration": 0,
    "start_time": "2022-08-26T06:36:16.284Z"
   },
   {
    "duration": 0,
    "start_time": "2022-08-26T06:36:16.285Z"
   },
   {
    "duration": 0,
    "start_time": "2022-08-26T06:36:16.286Z"
   },
   {
    "duration": 0,
    "start_time": "2022-08-26T06:36:16.309Z"
   },
   {
    "duration": 0,
    "start_time": "2022-08-26T06:36:16.310Z"
   },
   {
    "duration": 0,
    "start_time": "2022-08-26T06:36:16.311Z"
   },
   {
    "duration": 1,
    "start_time": "2022-08-26T06:36:16.312Z"
   },
   {
    "duration": 0,
    "start_time": "2022-08-26T06:36:16.314Z"
   },
   {
    "duration": 0,
    "start_time": "2022-08-26T06:36:16.315Z"
   },
   {
    "duration": 0,
    "start_time": "2022-08-26T06:36:16.316Z"
   },
   {
    "duration": 0,
    "start_time": "2022-08-26T06:36:16.317Z"
   },
   {
    "duration": 0,
    "start_time": "2022-08-26T06:36:16.318Z"
   },
   {
    "duration": 0,
    "start_time": "2022-08-26T06:36:16.319Z"
   },
   {
    "duration": 0,
    "start_time": "2022-08-26T06:36:16.320Z"
   },
   {
    "duration": 0,
    "start_time": "2022-08-26T06:36:16.321Z"
   },
   {
    "duration": 0,
    "start_time": "2022-08-26T06:36:16.322Z"
   },
   {
    "duration": 5,
    "start_time": "2022-08-26T06:38:09.775Z"
   },
   {
    "duration": 15,
    "start_time": "2022-08-26T06:38:10.867Z"
   },
   {
    "duration": 84,
    "start_time": "2022-08-26T06:38:15.242Z"
   },
   {
    "duration": 155,
    "start_time": "2022-08-26T06:38:16.456Z"
   },
   {
    "duration": 431,
    "start_time": "2022-08-26T07:16:59.886Z"
   },
   {
    "duration": 734,
    "start_time": "2022-08-26T07:17:00.319Z"
   },
   {
    "duration": 242,
    "start_time": "2022-08-26T07:17:01.055Z"
   },
   {
    "duration": 4,
    "start_time": "2022-08-26T07:17:01.299Z"
   },
   {
    "duration": 1038,
    "start_time": "2022-08-26T07:17:01.304Z"
   },
   {
    "duration": 16,
    "start_time": "2022-08-26T07:17:02.344Z"
   },
   {
    "duration": 22,
    "start_time": "2022-08-26T07:17:02.361Z"
   },
   {
    "duration": 22,
    "start_time": "2022-08-26T07:17:02.385Z"
   },
   {
    "duration": 28,
    "start_time": "2022-08-26T07:17:02.409Z"
   },
   {
    "duration": 26,
    "start_time": "2022-08-26T07:17:02.440Z"
   },
   {
    "duration": 627,
    "start_time": "2022-08-26T07:17:02.468Z"
   },
   {
    "duration": 17,
    "start_time": "2022-08-26T07:17:03.096Z"
   },
   {
    "duration": 105,
    "start_time": "2022-08-26T07:17:03.115Z"
   },
   {
    "duration": 6,
    "start_time": "2022-08-26T07:17:03.222Z"
   },
   {
    "duration": 6708,
    "start_time": "2022-08-26T07:17:03.230Z"
   },
   {
    "duration": 11,
    "start_time": "2022-08-26T07:17:09.940Z"
   },
   {
    "duration": 4,
    "start_time": "2022-08-26T07:17:09.953Z"
   },
   {
    "duration": 13,
    "start_time": "2022-08-26T07:17:09.959Z"
   },
   {
    "duration": 28,
    "start_time": "2022-08-26T07:17:09.974Z"
   },
   {
    "duration": 18,
    "start_time": "2022-08-26T07:17:10.003Z"
   },
   {
    "duration": 10,
    "start_time": "2022-08-26T07:17:10.023Z"
   },
   {
    "duration": 24,
    "start_time": "2022-08-26T07:17:10.035Z"
   },
   {
    "duration": 89,
    "start_time": "2022-08-26T07:17:10.061Z"
   },
   {
    "duration": 264,
    "start_time": "2022-08-26T07:17:10.152Z"
   },
   {
    "duration": 97,
    "start_time": "2022-08-26T07:17:10.418Z"
   },
   {
    "duration": 207,
    "start_time": "2022-08-26T07:17:10.517Z"
   },
   {
    "duration": 5,
    "start_time": "2022-08-26T07:17:10.811Z"
   },
   {
    "duration": 106,
    "start_time": "2022-08-26T07:17:10.821Z"
   },
   {
    "duration": 13,
    "start_time": "2022-08-26T07:17:10.929Z"
   },
   {
    "duration": 173,
    "start_time": "2022-08-26T07:17:10.944Z"
   },
   {
    "duration": 91,
    "start_time": "2022-08-26T07:17:11.120Z"
   },
   {
    "duration": 97,
    "start_time": "2022-08-26T07:17:11.214Z"
   },
   {
    "duration": 8,
    "start_time": "2022-08-26T07:17:11.313Z"
   },
   {
    "duration": 6,
    "start_time": "2022-08-26T07:17:11.323Z"
   },
   {
    "duration": 7,
    "start_time": "2022-08-26T07:17:11.331Z"
   },
   {
    "duration": 69,
    "start_time": "2022-08-26T07:17:11.341Z"
   },
   {
    "duration": 97,
    "start_time": "2022-08-26T07:17:11.412Z"
   },
   {
    "duration": 9,
    "start_time": "2022-08-26T07:17:11.511Z"
   },
   {
    "duration": 5,
    "start_time": "2022-08-26T07:17:11.521Z"
   },
   {
    "duration": 7,
    "start_time": "2022-08-26T07:17:11.528Z"
   },
   {
    "duration": 8,
    "start_time": "2022-08-26T07:17:11.537Z"
   },
   {
    "duration": 8,
    "start_time": "2022-08-26T07:17:11.547Z"
   },
   {
    "duration": 8,
    "start_time": "2022-08-26T07:17:11.556Z"
   },
   {
    "duration": 6,
    "start_time": "2022-08-26T07:17:11.566Z"
   }
  ],
  "kernelspec": {
   "display_name": "Python 3 (ipykernel)",
   "language": "python",
   "name": "python3"
  },
  "language_info": {
   "codemirror_mode": {
    "name": "ipython",
    "version": 3
   },
   "file_extension": ".py",
   "mimetype": "text/x-python",
   "name": "python",
   "nbconvert_exporter": "python",
   "pygments_lexer": "ipython3",
   "version": "3.9.13"
  },
  "toc": {
   "base_numbering": 1,
   "nav_menu": {},
   "number_sections": true,
   "sideBar": true,
   "skip_h1_title": true,
   "title_cell": "Содержание",
   "title_sidebar": "Contents",
   "toc_cell": true,
   "toc_position": {},
   "toc_section_display": true,
   "toc_window_display": true
  }
 },
 "nbformat": 4,
 "nbformat_minor": 2
}
